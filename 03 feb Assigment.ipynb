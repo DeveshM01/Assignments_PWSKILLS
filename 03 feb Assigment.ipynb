{
 "cells": [
  {
   "cell_type": "raw",
   "id": "050bfaa9-ce84-435a-a503-36203ea86ca9",
   "metadata": {},
   "source": [
    "03 Feb Assingment"
   ]
  },
  {
   "cell_type": "raw",
   "id": "386d1be6-ff30-4640-b800-0e03b8271f1e",
   "metadata": {},
   "source": [
    "Q1. Which keyword is used to create a function? Create a function to return a list of odd numbers in the  range of 1 to 25. \n"
   ]
  },
  {
   "cell_type": "raw",
   "id": "77c29ae3-d02a-4a69-b271-4e87688281e1",
   "metadata": {},
   "source": [
    "The keyword used to create a function in most programming languages is \"def\" (short for \"define\"). Here's an example of a function in Python that returns a list of odd numbers in the range of 1 to 25:"
   ]
  },
  {
   "cell_type": "code",
   "execution_count": 3,
   "id": "051d2f72-1b41-4a1c-a53a-be78d6c59dc3",
   "metadata": {},
   "outputs": [
    {
     "name": "stdout",
     "output_type": "stream",
     "text": [
      "[1, 3, 5, 7, 9, 11, 13, 15, 17, 19, 21, 23, 25]\n"
     ]
    }
   ],
   "source": [
    "def get_odd_numbers():\n",
    "    odd_numbers = []\n",
    "    for num in range(1, 26):\n",
    "        if num % 2 != 0:\n",
    "            odd_numbers.append(num)\n",
    "    return odd_numbers\n",
    "\n",
    "# Call the function\n",
    "result = get_odd_numbers()\n",
    "print(result)\n"
   ]
  },
  {
   "cell_type": "raw",
   "id": "a30d3e4f-1dc2-443b-a612-dd1d3ddcd7df",
   "metadata": {},
   "source": [
    "Q2. Why *args and **kwargs is used in some functions? Create a function each for *args and **kwargs  to demonstrate their use. \n"
   ]
  },
  {
   "cell_type": "raw",
   "id": "333bab04-f151-4402-851d-96175ad51a7c",
   "metadata": {},
   "source": [
    "In Python, *args and **kwargs are used as parameters in function definitions to allow for a variable number of arguments to be passed to the function.\n",
    "\n",
    "The *args parameter allows you to pass any number of positional arguments to a function. It collects these arguments into a tuple within the function. The asterisk (*) before \"args\" unpacks the arguments into a tuple.\n",
    "\n",
    "Here's an example of a function that uses *args to accept a variable number of arguments and prints them:"
   ]
  },
  {
   "cell_type": "code",
   "execution_count": 4,
   "id": "4d986721-3318-49fb-8a69-a8b4320a1342",
   "metadata": {},
   "outputs": [
    {
     "name": "stdout",
     "output_type": "stream",
     "text": [
      "1\n",
      "2\n",
      "3\n",
      "apple\n",
      "banana\n",
      "orange\n",
      "grape\n"
     ]
    }
   ],
   "source": [
    "def print_arguments(*args):\n",
    "    for arg in args:\n",
    "        print(arg)\n",
    "\n",
    "# Call the function with different number of arguments\n",
    "print_arguments(1, 2, 3)\n",
    "print_arguments('apple', 'banana', 'orange', 'grape')\n"
   ]
  },
  {
   "cell_type": "raw",
   "id": "2709077c-f8ca-42a4-94fd-d9cba3588f72",
   "metadata": {},
   "source": [
    "The **kwargs parameter allows you to pass any number of keyword arguments to a function. It collects these arguments into a dictionary within the function. The double asterisks (**) before \"kwargs\" unpacks the keyword arguments into a dictionary.\n",
    "\n",
    "Here's an example of a function that uses **kwargs to accept a variable number of keyword arguments and prints them:"
   ]
  },
  {
   "cell_type": "code",
   "execution_count": 6,
   "id": "8d8a875f-283a-4c83-9039-450ca56f29fa",
   "metadata": {},
   "outputs": [
    {
     "name": "stdout",
     "output_type": "stream",
     "text": [
      "name = John\n",
      "age = 25\n",
      "country = USA\n",
      "language = English\n",
      "population = 328200000\n"
     ]
    }
   ],
   "source": [
    "def print_keyword_arguments(**kwargs):\n",
    "    for key, value in kwargs.items():\n",
    "        print(key, \"=\", value)\n",
    "\n",
    "# Call the function with different keyword arguments\n",
    "print_keyword_arguments(name='John', age=25)\n",
    "print_keyword_arguments(country='USA', language='English', population=328200000)\n"
   ]
  },
  {
   "cell_type": "raw",
   "id": "82f2c2bd-1e5c-4243-b4d7-210ff313905a",
   "metadata": {},
   "source": [
    "Q3.  What is an iterator in python? Name the method used to initialise the iterator object and the method  used for iteration. Use these methods to print the first five elements of the given list [2, 4, 6, 8, 10, 12, 14,  16, 18, 20]. \n"
   ]
  },
  {
   "cell_type": "raw",
   "id": "36f1e6bf-1759-46f0-9a33-80055646d254",
   "metadata": {},
   "source": [
    "In Python, an iterator is an object that implements the iterator protocol, which consists of two methods: __iter__() and __next__().\n",
    "\n",
    "The __iter__() method is used to initialize the iterator object and returns the iterator itself. It is called when you want to iterate over an object using a loop or other iterable constructs.\n",
    "\n",
    "The __next__() method is used for iteration. It returns the next item from the iterator. If there are no more items to return, it raises the StopIteration exception.\n",
    "\n",
    "Here's an example of using an iterator to print the first five elements of the given list [2, 4, 6, 8, 10, 12, 14, 16, 18, 20]:"
   ]
  },
  {
   "cell_type": "code",
   "execution_count": 7,
   "id": "594299f5-fea3-4ffb-bb70-40843d1da1d5",
   "metadata": {},
   "outputs": [
    {
     "name": "stdout",
     "output_type": "stream",
     "text": [
      "2\n",
      "4\n",
      "6\n",
      "8\n",
      "10\n"
     ]
    }
   ],
   "source": [
    "my_list = [2, 4, 6, 8, 10, 12, 14, 16, 18, 20]\n",
    "\n",
    "# Create an iterator object\n",
    "my_iter = iter(my_list)\n",
    "\n",
    "# Iterate and print the first five elements\n",
    "for _ in range(5):\n",
    "    element = next(my_iter)\n",
    "    print(element)\n"
   ]
  },
  {
   "cell_type": "raw",
   "id": "c509cd79-b24b-45e4-8979-0dc0558fa9ff",
   "metadata": {},
   "source": [
    "Q4.  What is a generator function in python? Why yield keyword is used? Give an example of a generator  function. \n"
   ]
  },
  {
   "cell_type": "raw",
   "id": "9630deb1-aee0-4997-a82a-ee7a903329ed",
   "metadata": {},
   "source": [
    "In Python, a generator function is a special type of function that generates a sequence of values, one at a time, instead of returning a single value like a regular function. It uses the yield keyword instead of return to yield a value and suspend the function's execution temporarily. The generator function can later be resumed from where it left off, allowing it to produce a series of values on-the-fly, conserving memory and improving performance.\n",
    "\n",
    "The yield keyword is used in generator functions to indicate the value that should be generated and returned to the caller. When the generator function is called, it returns a generator object, which can be iterated over using a loop or other iterable constructs. Each time the yield statement is encountered during iteration, the function's state is frozen, and the yielded value is returned. When the next value is requested, the function resumes its execution from where it left off, continuing until the next yield statement is encountered.\n",
    "\n",
    "Here's an example of a generator function that generates a sequence of even numbers up to a given limit:"
   ]
  },
  {
   "cell_type": "code",
   "execution_count": 8,
   "id": "bf134120-1fab-4fd2-97df-b1de93b584ad",
   "metadata": {},
   "outputs": [
    {
     "name": "stdout",
     "output_type": "stream",
     "text": [
      "0\n",
      "2\n",
      "4\n",
      "6\n",
      "8\n",
      "10\n"
     ]
    }
   ],
   "source": [
    "def generate_even_numbers(limit):\n",
    "    num = 0\n",
    "    while num <= limit:\n",
    "        yield num\n",
    "        num += 2\n",
    "\n",
    "# Create a generator object\n",
    "even_generator = generate_even_numbers(10)\n",
    "\n",
    "# Iterate and print the generated even numbers\n",
    "for num in even_generator:\n",
    "    print(num)\n"
   ]
  },
  {
   "cell_type": "raw",
   "id": "ee02e56b-195f-48d3-9776-cd80674bf736",
   "metadata": {},
   "source": [
    "Q5. Create a generator function for prime numbers less than 1000. Use the next() method to print the  first 20 prime numbers. \n"
   ]
  },
  {
   "cell_type": "raw",
   "id": "b31e7d82-dcb0-4d11-a53b-758044cf140f",
   "metadata": {},
   "source": [
    "Certainly! Here's an example of a generator function that generates prime numbers less than 1000 and prints the first 20 prime numbers using the next() method:"
   ]
  },
  {
   "cell_type": "code",
   "execution_count": 9,
   "id": "beddd04f-8d7e-421c-a501-7dd52184e366",
   "metadata": {},
   "outputs": [
    {
     "name": "stdout",
     "output_type": "stream",
     "text": [
      "2\n",
      "3\n",
      "5\n",
      "7\n",
      "11\n",
      "13\n",
      "17\n",
      "19\n",
      "23\n",
      "29\n",
      "31\n",
      "37\n",
      "41\n",
      "43\n",
      "47\n",
      "53\n",
      "59\n",
      "61\n",
      "67\n",
      "71\n"
     ]
    }
   ],
   "source": [
    "def generate_primes():\n",
    "    primes = []\n",
    "    num = 2\n",
    "    while True:\n",
    "        if all(num % prime != 0 for prime in primes):\n",
    "            yield num\n",
    "            primes.append(num)\n",
    "        num += 1\n",
    "\n",
    "# Create a generator object\n",
    "prime_generator = generate_primes()\n",
    "\n",
    "# Print the first 20 prime numbers\n",
    "for _ in range(20):\n",
    "    prime = next(prime_generator)\n",
    "    print(prime)\n"
   ]
  },
  {
   "cell_type": "raw",
   "id": "5fe5b8c5-21cf-419d-8eae-e06402c3228c",
   "metadata": {},
   "source": [
    "Q6. Write a python program to print the first 10 Fibonacci numbers using a while loop. \n"
   ]
  },
  {
   "cell_type": "raw",
   "id": "4f8609e5-48a8-49e3-9ee5-14570255bb74",
   "metadata": {},
   "source": [
    "\n",
    "Certainly! Here's a Python program that uses a while loop to print the first 10 Fibonacci numbers:"
   ]
  },
  {
   "cell_type": "code",
   "execution_count": 10,
   "id": "30918a80-dd25-49a4-94d9-a96ae9030815",
   "metadata": {},
   "outputs": [
    {
     "name": "stdout",
     "output_type": "stream",
     "text": [
      "0\n",
      "1\n",
      "1\n",
      "2\n",
      "3\n",
      "5\n",
      "8\n",
      "13\n",
      "21\n",
      "34\n"
     ]
    }
   ],
   "source": [
    "# Initialize variables for the first two Fibonacci numbers\n",
    "num1, num2 = 0, 1\n",
    "\n",
    "# Counter for the number of Fibonacci numbers printed\n",
    "count = 0\n",
    "\n",
    "# Print the first 10 Fibonacci numbers using a while loop\n",
    "while count < 10:\n",
    "    print(num1)\n",
    "\n",
    "    # Calculate the next Fibonacci number\n",
    "    next_num = num1 + num2\n",
    "\n",
    "    # Update the values of num1 and num2 for the next iteration\n",
    "    num1 = num2\n",
    "    num2 = next_num\n",
    "\n",
    "    # Increment the count\n",
    "    count += 1\n"
   ]
  },
  {
   "cell_type": "raw",
   "id": "33ad7f10-1845-478e-8ef5-d333a7ee09a0",
   "metadata": {},
   "source": [
    "Q7. Write a List Comprehension to iterate through the given string: ‘pwskills’. \n",
    "Expected output: ['p', 'w', 's', 'k', 'i', 'l', 'l', 's']  \n"
   ]
  },
  {
   "cell_type": "raw",
   "id": "3bf28d87-0285-4fdc-b954-048f0526fc78",
   "metadata": {},
   "source": [
    "\n",
    "You can use a list comprehension to iterate through the given string 'pwskills' and create a new list containing the desired characters. Here's an example:"
   ]
  },
  {
   "cell_type": "code",
   "execution_count": 11,
   "id": "74474ee8-c9f5-430e-8f21-7db4b188cd8b",
   "metadata": {},
   "outputs": [
    {
     "name": "stdout",
     "output_type": "stream",
     "text": [
      "['p', 'w', 's', 'k', 'i', 'l', 'l', 's']\n"
     ]
    }
   ],
   "source": [
    "string = 'pwskills'\n",
    "\n",
    "result = [char for char in string]\n",
    "\n",
    "print(result)\n"
   ]
  },
  {
   "cell_type": "raw",
   "id": "e909b614-d40c-4611-93c2-4a52dab866ee",
   "metadata": {},
   "source": [
    "Q8. Write a python program to check whether a given number is Palindrome or not using a while loop. "
   ]
  },
  {
   "cell_type": "raw",
   "id": "27b95a37-bdc4-4aa8-9527-6410aaf97aa7",
   "metadata": {},
   "source": [
    "Sure! Here's a Python program that checks whether a given number is a palindrome or not using a while loop:"
   ]
  },
  {
   "cell_type": "code",
   "execution_count": 12,
   "id": "dfdf33cf-b131-45f3-a9ff-72acea90fc6b",
   "metadata": {},
   "outputs": [
    {
     "name": "stdout",
     "output_type": "stream",
     "text": [
      "12321 is a palindrome\n"
     ]
    }
   ],
   "source": [
    "def is_palindrome(number):\n",
    "    temp = number\n",
    "    reverse = 0\n",
    "\n",
    "    while temp > 0:\n",
    "        digit = temp % 10\n",
    "        reverse = reverse * 10 + digit\n",
    "        temp //= 10\n",
    "\n",
    "    if number == reverse:\n",
    "        return True\n",
    "    else:\n",
    "        return False\n",
    "\n",
    "# Example usage\n",
    "num = 12321\n",
    "\n",
    "if is_palindrome(num):\n",
    "    print(num, \"is a palindrome\")\n",
    "else:\n",
    "    print(num, \"is not a palindrome\")\n"
   ]
  },
  {
   "cell_type": "raw",
   "id": "fe9def65-bd47-45f0-a91b-f617848c65f1",
   "metadata": {},
   "source": [
    "Q9. Write a code to print odd numbers from 1 to 100 using list comprehension. \n",
    "Note: Use a list comprehension to create a list from 1 to 100 and use another List comprehension to filter  out odd numbers. \n"
   ]
  },
  {
   "cell_type": "code",
   "execution_count": 13,
   "id": "6886c5a5-66ac-4d15-956a-7e8d2a2e9931",
   "metadata": {},
   "outputs": [
    {
     "name": "stdout",
     "output_type": "stream",
     "text": [
      "[1, 3, 5, 7, 9, 11, 13, 15, 17, 19, 21, 23, 25, 27, 29, 31, 33, 35, 37, 39, 41, 43, 45, 47, 49, 51, 53, 55, 57, 59, 61, 63, 65, 67, 69, 71, 73, 75, 77, 79, 81, 83, 85, 87, 89, 91, 93, 95, 97, 99]\n"
     ]
    }
   ],
   "source": [
    "odd_numbers = [num for num in range(1, 101) if num % 2 != 0]\n",
    "\n",
    "print(odd_numbers)\n"
   ]
  },
  {
   "cell_type": "code",
   "execution_count": null,
   "id": "7e364f44-7e46-401e-a461-d4d03b54d1c2",
   "metadata": {},
   "outputs": [],
   "source": []
  }
 ],
 "metadata": {
  "kernelspec": {
   "display_name": "Python 3 (ipykernel)",
   "language": "python",
   "name": "python3"
  },
  "language_info": {
   "codemirror_mode": {
    "name": "ipython",
    "version": 3
   },
   "file_extension": ".py",
   "mimetype": "text/x-python",
   "name": "python",
   "nbconvert_exporter": "python",
   "pygments_lexer": "ipython3",
   "version": "3.10.8"
  }
 },
 "nbformat": 4,
 "nbformat_minor": 5
}
