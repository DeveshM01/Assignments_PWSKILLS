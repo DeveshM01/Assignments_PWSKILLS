{
 "cells": [
  {
   "cell_type": "markdown",
   "id": "272c2d76-55a7-413f-bc39-78125d834947",
   "metadata": {},
   "source": [
    "09th Feb Assigment"
   ]
  },
  {
   "cell_type": "raw",
   "id": "4a6e4421-851c-420b-b8fe-486dbca1d5ea",
   "metadata": {},
   "source": [
    "Q1, Create a vehicle class with an init method having instance variables as name_of_vehicle, max_speed  and average_of_vehicle. "
   ]
  },
  {
   "cell_type": "code",
   "execution_count": 5,
   "id": "d00f13b0-a4aa-4c49-be6f-9782f379d363",
   "metadata": {},
   "outputs": [],
   "source": [
    "class Vehicle:\n",
    "    def __init__(self, name_of_vehicle, max_speed, average_of_vehicle):\n",
    "        self.name_of_vehicle = name_of_vehicle\n",
    "        self.max_speed = max_speed\n",
    "        self.average_of_vehicle = average_of_vehicle\n"
   ]
  },
  {
   "cell_type": "code",
   "execution_count": 6,
   "id": "0d26d341-446e-4cbe-bcf9-d04213b53fdb",
   "metadata": {},
   "outputs": [],
   "source": [
    "car = Vehicle(\"Car\", 200, 40)\n",
    "\n"
   ]
  },
  {
   "cell_type": "raw",
   "id": "d3ac2ce5-8931-4268-ac51-0924526aefde",
   "metadata": {},
   "source": [
    "Q2.  Create a child class car from the vehicle class created in Que 1, which will inherit the vehicle class.  Create a method named seating_capacity which takes capacity as an argument and returns the name of  the vehicle and its seating capacity."
   ]
  },
  {
   "cell_type": "code",
   "execution_count": 8,
   "id": "195a998c-f8f8-4026-8dbf-8b9deb39e099",
   "metadata": {},
   "outputs": [],
   "source": [
    "class Car(Vehicle):\n",
    "    def seating_capacity(self, capacity):\n",
    "        return f\"{self.name_of_vehicle} has a seating capacity of {capacity} people.\"\n"
   ]
  },
  {
   "cell_type": "raw",
   "id": "4d4fad33-e760-4c9c-874c-0a7fe5da8b62",
   "metadata": {},
   "source": [
    "Q3. What is multiple inheritance? Write a python code to demonstrate multiple inheritance."
   ]
  },
  {
   "cell_type": "raw",
   "id": "dd3369bc-ddd4-4632-a442-649f9c7a5933",
   "metadata": {},
   "source": [
    "Multiple inheritance is a feature in object-oriented programming where a class can inherit attributes and methods from multiple parent classes. This allows a child class to inherit and combine the features and behaviors of multiple classes.\n",
    "\n",
    "Here's an example that demonstrates multiple inheritance in Python:"
   ]
  },
  {
   "cell_type": "code",
   "execution_count": 10,
   "id": "64bce219-200d-4574-9cf1-84fef5219ed9",
   "metadata": {},
   "outputs": [
    {
     "name": "stdout",
     "output_type": "stream",
     "text": [
      "The animal is speaking.\n",
      "The mammal is walking.\n",
      "Buddy is barking.\n"
     ]
    }
   ],
   "source": [
    "class Animal:\n",
    "    def speak(self):\n",
    "        print(\"The animal is speaking.\")\n",
    "\n",
    "class Mammal:\n",
    "    def walk(self):\n",
    "        print(\"The mammal is walking.\")\n",
    "\n",
    "class Dog(Animal, Mammal):\n",
    "    def __init__(self, name):\n",
    "        self.name = name\n",
    "\n",
    "    def bark(self):\n",
    "        print(f\"{self.name} is barking.\")\n",
    "\n",
    "dog = Dog(\"Buddy\")\n",
    "dog.speak()  # Output: The animal is speaking.\n",
    "dog.walk()  # Output: The mammal is walking.\n",
    "dog.bark()  # Output: Buddy is barking.\n"
   ]
  },
  {
   "cell_type": "raw",
   "id": "7165b78c-17cf-4276-a11e-223cd8a839cb",
   "metadata": {},
   "source": [
    "Q4. What are getter and setter in python? Create a class and create a getter and a setter method in this  class. \n"
   ]
  },
  {
   "cell_type": "raw",
   "id": "51bd4105-ba68-4274-bca1-dd52b0355bd1",
   "metadata": {},
   "source": [
    "\n",
    "In Python, getters and setters are methods used to control access to the attributes of a class. They provide an interface to retrieve and modify the values of private attributes of an object. Getters are used to retrieve the values, and setters are used to modify or set the values of the attributes.\n",
    "\n",
    "Here's an example of a class called Person with a private attribute age. We will create getter and setter methods for the age attribute:"
   ]
  },
  {
   "cell_type": "code",
   "execution_count": 11,
   "id": "aa097298-87d3-4b04-bfdc-57543155d552",
   "metadata": {},
   "outputs": [
    {
     "name": "stdout",
     "output_type": "stream",
     "text": [
      "25\n",
      "30\n"
     ]
    }
   ],
   "source": [
    "class Person:\n",
    "    def __init__(self, name, age):\n",
    "        self._name = name\n",
    "        self._age = age\n",
    "\n",
    "    def get_age(self):\n",
    "        return self._age\n",
    "\n",
    "    def set_age(self, age):\n",
    "        if age > 0:\n",
    "            self._age = age\n",
    "\n",
    "# Create an instance of the Person class\n",
    "person = Person(\"Alice\", 25)\n",
    "\n",
    "# Get the age using the getter method\n",
    "print(person.get_age())  # Output: 25\n",
    "\n",
    "# Set a new age using the setter method\n",
    "person.set_age(30)\n",
    "\n",
    "# Get the updated age using the getter method\n",
    "print(person.get_age())  # Output: 30\n"
   ]
  },
  {
   "cell_type": "raw",
   "id": "833b7a2a-7ed6-4037-a684-12251d832a68",
   "metadata": {},
   "source": [
    "Q5.What is method overriding in python? Write a python code to demonstrate method overriding. \n"
   ]
  },
  {
   "cell_type": "raw",
   "id": "3b77186f-2f24-4f34-b250-97736701e920",
   "metadata": {},
   "source": [
    "Method overriding is a concept in object-oriented programming where a subclass provides its own implementation of a method that is already defined in its parent class. The overridden method in the subclass has the same name and signature as the method in the parent class, but it provides a different implementation.\n",
    "\n",
    "Here's an example that demonstrates method overriding in Python:"
   ]
  },
  {
   "cell_type": "code",
   "execution_count": 12,
   "id": "04a999d1-7429-436b-bee4-2387ca0a0d74",
   "metadata": {},
   "outputs": [
    {
     "name": "stdout",
     "output_type": "stream",
     "text": [
      "The dog barks.\n",
      "The cat meows.\n"
     ]
    }
   ],
   "source": [
    "class Animal:\n",
    "    def sound(self):\n",
    "        print(\"The animal makes a sound.\")\n",
    "\n",
    "class Dog(Animal):\n",
    "    def sound(self):\n",
    "        print(\"The dog barks.\")\n",
    "\n",
    "class Cat(Animal):\n",
    "    def sound(self):\n",
    "        print(\"The cat meows.\")\n",
    "\n",
    "# Create instances of the Dog and Cat classes\n",
    "dog = Dog()\n",
    "cat = Cat()\n",
    "\n",
    "# Call the overridden sound() method\n",
    "dog.sound()  # Output: The dog barks.\n",
    "cat.sound()  # Output: The cat meows.\n"
   ]
  },
  {
   "cell_type": "code",
   "execution_count": null,
   "id": "e1885433-9edf-49c4-997e-90be5e1ccca7",
   "metadata": {},
   "outputs": [],
   "source": []
  }
 ],
 "metadata": {
  "kernelspec": {
   "display_name": "Python 3 (ipykernel)",
   "language": "python",
   "name": "python3"
  },
  "language_info": {
   "codemirror_mode": {
    "name": "ipython",
    "version": 3
   },
   "file_extension": ".py",
   "mimetype": "text/x-python",
   "name": "python",
   "nbconvert_exporter": "python",
   "pygments_lexer": "ipython3",
   "version": "3.10.8"
  }
 },
 "nbformat": 4,
 "nbformat_minor": 5
}
