{
 "cells": [
  {
   "cell_type": "raw",
   "id": "b8fd06b1-27ea-4e6c-85de-49f555f0bb28",
   "metadata": {},
   "source": [
    "05 Feb Assigment"
   ]
  },
  {
   "cell_type": "raw",
   "id": "f2f1b8ec-f6be-47ef-9bee-218df72e13a2",
   "metadata": {},
   "source": [
    "Q1. Explain Class and Object with respect to Object-Oriented Programming. Give a suitable example."
   ]
  },
  {
   "cell_type": "raw",
   "id": "4431a11d-d31a-4515-bfbf-526080f26d78",
   "metadata": {},
   "source": [
    "In object-oriented programming (OOP), a class is a blueprint or template for creating objects. It defines the properties (attributes) and behaviors (methods) that an object of that class will have. The class serves as a blueprint that describes how objects of that class should be structured and what actions they can perform.\n",
    "\n",
    "An object, on the other hand, is an instance of a class. It is a concrete entity that can be created based on the class definition. An object has its own unique state and behavior, but it adheres to the structure and behavior defined by its class.\n",
    "\n",
    "Let's consider an example to understand this concept better:\n",
    "\n",
    "Class: Animal\n",
    "Description: A class that represents animals. It defines the common attributes and behaviors that animals possess.\n",
    "\n",
    "Attributes:\n",
    "\n",
    "name: the name of the animal\n",
    "age: the age of the animal\n",
    "Methods:\n",
    "\n",
    "eat(): represents the action of the animal eating\n",
    "sleep(): represents the action of the animal sleeping\n",
    "Object: dog\n",
    "Description: An object created from the Animal class. It represents a specific dog with its own name, age, and behaviors.\n",
    "\n",
    "Attributes (object-specific values):\n",
    "\n",
    "name: \"Buddy\"\n",
    "age: 5\n",
    "Methods (inherited from the Animal class):\n",
    "\n",
    "eat(): This dog will eat according to the behavior defined in the Animal class.\n",
    "sleep(): This dog will sleep according to the behavior defined in the Animal class.\n",
    "In this example, the Animal class acts as a blueprint for creating objects representing various animals. The \"dog\" object is a specific instance of the Animal class, with its own unique attributes and behaviors."
   ]
  },
  {
   "cell_type": "raw",
   "id": "3f9ec4e1-7686-45ad-af3a-40188702f28d",
   "metadata": {},
   "source": [
    "Q2. Name the four pillars of OOPs. \n"
   ]
  },
  {
   "cell_type": "raw",
   "id": "93baa3b4-2170-4234-b742-d1b23b016fd5",
   "metadata": {},
   "source": [
    "The four pillars of object-oriented programming (OOP) are:\n",
    "\n",
    "Encapsulation: Encapsulation is the practice of hiding the internal details and implementation of an object and exposing only the necessary information through methods or interfaces. It helps in achieving data security and code modularity by preventing direct access to an object's internal state.\n",
    "\n",
    "Inheritance: Inheritance allows objects to inherit properties and behaviors from a parent class or superclass. It enables code reuse and the creation of hierarchical relationships between classes. A subclass can inherit attributes and methods from its superclass, and it can also add its own specific attributes and methods.\n",
    "\n",
    "Polymorphism: Polymorphism refers to the ability of objects to take on multiple forms or have multiple behaviors. It allows objects of different classes to be treated as objects of a common superclass. Polymorphism enables flexibility and extensibility in the design of programs, as objects can be used interchangeably, and their specific behaviors can be determined at runtime.\n",
    "\n",
    "Abstraction: Abstraction involves the concept of representing essential features without including the background details or complexities. It allows the creation of abstract classes and interfaces that define common properties and behaviors without specifying their implementation. Abstraction helps in managing complexity, improving code maintainability, and achieving a higher level of modularity.\n",
    "\n",
    "These four pillars form the foundation of object-oriented programming and provide principles and concepts for designing and implementing robust, modular, and reusable code."
   ]
  },
  {
   "cell_type": "raw",
   "id": "038ab09e-6ab7-4b7d-b490-347e45cdae03",
   "metadata": {},
   "source": [
    "Q3. Explain why the __init__() function is used. Give a suitable example. \n"
   ]
  },
  {
   "cell_type": "raw",
   "id": "039bcc68-4964-45e2-8fea-2844053c5688",
   "metadata": {},
   "source": [
    "The __init__() function, also known as the constructor, is used in object-oriented programming languages like Python to initialize the state of an object when it is created from a class. It is a special method that gets automatically called when a new object is instantiated from the class.\n",
    "\n",
    "The primary purpose of the __init__() function is to set up the initial values of the object's attributes or perform any necessary setup tasks before the object is ready for use. It allows you to define and assign values to the object's attributes at the moment of creation.\n",
    "\n",
    "Here's an example to illustrate the use of the __init__() function:"
   ]
  },
  {
   "cell_type": "code",
   "execution_count": 1,
   "id": "a4aad7be-c79f-49ba-9603-4b457654756c",
   "metadata": {},
   "outputs": [
    {
     "name": "stdout",
     "output_type": "stream",
     "text": [
      "John\n",
      "30\n",
      "Name: John, Age: 25\n",
      "Name: Alice, Age: 30\n"
     ]
    }
   ],
   "source": [
    "class Person:\n",
    "    def __init__(self, name, age):\n",
    "        self.name = name\n",
    "        self.age = age\n",
    "\n",
    "    def display_info(self):\n",
    "        print(f\"Name: {self.name}, Age: {self.age}\")\n",
    "\n",
    "\n",
    "# Creating objects from the Person class\n",
    "person1 = Person(\"John\", 25)\n",
    "person2 = Person(\"Alice\", 30)\n",
    "\n",
    "# Accessing object attributes\n",
    "print(person1.name)  # Output: John\n",
    "print(person2.age)   # Output: 30\n",
    "\n",
    "# Calling object methods\n",
    "person1.display_info()  # Output: Name: John, Age: 25\n",
    "person2.display_info()  # Output: Name: Alice, Age: 30\n"
   ]
  },
  {
   "cell_type": "raw",
   "id": "6ade4a8f-342d-450d-a958-b0cc957dba03",
   "metadata": {},
   "source": [
    "Q4. Why self is used in OOPs? \n"
   ]
  },
  {
   "cell_type": "raw",
   "id": "1ec4e0e6-b3a7-460b-ba7c-f6dfebe92012",
   "metadata": {},
   "source": [
    "In object-oriented programming (OOP), the self parameter is used to refer to the instance of a class within the class methods. It acts as a reference to the current object being manipulated or accessed. The use of self is a convention in many object-oriented programming languages, including Python.\n",
    "\n",
    "Here are the main reasons why self is used in OOP:\n",
    "\n",
    "Instance Access: When a class is instantiated, self allows methods and attributes of the class to refer to the specific instance of the object. It provides a way to access and manipulate the object's state and behavior within its own methods.\n",
    "\n",
    "Object Identity: Each object created from a class is unique and has its own separate identity. The self parameter helps differentiate one object from another. It ensures that the correct object is referenced when accessing its attributes or invoking its methods.\n",
    "\n",
    "Method Invocation: In OOP, methods are functions defined within a class that operate on the object's data. When a method is called on an object, the object itself is automatically passed as the first argument to the method, which is typically referred to as self. This allows the method to operate on the specific object it was called from.\n",
    "\n",
    "Attribute Assignment: self is used to assign values to the object's attributes within the class methods. By using self, you can set the values of the object's attributes based on the specific instance the method is being called on. It ensures that the attribute is associated with the correct object."
   ]
  },
  {
   "cell_type": "code",
   "execution_count": 2,
   "id": "a7dbc1bc-f13a-4215-8fc0-31a0cd5ca9eb",
   "metadata": {},
   "outputs": [
    {
     "name": "stdout",
     "output_type": "stream",
     "text": [
      "Hello, my name is John.\n"
     ]
    }
   ],
   "source": [
    "class Person:\n",
    "    def __init__(self, name):\n",
    "        self.name = name\n",
    "\n",
    "    def say_hello(self):\n",
    "        print(f\"Hello, my name is {self.name}.\")\n",
    "\n",
    "\n",
    "person1 = Person(\"John\")\n",
    "person1.say_hello()  # Output: Hello, my name is John.\n"
   ]
  },
  {
   "cell_type": "raw",
   "id": "2cf9fd24-e859-4aa0-8066-66667ed44d60",
   "metadata": {},
   "source": [
    "Q5. What is inheritance? Give an example for each type of inheritance. \n"
   ]
  },
  {
   "cell_type": "raw",
   "id": "04aca6ed-592c-4ac1-ab74-af28ada03d35",
   "metadata": {},
   "source": [
    "\n",
    "Inheritance is a fundamental concept in object-oriented programming (OOP) that allows a class to inherit properties and behaviors from another class. The class that inherits is called the subclass or derived class, and the class from which it inherits is called the superclass or base class. Inheritance promotes code reuse, modularity, and the creation of hierarchical relationships between classes.\n",
    "\n",
    "There are different types of inheritance in OOP:\n",
    "\n",
    "Single Inheritance: In single inheritance, a subclass inherits properties and behaviors from a single superclass. The subclass extends the superclass by adding its own unique features. It forms a simple parent-child relationship between classes."
   ]
  },
  {
   "cell_type": "code",
   "execution_count": 3,
   "id": "f6169d41-72b7-4800-a9dd-6815694e8d1b",
   "metadata": {},
   "outputs": [
    {
     "name": "stdout",
     "output_type": "stream",
     "text": [
      "Animal is eating...\n",
      "Dog is barking...\n"
     ]
    }
   ],
   "source": [
    "class Animal:\n",
    "    def eat(self):\n",
    "        print(\"Animal is eating...\")\n",
    "\n",
    "\n",
    "class Dog(Animal):\n",
    "    def bark(self):\n",
    "        print(\"Dog is barking...\")\n",
    "\n",
    "\n",
    "# Creating an object of the Dog class\n",
    "dog = Dog()\n",
    "dog.eat()  # Output: Animal is eating...\n",
    "dog.bark()  # Output: Dog is barking...\n"
   ]
  },
  {
   "cell_type": "raw",
   "id": "6cdf7b7a-c2b7-4a88-8af7-9f2ad79a3ebb",
   "metadata": {},
   "source": [
    "Multiple Inheritance: Multiple inheritance allows a subclass to inherit properties and behaviors from multiple superclasses. The subclass combines features from multiple parent classes to create a new class with its own characteristics."
   ]
  },
  {
   "cell_type": "code",
   "execution_count": 4,
   "id": "995967eb-f36d-4592-ad37-e7a57f75fc1d",
   "metadata": {},
   "outputs": [
    {
     "name": "stdout",
     "output_type": "stream",
     "text": [
      "Method A\n",
      "Method B\n",
      "Method C\n"
     ]
    }
   ],
   "source": [
    "class A:\n",
    "    def method_a(self):\n",
    "        print(\"Method A\")\n",
    "\n",
    "\n",
    "class B:\n",
    "    def method_b(self):\n",
    "        print(\"Method B\")\n",
    "\n",
    "\n",
    "class C(A, B):\n",
    "    def method_c(self):\n",
    "        print(\"Method C\")\n",
    "\n",
    "\n",
    "# Creating an object of the C class\n",
    "c = C()\n",
    "c.method_a()  # Output: Method A\n",
    "c.method_b()  # Output: Method B\n",
    "c.method_c()  # Output: Method C\n"
   ]
  },
  {
   "cell_type": "raw",
   "id": "6889debd-756a-4545-b677-0a2b3441d5db",
   "metadata": {},
   "source": [
    "Multilevel Inheritance: Multilevel inheritance involves a chain of inheritance, where a subclass inherits from another subclass. This creates a hierarchical relationship between classes, forming a parent-child-grandchild relationship."
   ]
  },
  {
   "cell_type": "code",
   "execution_count": 7,
   "id": "6384ce74-7fb5-4b8c-a6dc-3b705f57fce3",
   "metadata": {},
   "outputs": [
    {
     "name": "stdout",
     "output_type": "stream",
     "text": [
      "Vehicle started.\n",
      "Car driving...\n",
      "Sports car accelerating...\n"
     ]
    }
   ],
   "source": [
    "class Vehicle:\n",
    "    def start(self):\n",
    "        print(\"Vehicle started.\")\n",
    "\n",
    "\n",
    "class Car(Vehicle):\n",
    "    def drive(self):\n",
    "        print(\"Car driving...\")\n",
    "\n",
    "\n",
    "class SportsCar(Car):\n",
    "    def accelerate(self):\n",
    "        print(\"Sports car accelerating...\")\n",
    "\n",
    "\n",
    "# Creating an object of the SportsCar class\n",
    "sports_car = SportsCar()\n",
    "sports_car.start()  # Output: Vehicle started.\n",
    "sports_car.drive()  # Output: Car driving...\n",
    "sports_car.accelerate()  # Output: Sports car accelerating...\n"
   ]
  },
  {
   "cell_type": "code",
   "execution_count": null,
   "id": "b5826106-3bcc-43a5-85bf-67921f817f28",
   "metadata": {},
   "outputs": [],
   "source": []
  }
 ],
 "metadata": {
  "kernelspec": {
   "display_name": "Python 3 (ipykernel)",
   "language": "python",
   "name": "python3"
  },
  "language_info": {
   "codemirror_mode": {
    "name": "ipython",
    "version": 3
   },
   "file_extension": ".py",
   "mimetype": "text/x-python",
   "name": "python",
   "nbconvert_exporter": "python",
   "pygments_lexer": "ipython3",
   "version": "3.10.8"
  }
 },
 "nbformat": 4,
 "nbformat_minor": 5
}
