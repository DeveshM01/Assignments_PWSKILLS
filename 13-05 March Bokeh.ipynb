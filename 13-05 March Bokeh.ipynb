{
 "cells": [
  {
   "cell_type": "markdown",
   "id": "4426d65f-ecc5-458f-9255-a57f1e39de16",
   "metadata": {},
   "source": [
    "## Bokeh"
   ]
  },
  {
   "cell_type": "code",
   "execution_count": 1,
   "id": "c16085bd-c0ce-4703-ac7f-ca0f12d42a85",
   "metadata": {},
   "outputs": [
    {
     "data": {
      "text/plain": [
       "'\\nQ1. How can you create a Bokeh plot using Python code?\\n'"
      ]
     },
     "execution_count": 1,
     "metadata": {},
     "output_type": "execute_result"
    }
   ],
   "source": [
    "'''\n",
    "Q1. How can you create a Bokeh plot using Python code?\n",
    "'''"
   ]
  },
  {
   "cell_type": "code",
   "execution_count": 2,
   "id": "b138aa0f-d3cf-41ea-87bc-1b40100ceece",
   "metadata": {},
   "outputs": [
    {
     "data": {
      "text/plain": [
       "'\\nHere\\'s a breakdown of how you can create a Bokeh plot using Python code:\\n\\n1. Import necessary libraries:\\n\\nPython\\nfrom bokeh.plotting import figure, show\\nUse code with caution. Learn more\\nfigure: This function creates a basic plot object.\\nshow: This function displays the generated plot in your web browser.\\n2. Prepare your data:\\n\\nEnsure your data is in a structured format like a DataFrame or dictionary.\\nIdentify the variables you want to plot on the x and y axes.\\n3. Create the plot object:\\n\\nPython\\np = figure(title=\"My Bokeh Plot\", x_axis_label=\"X-axis\", y_axis_label=\"Y-axis\")\\nUse code with caution. Learn more\\np: This variable stores the plot object you\\'ll customize.\\ntitle: Sets the title of your plot.\\nx_axis_label and y_axis_label: Provide labels for your axes.\\n4. Add glyphs to the plot:\\n\\nBokeh uses \"glyphs\" to represent data points or lines on the plot. Common glyphs include:\\nline: Creates a line connecting data points.\\ncircle: Plots circles at each data point.\\nsquare: Plots squares at each data point.\\nMany other options are available for various visualizations.\\nPython\\np.circle(x=[1, 2, 3], y=[4, 6, 5], size=10, color=\"red\")\\nUse code with caution. Learn more\\nThis code adds circles to the plot with x=[1, 2, 3], y=[4, 6, 5], size 10, and color red.\\n5. Customize the plot:\\n\\nBokeh offers numerous options for customizing your plot appearance:\\nChange grid lines, colors, legends, titles, and more.\\nExplore available options in the Bokeh documentation: <invalid URL removed>\\n6. Show the plot:\\n\\nPython\\nshow(p)\\nUse code with caution. Learn more\\nThis line displays the generated plot in your web browser.\\nExample:\\n\\nHere\\'s a complete code snippet creating a simple line plot:\\n\\nPython\\nfrom bokeh.plotting import figure, show\\n\\n# Sample data\\nx = [1, 2, 3, 4, 5]\\ny = [3, 5, 7, 2, 1]\\n\\n# Create the plot\\np = figure(title=\"Line Plot\", x_axis_label=\"x\", y_axis_label=\"y\")\\n\\n# Add a line glyph\\np.line(x, y, line_width=2, color=\"blue\")\\n\\n# Show the plot\\nshow(p)\\nUse code with caution. Learn more\\nThis code will create a line plot with blue lines connecting the data points at (1, 3), (2, 5), etc.\\n\\nRemember, this is a basic example. Explore the Bokeh documentation and community resources for more advanced customizations and plot types.\\n'"
      ]
     },
     "execution_count": 2,
     "metadata": {},
     "output_type": "execute_result"
    }
   ],
   "source": [
    "'''\n",
    "Here's a breakdown of how you can create a Bokeh plot using Python code:\n",
    "\n",
    "1. Import necessary libraries:\n",
    "\n",
    "Python\n",
    "from bokeh.plotting import figure, show\n",
    "Use code with caution. Learn more\n",
    "figure: This function creates a basic plot object.\n",
    "show: This function displays the generated plot in your web browser.\n",
    "2. Prepare your data:\n",
    "\n",
    "Ensure your data is in a structured format like a DataFrame or dictionary.\n",
    "Identify the variables you want to plot on the x and y axes.\n",
    "3. Create the plot object:\n",
    "\n",
    "Python\n",
    "p = figure(title=\"My Bokeh Plot\", x_axis_label=\"X-axis\", y_axis_label=\"Y-axis\")\n",
    "Use code with caution. Learn more\n",
    "p: This variable stores the plot object you'll customize.\n",
    "title: Sets the title of your plot.\n",
    "x_axis_label and y_axis_label: Provide labels for your axes.\n",
    "4. Add glyphs to the plot:\n",
    "\n",
    "Bokeh uses \"glyphs\" to represent data points or lines on the plot. Common glyphs include:\n",
    "line: Creates a line connecting data points.\n",
    "circle: Plots circles at each data point.\n",
    "square: Plots squares at each data point.\n",
    "Many other options are available for various visualizations.\n",
    "Python\n",
    "p.circle(x=[1, 2, 3], y=[4, 6, 5], size=10, color=\"red\")\n",
    "Use code with caution. Learn more\n",
    "This code adds circles to the plot with x=[1, 2, 3], y=[4, 6, 5], size 10, and color red.\n",
    "5. Customize the plot:\n",
    "\n",
    "Bokeh offers numerous options for customizing your plot appearance:\n",
    "Change grid lines, colors, legends, titles, and more.\n",
    "Explore available options in the Bokeh documentation: <invalid URL removed>\n",
    "6. Show the plot:\n",
    "\n",
    "Python\n",
    "show(p)\n",
    "Use code with caution. Learn more\n",
    "This line displays the generated plot in your web browser.\n",
    "Example:\n",
    "\n",
    "Here's a complete code snippet creating a simple line plot:\n",
    "\n",
    "Python\n",
    "from bokeh.plotting import figure, show\n",
    "\n",
    "# Sample data\n",
    "x = [1, 2, 3, 4, 5]\n",
    "y = [3, 5, 7, 2, 1]\n",
    "\n",
    "# Create the plot\n",
    "p = figure(title=\"Line Plot\", x_axis_label=\"x\", y_axis_label=\"y\")\n",
    "\n",
    "# Add a line glyph\n",
    "p.line(x, y, line_width=2, color=\"blue\")\n",
    "\n",
    "# Show the plot\n",
    "show(p)\n",
    "Use code with caution. Learn more\n",
    "This code will create a line plot with blue lines connecting the data points at (1, 3), (2, 5), etc.\n",
    "\n",
    "Remember, this is a basic example. Explore the Bokeh documentation and community resources for more advanced customizations and plot types.\n",
    "'''"
   ]
  },
  {
   "cell_type": "code",
   "execution_count": 3,
   "id": "852d639d-4cff-46c9-9e42-64fc0ce03191",
   "metadata": {},
   "outputs": [
    {
     "data": {
      "text/plain": [
       "'\\nQ2. What are glyphs in Bokeh, and how can you add them to a Bokeh plot? Explain with an example.\\n'"
      ]
     },
     "execution_count": 3,
     "metadata": {},
     "output_type": "execute_result"
    }
   ],
   "source": [
    "'''\n",
    "Q2. What are glyphs in Bokeh, and how can you add them to a Bokeh plot? Explain with an example.\n",
    "'''"
   ]
  },
  {
   "cell_type": "code",
   "execution_count": 4,
   "id": "2c2894ce-6eb9-46fe-b4e6-4005e60fdd96",
   "metadata": {},
   "outputs": [
    {
     "data": {
      "text/plain": [
       "'\\nIn Bokeh plotting, glyphs are visual elements that represent data points or lines on a plot. They are the building blocks of your visualization and determine how your data is visually encoded. Bokeh offers a wide variety of glyphs to suit different data types and desired visualizations.\\n\\nAdding glyphs to a Bokeh plot involves providing data and customizing styling properties:\\n\\nData: Each glyph requires specific data values for its position and other attributes. For example, a circle glyph needs x and y coordinates for each circle\\'s center.\\n\\nStyling: You can customize the appearance of each glyph using various properties like:\\n\\nsize: Controls the size of the glyph (e.g., diameter for circles, width/height for rectangles).\\ncolor: Sets the color of the glyph.\\nline_width: Applies to line-based glyphs like lines and segments.\\nalpha: Controls transparency (0 is fully transparent, 1 is fully opaque).\\nMany other properties based on the specific glyph type.\\nExample: Here\\'s a code snippet demonstrating adding two different glyphs to a Bokeh plot:\\n\\nPython\\nfrom bokeh.plotting import figure, show\\n\\n# Sample data\\nx1 = [1, 2, 3, 4]\\ny1 = [4, 6, 5, 8]\\nx2 = [2, 3, 5, 6]\\ny2 = [2, 5, 9, 3]\\n\\n# Create the plot\\np = figure(title=\"Scatter Plot with Circles and Squares\", x_axis_label=\"x\", y_axis_label=\"y\")\\n\\n# Add circles glyph\\np.circle(x1, y1, size=10, color=\"red\", alpha=0.8)\\n\\n# Add squares glyph with different styling\\np.square(x2, y2, size=15, color=\"blue\", line_width=2)\\n\\n# Show the plot\\nshow(p)\\nUse code with caution. Learn more\\nThis code creates two sets of data points:\\n\\nRed circles with size 10 and 80% opacity at positions (1, 4), (2, 6), etc.\\nBlue squares with size 15, 2px line width, and full opacity at positions (2, 2), (3, 5), etc.\\nExploring Different Glyphs:\\n\\nBokeh offers various glyphs beyond circles and squares, including:\\n\\nLines (line)\\nSegments (segment)\\nRectangles (rect)\\nPatches (patch)\\nImages (image)\\nSpecialized glyphs like bars, stars, and arrows\\nExperiment with different glyphs and styling options to create diverse and informative visualizations based on your data and analysis goals.\\n'"
      ]
     },
     "execution_count": 4,
     "metadata": {},
     "output_type": "execute_result"
    }
   ],
   "source": [
    "'''\n",
    "In Bokeh plotting, glyphs are visual elements that represent data points or lines on a plot. They are the building blocks of your visualization and determine how your data is visually encoded. Bokeh offers a wide variety of glyphs to suit different data types and desired visualizations.\n",
    "\n",
    "Adding glyphs to a Bokeh plot involves providing data and customizing styling properties:\n",
    "\n",
    "Data: Each glyph requires specific data values for its position and other attributes. For example, a circle glyph needs x and y coordinates for each circle's center.\n",
    "\n",
    "Styling: You can customize the appearance of each glyph using various properties like:\n",
    "\n",
    "size: Controls the size of the glyph (e.g., diameter for circles, width/height for rectangles).\n",
    "color: Sets the color of the glyph.\n",
    "line_width: Applies to line-based glyphs like lines and segments.\n",
    "alpha: Controls transparency (0 is fully transparent, 1 is fully opaque).\n",
    "Many other properties based on the specific glyph type.\n",
    "Example: Here's a code snippet demonstrating adding two different glyphs to a Bokeh plot:\n",
    "\n",
    "Python\n",
    "from bokeh.plotting import figure, show\n",
    "\n",
    "# Sample data\n",
    "x1 = [1, 2, 3, 4]\n",
    "y1 = [4, 6, 5, 8]\n",
    "x2 = [2, 3, 5, 6]\n",
    "y2 = [2, 5, 9, 3]\n",
    "\n",
    "# Create the plot\n",
    "p = figure(title=\"Scatter Plot with Circles and Squares\", x_axis_label=\"x\", y_axis_label=\"y\")\n",
    "\n",
    "# Add circles glyph\n",
    "p.circle(x1, y1, size=10, color=\"red\", alpha=0.8)\n",
    "\n",
    "# Add squares glyph with different styling\n",
    "p.square(x2, y2, size=15, color=\"blue\", line_width=2)\n",
    "\n",
    "# Show the plot\n",
    "show(p)\n",
    "Use code with caution. Learn more\n",
    "This code creates two sets of data points:\n",
    "\n",
    "Red circles with size 10 and 80% opacity at positions (1, 4), (2, 6), etc.\n",
    "Blue squares with size 15, 2px line width, and full opacity at positions (2, 2), (3, 5), etc.\n",
    "Exploring Different Glyphs:\n",
    "\n",
    "Bokeh offers various glyphs beyond circles and squares, including:\n",
    "\n",
    "Lines (line)\n",
    "Segments (segment)\n",
    "Rectangles (rect)\n",
    "Patches (patch)\n",
    "Images (image)\n",
    "Specialized glyphs like bars, stars, and arrows\n",
    "Experiment with different glyphs and styling options to create diverse and informative visualizations based on your data and analysis goals.\n",
    "'''"
   ]
  },
  {
   "cell_type": "code",
   "execution_count": 5,
   "id": "fb14d1eb-93d0-47aa-953e-8a46d7eec3c6",
   "metadata": {},
   "outputs": [
    {
     "data": {
      "text/plain": [
       "'\\nQ3. How can you customize the appearance of a Bokeh plot, including the axes, title, and legend?\\n'"
      ]
     },
     "execution_count": 5,
     "metadata": {},
     "output_type": "execute_result"
    }
   ],
   "source": [
    "'''\n",
    "Q3. How can you customize the appearance of a Bokeh plot, including the axes, title, and legend?\n",
    "'''"
   ]
  },
  {
   "cell_type": "code",
   "execution_count": 6,
   "id": "10eb4d74-ff01-47de-8ae6-a92146fed73a",
   "metadata": {},
   "outputs": [
    {
     "data": {
      "text/plain": [
       "'\\n\\nCustomizing Your Bokeh Plot\\'s Appearance\\nBokeh offers extensive options for customizing various aspects of your plot, including:\\n\\nAxes:\\n\\nLabels: Set axis labels using x_axis_label and y_axis_label in the figure function.\\nGrid lines: Control grid line visibility and styling with xgrid and ygrid methods.\\nTicks: Adjust tick marks and their labels using xaxis.ticker and yaxis.ticker properties.\\nRange: Set visible data range using x_range and y_range attributes.\\nTitle and Legend:\\n\\nTitle: Use the title argument in the figure function.\\nLegend: Add legends using p.legend.visible = True and customize their appearance with legend properties.\\nOther elements:\\n\\nBackground: Modify background color and fill with background_fill_color and background_fill_alpha.\\nBorders: Set border styles with border_fill_color, border_line_color, and border_line_alpha.\\nTools: Choose visible tools (zoom, pan, etc.) using the tools argument in figure.\\nExample:\\n\\nPython\\nfrom bokeh.models import ColumnDataSource, NumeralTickFormatter\\nfrom bokeh.palettes import Viridis256\\nfrom bokeh.plotting import figure, show\\n\\n# Sample data\\nsource = ColumnDataSource(dict(x=[1, 2, 3, 4, 5], y=[3, 5, 7, 2, 1]))\\n\\n# Create the plot\\np = figure(\\n    title=\"Customized Bokeh Plot\",\\n    x_axis_label=\"X-axis\",\\n    y_axis_label=\"Y-axis\",\\n    background_fill_color=\"#fafafa\",\\n    border_line_color=\"gray\",\\n)\\n\\n# Add line glyph\\np.line(\"x\", \"y\", source=source, line_width=2, color=Viridis256)\\n\\n# Customize axes\\np.xaxis.axis_label = \"Custom X-axis Label\"\\np.yaxis.major_label_orientation = 0.75  # Rotate y-axis tick labels\\np.yaxis.formatter = NumeralTickFormatter(format=\"0,0\")  # Format y-axis labels\\n\\n# Add legend\\np.legend.title = \"Color Gradient\"\\np.legend.location = \"top_left\"\\n\\n# Show the plot\\nshow(p)\\nUse code with caution. Learn more\\nThis code demonstrates various customizations:\\n\\nCustom title and axis labels.\\nBackground and border styling.\\nLine styling with a color gradient.\\nRotated and formatted y-axis labels.\\nAdded legend with a title and specific location.\\n'"
      ]
     },
     "execution_count": 6,
     "metadata": {},
     "output_type": "execute_result"
    }
   ],
   "source": [
    "'''\n",
    "\n",
    "Customizing Your Bokeh Plot's Appearance\n",
    "Bokeh offers extensive options for customizing various aspects of your plot, including:\n",
    "\n",
    "Axes:\n",
    "\n",
    "Labels: Set axis labels using x_axis_label and y_axis_label in the figure function.\n",
    "Grid lines: Control grid line visibility and styling with xgrid and ygrid methods.\n",
    "Ticks: Adjust tick marks and their labels using xaxis.ticker and yaxis.ticker properties.\n",
    "Range: Set visible data range using x_range and y_range attributes.\n",
    "Title and Legend:\n",
    "\n",
    "Title: Use the title argument in the figure function.\n",
    "Legend: Add legends using p.legend.visible = True and customize their appearance with legend properties.\n",
    "Other elements:\n",
    "\n",
    "Background: Modify background color and fill with background_fill_color and background_fill_alpha.\n",
    "Borders: Set border styles with border_fill_color, border_line_color, and border_line_alpha.\n",
    "Tools: Choose visible tools (zoom, pan, etc.) using the tools argument in figure.\n",
    "Example:\n",
    "\n",
    "Python\n",
    "from bokeh.models import ColumnDataSource, NumeralTickFormatter\n",
    "from bokeh.palettes import Viridis256\n",
    "from bokeh.plotting import figure, show\n",
    "\n",
    "# Sample data\n",
    "source = ColumnDataSource(dict(x=[1, 2, 3, 4, 5], y=[3, 5, 7, 2, 1]))\n",
    "\n",
    "# Create the plot\n",
    "p = figure(\n",
    "    title=\"Customized Bokeh Plot\",\n",
    "    x_axis_label=\"X-axis\",\n",
    "    y_axis_label=\"Y-axis\",\n",
    "    background_fill_color=\"#fafafa\",\n",
    "    border_line_color=\"gray\",\n",
    ")\n",
    "\n",
    "# Add line glyph\n",
    "p.line(\"x\", \"y\", source=source, line_width=2, color=Viridis256)\n",
    "\n",
    "# Customize axes\n",
    "p.xaxis.axis_label = \"Custom X-axis Label\"\n",
    "p.yaxis.major_label_orientation = 0.75  # Rotate y-axis tick labels\n",
    "p.yaxis.formatter = NumeralTickFormatter(format=\"0,0\")  # Format y-axis labels\n",
    "\n",
    "# Add legend\n",
    "p.legend.title = \"Color Gradient\"\n",
    "p.legend.location = \"top_left\"\n",
    "\n",
    "# Show the plot\n",
    "show(p)\n",
    "Use code with caution. Learn more\n",
    "This code demonstrates various customizations:\n",
    "\n",
    "Custom title and axis labels.\n",
    "Background and border styling.\n",
    "Line styling with a color gradient.\n",
    "Rotated and formatted y-axis labels.\n",
    "Added legend with a title and specific location.\n",
    "'''"
   ]
  },
  {
   "cell_type": "code",
   "execution_count": 7,
   "id": "adb15a54-d1cc-4a5d-affe-0c39f2a33187",
   "metadata": {},
   "outputs": [
    {
     "data": {
      "text/plain": [
       "'\\nQ4. What is a Bokeh server, and how can you use it to create interactive plots that can be updated in\\nreal time?\\n'"
      ]
     },
     "execution_count": 7,
     "metadata": {},
     "output_type": "execute_result"
    }
   ],
   "source": [
    "'''\n",
    "Q4. What is a Bokeh server, and how can you use it to create interactive plots that can be updated in\n",
    "real time?\n",
    "'''"
   ]
  },
  {
   "cell_type": "code",
   "execution_count": 8,
   "id": "8acabf50-f3af-498b-ba63-cfb836aafc82",
   "metadata": {},
   "outputs": [
    {
     "data": {
      "text/plain": [
       "\"\\n\\nBokeh Server for Interactive and Real-Time Plotting\\nA Bokeh server is a component of the Bokeh visualization library that allows you to create interactive web applications for data visualization. Unlike static plots generated once, these applications enable users to interact with the data through tools like panning, zooming, selecting data points, and triggering updates.\\n\\nHere's how you can use a Bokeh server for interactive and real-time plots:\\n\\n1. Set up the server:\\n\\nInstall the bokeh-server package.\\nWrite Python code to define your plot logic and data handling.\\nCreate a Bokeh application object and run the server.\\n2. Create interactive plots:\\n\\nUse Bokeh plotting functions and glyphs within your server code.\\nAdd interactive tools using p.add_tools(tool_name) (e.g., pan, zoom_in, box_zoom).\\nImplement callbacks to respond to user interactions and update the plot dynamically.\\n3. Real-time updates:\\n\\nConnect your server application to a data source that updates in real time (e.g., streaming data, sensor readings).\\nUse callbacks triggered by data changes to update the plot automatically.\\nConsider using websockets or other technologies for efficient real-time communication.\\nBenefits of using a Bokeh server:\\n\\nInteractivity: Users can explore and analyze data through various tools and actions.\\nReal-time updates: Plots can reflect changes in data without page refreshes.\\nCollaboration: Multiple users can interact with the same plot simultaneously.\\nScalability: The server can handle larger datasets and more complex visualizations.\\nExample:\\n\\nConsider a scenario where you want to visualize live sensor readings on a Bokeh server:\\n\\nYour server code connects to a sensor data stream and receives updates regularly.\\nWhenever new data arrives, a callback function is triggered that:\\nUpdates the underlying data source in your Bokeh application.\\nTriggers re-rendering of the plot to reflect the latest data.\\nUsers can see the plot update dynamically with the latest sensor readings, allowing for real-time monitoring and analysis.\\n\""
      ]
     },
     "execution_count": 8,
     "metadata": {},
     "output_type": "execute_result"
    }
   ],
   "source": [
    "'''\n",
    "\n",
    "Bokeh Server for Interactive and Real-Time Plotting\n",
    "A Bokeh server is a component of the Bokeh visualization library that allows you to create interactive web applications for data visualization. Unlike static plots generated once, these applications enable users to interact with the data through tools like panning, zooming, selecting data points, and triggering updates.\n",
    "\n",
    "Here's how you can use a Bokeh server for interactive and real-time plots:\n",
    "\n",
    "1. Set up the server:\n",
    "\n",
    "Install the bokeh-server package.\n",
    "Write Python code to define your plot logic and data handling.\n",
    "Create a Bokeh application object and run the server.\n",
    "2. Create interactive plots:\n",
    "\n",
    "Use Bokeh plotting functions and glyphs within your server code.\n",
    "Add interactive tools using p.add_tools(tool_name) (e.g., pan, zoom_in, box_zoom).\n",
    "Implement callbacks to respond to user interactions and update the plot dynamically.\n",
    "3. Real-time updates:\n",
    "\n",
    "Connect your server application to a data source that updates in real time (e.g., streaming data, sensor readings).\n",
    "Use callbacks triggered by data changes to update the plot automatically.\n",
    "Consider using websockets or other technologies for efficient real-time communication.\n",
    "Benefits of using a Bokeh server:\n",
    "\n",
    "Interactivity: Users can explore and analyze data through various tools and actions.\n",
    "Real-time updates: Plots can reflect changes in data without page refreshes.\n",
    "Collaboration: Multiple users can interact with the same plot simultaneously.\n",
    "Scalability: The server can handle larger datasets and more complex visualizations.\n",
    "Example:\n",
    "\n",
    "Consider a scenario where you want to visualize live sensor readings on a Bokeh server:\n",
    "\n",
    "Your server code connects to a sensor data stream and receives updates regularly.\n",
    "Whenever new data arrives, a callback function is triggered that:\n",
    "Updates the underlying data source in your Bokeh application.\n",
    "Triggers re-rendering of the plot to reflect the latest data.\n",
    "Users can see the plot update dynamically with the latest sensor readings, allowing for real-time monitoring and analysis.\n",
    "'''"
   ]
  },
  {
   "cell_type": "code",
   "execution_count": 9,
   "id": "c48764c2-bce5-42d2-b335-cc6b471779df",
   "metadata": {},
   "outputs": [
    {
     "data": {
      "text/plain": [
       "'\\nQ5. How can you embed a Bokeh plot into a web page or dashboard using Flask or Django?\\n'"
      ]
     },
     "execution_count": 9,
     "metadata": {},
     "output_type": "execute_result"
    }
   ],
   "source": [
    "'''\n",
    "Q5. How can you embed a Bokeh plot into a web page or dashboard using Flask or Django?\n",
    "'''"
   ]
  },
  {
   "cell_type": "code",
   "execution_count": 10,
   "id": "121921df-e47c-4cdb-b0c9-9517410a8ac0",
   "metadata": {},
   "outputs": [
    {
     "data": {
      "text/plain": [
       "'\\nThere are two main approaches to embed a Bokeh plot into a web page or dashboard using Flask or Django:\\n\\n1. Static Embedding:\\n\\nGenerate the Bokeh plot HTML and JavaScript components using p.show() or bokeh.io.output_file and bokeh.io.show.\\nSave these components as static files (HTML and JavaScript).\\nInclude these files in your Flask or Django template using standard templating language features.\\n2. Bokeh Server Integration:\\n\\nRun a Bokeh server hosting your plot application.\\nMake an AJAX request from your Flask or Django app to the Bokeh server, retrieving the plot HTML and JavaScript.\\nInject this content into your web page dynamically using JavaScript.\\nPros and Cons:\\n\\nStatic Embedding:\\n\\nPros: Simple to implement, lightweight, no server dependency.\\nCons: Plots are static, not interactive. Changes require regenerating files.\\nBokeh Server Integration:\\n\\nPros: Plots are interactive, real-time updates possible, more user-friendly.\\nCons: Requires running a server, introduces additional complexity.\\nFlask Example (Static Embedding):\\n\\nPython\\nfrom bokeh.io import output_file, show\\nfrom bokeh.palettes import TolRainbow\\nfrom bokeh.plotting import figure\\nfrom flask import Flask, render_template\\n\\napp = Flask(__name__)\\n\\n@app.route(\"/\")\\ndef plot():\\n    # Create a plot\\n    p = figure(title=\"Simple Bokeh Plot\")\\n    p.circle([1, 2, 3, 4, 5], [4, 6, 5, 8, 2], color=TolRainbow, size=10)\\n\\n    # Generate HTML and JavaScript\\n    output_file(\"plot.html\")\\n    show(p)\\n\\n    return render_template(\"plot.html\")\\n\\nif __name__ == \"__main__\":\\n    app.run(debug=True)\\nUse code with caution. Learn more\\nDjango Example (Bokeh Server Integration):\\n\\nPython\\nfrom bokeh.models import ColumnDataSource\\nfrom bokeh.plotting import figure\\nfrom bokeh.server import show\\nfrom django.shortcuts import render\\n\\ndef my_plot(request):\\n    # Generate data and create plot\\n    source = ColumnDataSource(data=dict(x=[1, 2, 3], y=[4, 6, 5]))\\n    p = figure(title=\"Plot from Django app\")\\n    p.circle(\"x\", \"y\", source=source, size=10, color=\"red\")\\n\\n    # Show the plot using the Bokeh server (assuming it\\'s running)\\n    show(p)\\n\\n    # Render the template after showing the plot\\n    return render(request, \"plot.html\")\\nUse code with caution. Learn more\\nRemember to adapt these examples to your specific use case and framework configurations. Refer to the official Bokeh documentation for comprehensive information and advanced techniques: <invalid URL removed>: <invalid URL removed>.\\n'"
      ]
     },
     "execution_count": 10,
     "metadata": {},
     "output_type": "execute_result"
    }
   ],
   "source": [
    "'''\n",
    "There are two main approaches to embed a Bokeh plot into a web page or dashboard using Flask or Django:\n",
    "\n",
    "1. Static Embedding:\n",
    "\n",
    "Generate the Bokeh plot HTML and JavaScript components using p.show() or bokeh.io.output_file and bokeh.io.show.\n",
    "Save these components as static files (HTML and JavaScript).\n",
    "Include these files in your Flask or Django template using standard templating language features.\n",
    "2. Bokeh Server Integration:\n",
    "\n",
    "Run a Bokeh server hosting your plot application.\n",
    "Make an AJAX request from your Flask or Django app to the Bokeh server, retrieving the plot HTML and JavaScript.\n",
    "Inject this content into your web page dynamically using JavaScript.\n",
    "Pros and Cons:\n",
    "\n",
    "Static Embedding:\n",
    "\n",
    "Pros: Simple to implement, lightweight, no server dependency.\n",
    "Cons: Plots are static, not interactive. Changes require regenerating files.\n",
    "Bokeh Server Integration:\n",
    "\n",
    "Pros: Plots are interactive, real-time updates possible, more user-friendly.\n",
    "Cons: Requires running a server, introduces additional complexity.\n",
    "Flask Example (Static Embedding):\n",
    "\n",
    "Python\n",
    "from bokeh.io import output_file, show\n",
    "from bokeh.palettes import TolRainbow\n",
    "from bokeh.plotting import figure\n",
    "from flask import Flask, render_template\n",
    "\n",
    "app = Flask(__name__)\n",
    "\n",
    "@app.route(\"/\")\n",
    "def plot():\n",
    "    # Create a plot\n",
    "    p = figure(title=\"Simple Bokeh Plot\")\n",
    "    p.circle([1, 2, 3, 4, 5], [4, 6, 5, 8, 2], color=TolRainbow, size=10)\n",
    "\n",
    "    # Generate HTML and JavaScript\n",
    "    output_file(\"plot.html\")\n",
    "    show(p)\n",
    "\n",
    "    return render_template(\"plot.html\")\n",
    "\n",
    "if __name__ == \"__main__\":\n",
    "    app.run(debug=True)\n",
    "Use code with caution. Learn more\n",
    "Django Example (Bokeh Server Integration):\n",
    "\n",
    "Python\n",
    "from bokeh.models import ColumnDataSource\n",
    "from bokeh.plotting import figure\n",
    "from bokeh.server import show\n",
    "from django.shortcuts import render\n",
    "\n",
    "def my_plot(request):\n",
    "    # Generate data and create plot\n",
    "    source = ColumnDataSource(data=dict(x=[1, 2, 3], y=[4, 6, 5]))\n",
    "    p = figure(title=\"Plot from Django app\")\n",
    "    p.circle(\"x\", \"y\", source=source, size=10, color=\"red\")\n",
    "\n",
    "    # Show the plot using the Bokeh server (assuming it's running)\n",
    "    show(p)\n",
    "\n",
    "    # Render the template after showing the plot\n",
    "    return render(request, \"plot.html\")\n",
    "Use code with caution. Learn more\n",
    "Remember to adapt these examples to your specific use case and framework configurations. Refer to the official Bokeh documentation for comprehensive information and advanced techniques: <invalid URL removed>: <invalid URL removed>.\n",
    "'''"
   ]
  },
  {
   "cell_type": "code",
   "execution_count": null,
   "id": "ad2005c8-1075-4a43-a5ba-866304650f71",
   "metadata": {},
   "outputs": [],
   "source": []
  }
 ],
 "metadata": {
  "kernelspec": {
   "display_name": "Python 3 (ipykernel)",
   "language": "python",
   "name": "python3"
  },
  "language_info": {
   "codemirror_mode": {
    "name": "ipython",
    "version": 3
   },
   "file_extension": ".py",
   "mimetype": "text/x-python",
   "name": "python",
   "nbconvert_exporter": "python",
   "pygments_lexer": "ipython3",
   "version": "3.10.8"
  }
 },
 "nbformat": 4,
 "nbformat_minor": 5
}
