{
 "cells": [
  {
   "cell_type": "markdown",
   "id": "72e80c50-76be-4651-a1b0-c6cc49773c2f",
   "metadata": {},
   "source": [
    "02 Feb Assigment"
   ]
  },
  {
   "cell_type": "raw",
   "id": "aab02eed-1701-4458-b98f-498ece6ec0a1",
   "metadata": {},
   "source": [
    "Q.1- Explain with an example each when to use a for loop and a while loop"
   ]
  },
  {
   "cell_type": "raw",
   "id": "f62c8d6b-c18a-4cdf-883e-eee8dd0cf71c",
   "metadata": {},
   "source": [
    "For Loop:\n",
    "A for loop is used when you know the number of iterations in advance, such as when iterating over a fixed collection of elements or performing a specific number of repetitive tasks.\n",
    "Example: Calculating the sum of numbers in a list."
   ]
  },
  {
   "cell_type": "code",
   "execution_count": 3,
   "id": "36723abb-5b67-467e-9498-3f179e3ce0f5",
   "metadata": {},
   "outputs": [
    {
     "name": "stdout",
     "output_type": "stream",
     "text": [
      "The sum is: 15\n"
     ]
    }
   ],
   "source": [
    "numbers = [1, 2, 3, 4, 5]\n",
    "sum = 0\n",
    "\n",
    "for num in numbers:\n",
    "    sum += num\n",
    "\n",
    "print(\"The sum is:\", sum)\n"
   ]
  },
  {
   "cell_type": "raw",
   "id": "f990924f-6331-419f-9e52-83cfdbaa41ae",
   "metadata": {},
   "source": [
    "While Loop:\n",
    "A while loop is used when you don't know the number of iterations in advance and want to repeat a block of code until a certain condition is met.\n",
    "Example: Counting down from a given number to 1"
   ]
  },
  {
   "cell_type": "code",
   "execution_count": 4,
   "id": "40367d47-d572-4d78-8b46-12878c3ade7f",
   "metadata": {},
   "outputs": [
    {
     "name": "stdout",
     "output_type": "stream",
     "text": [
      "5\n",
      "4\n",
      "3\n",
      "2\n",
      "1\n",
      "Blastoff!\n"
     ]
    }
   ],
   "source": [
    "count = 5\n",
    "\n",
    "while count > 0:\n",
    "    print(count)\n",
    "    count -= 1\n",
    "\n",
    "print(\"Blastoff!\")\n"
   ]
  },
  {
   "cell_type": "raw",
   "id": "10f0926d-bf9a-4b35-9ddf-704958ddcdc7",
   "metadata": {},
   "source": [
    "Q.2-Write a python program to print the sum and product of the first 10 natural numbers using for  and while loop. "
   ]
  },
  {
   "cell_type": "code",
   "execution_count": 5,
   "id": "148bff32-7a1a-4dc5-8c47-a76ec60e0a5d",
   "metadata": {},
   "outputs": [
    {
     "name": "stdout",
     "output_type": "stream",
     "text": [
      "Sum using for loop: 55\n",
      "Product using for loop: 3628800\n"
     ]
    }
   ],
   "source": [
    "#Using for loop\n",
    "# Using a for loop to calculate the sum and product\n",
    "numbers = range(1, 11)\n",
    "sum_result = 0\n",
    "product_result = 1\n",
    "\n",
    "for num in numbers:\n",
    "    sum_result += num\n",
    "    product_result *= num\n",
    "\n",
    "print(\"Sum using for loop:\", sum_result)\n",
    "print(\"Product using for loop:\", product_result)\n"
   ]
  },
  {
   "cell_type": "code",
   "execution_count": 6,
   "id": "4ee61673-ca90-4093-b237-1871df32e2af",
   "metadata": {},
   "outputs": [
    {
     "name": "stdout",
     "output_type": "stream",
     "text": [
      "Sum using while loop: 55\n",
      "Product using while loop: 3628800\n"
     ]
    }
   ],
   "source": [
    "#Using while loop\n",
    "# Using a while loop to calculate the sum and product\n",
    "count = 1\n",
    "sum_result = 0\n",
    "product_result = 1\n",
    "\n",
    "while count <= 10:\n",
    "    sum_result += count\n",
    "    product_result *= count\n",
    "    count += 1\n",
    "\n",
    "print(\"Sum using while loop:\", sum_result)\n",
    "print(\"Product using while loop:\", product_result)\n"
   ]
  },
  {
   "cell_type": "raw",
   "id": "a468a750-8842-4fac-8e1f-a0413f2b451d",
   "metadata": {},
   "source": [
    "Q.3-Create a python program to compute the electricity bill for a household. \n",
    "The per-unit charges in rupees are as follows: For the first 100 units, the user will be charged Rs. 4.5 per  unit, for the next 100 units, the user will be charged Rs. 6 per unit, and for the next 100 units, the user will  be charged Rs. 10 per unit, After 300 units and above the user will be charged Rs. 20 per unit. \n",
    "You are required to take the units of electricity consumed in a month from the user as input. \n",
    "Your program must pass this test case: when the unit of electricity consumed by the user in a month is  310, the total electricity bill should be 2250. "
   ]
  },
  {
   "cell_type": "code",
   "execution_count": 7,
   "id": "664c764a-7e82-449f-8b5d-c7a453680d49",
   "metadata": {},
   "outputs": [
    {
     "name": "stdin",
     "output_type": "stream",
     "text": [
      "Enter the units of electricity consumed in a month:  310\n"
     ]
    },
    {
     "name": "stdout",
     "output_type": "stream",
     "text": [
      "Total electricity bill: Rs. 2250.0\n"
     ]
    }
   ],
   "source": [
    "# Taking the units of electricity consumed as input from the user\n",
    "units_consumed = int(input(\"Enter the units of electricity consumed in a month: \"))\n",
    "\n",
    "# Initializing the bill amount\n",
    "bill_amount = 0\n",
    "\n",
    "# Checking the units consumed and calculating the bill accordingly\n",
    "if units_consumed <= 100:\n",
    "    bill_amount = units_consumed * 4.5\n",
    "elif units_consumed <= 200:\n",
    "    bill_amount = 100 * 4.5 + (units_consumed - 100) * 6\n",
    "elif units_consumed <= 300:\n",
    "    bill_amount = 100 * 4.5 + 100 * 6 + (units_consumed - 200) * 10\n",
    "else:\n",
    "    bill_amount = 100 * 4.5 + 100 * 6 + 100 * 10 + (units_consumed - 300) * 20\n",
    "\n",
    "# Displaying the total electricity bill\n",
    "print(\"Total electricity bill: Rs.\", bill_amount)\n"
   ]
  },
  {
   "cell_type": "raw",
   "id": "3ecaf0f6-786b-40da-b010-e1e2768730ed",
   "metadata": {},
   "source": [
    "Q.4- Create a list of numbers from 1 to 100. Use for loop and while loop to calculate the cube of each  number and if the cube of that number is divisible by 4 or 5 then append that number in a list and print  that list. \n"
   ]
  },
  {
   "cell_type": "code",
   "execution_count": 8,
   "id": "38aa9321-eb4a-453a-8bda-49130fbae488",
   "metadata": {},
   "outputs": [
    {
     "name": "stdout",
     "output_type": "stream",
     "text": [
      "[2, 4, 5, 6, 8, 10, 12, 14, 15, 16, 18, 20, 22, 24, 25, 26, 28, 30, 32, 34, 35, 36, 38, 40, 42, 44, 45, 46, 48, 50, 52, 54, 55, 56, 58, 60, 62, 64, 65, 66, 68, 70, 72, 74, 75, 76, 78, 80, 82, 84, 85, 86, 88, 90, 92, 94, 95, 96, 98, 100]\n"
     ]
    }
   ],
   "source": [
    "#Using for loop\n",
    "# Creating a list of numbers from 1 to 100\n",
    "numbers = list(range(1, 101))\n",
    "\n",
    "# Initializing an empty list to store the numbers whose cubes are divisible by 4 or 5\n",
    "result = []\n",
    "\n",
    "# Using a for loop to calculate the cube of each number and check for divisibility\n",
    "for num in numbers:\n",
    "    cube = num ** 3\n",
    "    if cube % 4 == 0 or cube % 5 == 0:\n",
    "        result.append(num)\n",
    "\n",
    "# Printing the list of numbers whose cubes are divisible by 4 or 5\n",
    "print(result)\n"
   ]
  },
  {
   "cell_type": "code",
   "execution_count": 9,
   "id": "58d199dd-99ee-41d7-864e-f78bff9830bc",
   "metadata": {},
   "outputs": [
    {
     "name": "stdout",
     "output_type": "stream",
     "text": [
      "[2, 4, 5, 6, 8, 10, 12, 14, 15, 16, 18, 20, 22, 24, 25, 26, 28, 30, 32, 34, 35, 36, 38, 40, 42, 44, 45, 46, 48, 50, 52, 54, 55, 56, 58, 60, 62, 64, 65, 66, 68, 70, 72, 74, 75, 76, 78, 80, 82, 84, 85, 86, 88, 90, 92, 94, 95, 96, 98, 100]\n"
     ]
    }
   ],
   "source": [
    "#for using while loop\n",
    "# Creating a list of numbers from 1 to 100\n",
    "numbers = list(range(1, 101))\n",
    "\n",
    "# Initializing an empty list to store the numbers whose cubes are divisible by 4 or 5\n",
    "result = []\n",
    "\n",
    "# Using a while loop to calculate the cube of each number and check for divisibility\n",
    "index = 0\n",
    "while index < len(numbers):\n",
    "    num = numbers[index]\n",
    "    cube = num ** 3\n",
    "    if cube % 4 == 0 or cube % 5 == 0:\n",
    "        result.append(num)\n",
    "    index += 1\n",
    "\n",
    "# Printing the list of numbers whose cubes are divisible by 4 or 5\n",
    "print(result)\n"
   ]
  },
  {
   "cell_type": "raw",
   "id": "ae9d4368-c80c-43e6-bfb7-71c312afe168",
   "metadata": {},
   "source": [
    "Q5.  Write a program to filter count vowels in the below-given string. \n",
    "string = \"I want to become a data scientist\" \n"
   ]
  },
  {
   "cell_type": "code",
   "execution_count": 10,
   "id": "e847805d-cfb1-4a95-b27b-d5a7e05df711",
   "metadata": {},
   "outputs": [
    {
     "name": "stdout",
     "output_type": "stream",
     "text": [
      "Number of vowels in the string: 12\n"
     ]
    }
   ],
   "source": [
    "# String to be processed\n",
    "string = \"I want to become a data scientist\"\n",
    "\n",
    "# Converting the string to lowercase for case-insensitive matching\n",
    "string = string.lower()\n",
    "\n",
    "# Defining a list of vowels\n",
    "vowels = ['a', 'e', 'i', 'o', 'u']\n",
    "\n",
    "# Initializing a counter for vowels\n",
    "vowel_count = 0\n",
    "\n",
    "# Filtering and counting the vowels in the string\n",
    "for char in string:\n",
    "    if char in vowels:\n",
    "        vowel_count += 1\n",
    "\n",
    "# Printing the count of vowels\n",
    "print(\"Number of vowels in the string:\", vowel_count)\n"
   ]
  },
  {
   "cell_type": "code",
   "execution_count": null,
   "id": "f4d22276-d6d7-4298-8648-8fcbdf1b67df",
   "metadata": {},
   "outputs": [],
   "source": []
  }
 ],
 "metadata": {
  "kernelspec": {
   "display_name": "Python 3 (ipykernel)",
   "language": "python",
   "name": "python3"
  },
  "language_info": {
   "codemirror_mode": {
    "name": "ipython",
    "version": 3
   },
   "file_extension": ".py",
   "mimetype": "text/x-python",
   "name": "python",
   "nbconvert_exporter": "python",
   "pygments_lexer": "ipython3",
   "version": "3.10.8"
  }
 },
 "nbformat": 4,
 "nbformat_minor": 5
}
