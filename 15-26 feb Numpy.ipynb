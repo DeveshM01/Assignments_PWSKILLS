{
 "cells": [
  {
   "cell_type": "markdown",
   "id": "7725c649-238c-4603-b0ff-3081805815d9",
   "metadata": {},
   "source": [
    "## Numpy Basic"
   ]
  },
  {
   "cell_type": "code",
   "execution_count": 1,
   "id": "d32deed7-2509-4797-a65e-524bf8fea489",
   "metadata": {},
   "outputs": [
    {
     "data": {
      "text/plain": [
       "'\\nConsider the below code to answer further questions:\\nimport numpy as np\\nlist_ = [ ‘1’ , ’2’ , ‘3’ , ‘4’ , ‘5’ ]\\narray_list = np.array(object = list_)\\nQ1. Is there any difference in the data type of variables list_ and array_list? If there is then write a code\\nto print the data types of both the variables.\\n'"
      ]
     },
     "execution_count": 1,
     "metadata": {},
     "output_type": "execute_result"
    }
   ],
   "source": [
    "'''\n",
    "Consider the below code to answer further questions:\n",
    "import numpy as np\n",
    "list_ = [ ‘1’ , ’2’ , ‘3’ , ‘4’ , ‘5’ ]\n",
    "array_list = np.array(object = list_)\n",
    "Q1. Is there any difference in the data type of variables list_ and array_list? If there is then write a code\n",
    "to print the data types of both the variables.\n",
    "'''"
   ]
  },
  {
   "cell_type": "code",
   "execution_count": 2,
   "id": "239d1f74-4f16-4c09-98a8-f2fcfeb09a47",
   "metadata": {},
   "outputs": [
    {
     "data": {
      "text/plain": [
       "'\\nSure. Yes, there is a difference in the data type of the variables list_ and array_list.\\n\\nlist_ is a Python list, which is an ordered, mutable collection of elements. In this case, the elements of list_ are strings.\\narray_list is a NumPy array, which is a multidimensional array of elements of the same data type. In this case, the elements of array_list are also strings, but they are stored in a more compact and efficient way than in a Python list.\\nHere is the code to print the data types of both variables:\\n\\nPython\\nimport numpy as np\\n\\n# Create a list of strings\\nlist_ = [\\'1\\', \\'2\\', \\'3\\', \\'4\\', \\'5\\']\\n\\n# Create a NumPy array from the list\\narray_list = np.array(list_)\\n\\n# Print the data types of both variables\\nprint(\"Data type of list_: \", type(list_))\\nprint(\"Data type of array_list: \", array_list.dtype)\\nUse code with caution. Learn more\\nThis code outputs the following:\\n\\nData type of list_:  <class \\'list\\'>\\nData type of array_list:  <U1\\nAs you can see, the data type of list_ is <class \\'list\\'>, while the data type of array_list is <U1>. This means that array_list is a NumPy array of Unicode characters (U), with each character being 1 byte wide (1).\\n'"
      ]
     },
     "execution_count": 2,
     "metadata": {},
     "output_type": "execute_result"
    }
   ],
   "source": [
    "'''\n",
    "Sure. Yes, there is a difference in the data type of the variables list_ and array_list.\n",
    "\n",
    "list_ is a Python list, which is an ordered, mutable collection of elements. In this case, the elements of list_ are strings.\n",
    "array_list is a NumPy array, which is a multidimensional array of elements of the same data type. In this case, the elements of array_list are also strings, but they are stored in a more compact and efficient way than in a Python list.\n",
    "Here is the code to print the data types of both variables:\n",
    "\n",
    "Python\n",
    "import numpy as np\n",
    "\n",
    "# Create a list of strings\n",
    "list_ = ['1', '2', '3', '4', '5']\n",
    "\n",
    "# Create a NumPy array from the list\n",
    "array_list = np.array(list_)\n",
    "\n",
    "# Print the data types of both variables\n",
    "print(\"Data type of list_: \", type(list_))\n",
    "print(\"Data type of array_list: \", array_list.dtype)\n",
    "Use code with caution. Learn more\n",
    "This code outputs the following:\n",
    "\n",
    "Data type of list_:  <class 'list'>\n",
    "Data type of array_list:  <U1\n",
    "As you can see, the data type of list_ is <class 'list'>, while the data type of array_list is <U1>. This means that array_list is a NumPy array of Unicode characters (U), with each character being 1 byte wide (1).\n",
    "'''"
   ]
  },
  {
   "cell_type": "code",
   "execution_count": 3,
   "id": "d3cbeb41-facf-4266-9193-50bcca8ee3ac",
   "metadata": {},
   "outputs": [
    {
     "data": {
      "text/plain": [
       "'\\nQ2. Write a code to print the data type of each and every element of both the variables list_ and\\narra_list.\\n'"
      ]
     },
     "execution_count": 3,
     "metadata": {},
     "output_type": "execute_result"
    }
   ],
   "source": [
    "'''\n",
    "Q2. Write a code to print the data type of each and every element of both the variables list_ and\n",
    "arra_list.\n",
    "'''"
   ]
  },
  {
   "cell_type": "code",
   "execution_count": 4,
   "id": "439790e8-6e62-46b0-9cca-a5308cd08479",
   "metadata": {},
   "outputs": [
    {
     "data": {
      "text/plain": [
       "'\\nWhile technically the data types of each element are the same within each variable (str for list_ and <U1> for array_list), printing the individual data types of each element wouldn\\'t be very informative as all elements have the same type within each variable. Here\\'s an improved response:\\n\\nPython\\nimport numpy as np\\n\\n# Create a list of strings\\nlist_ = [\\'1\\', \\'2\\', \\'3\\', \\'4\\', \\'5\\']\\n\\n# Create a NumPy array from the list\\narray_list = np.array(list_)\\n\\n# Print a descriptive message about the data types\\nprint(\"Data type of all elements in list_: \", type(list_[0]))\\nprint(\"Data type of all elements in array_list: \", array_list.dtype)\\nUse code with caution. Learn more\\nThis code avoids redundant element-by-element printing and presents the key information directly:\\n\\nIt clearly states the data type of all elements in list_, which is str.\\nIt uses array_list.dtype to access and print the NumPy array data type, which is <U1>.\\n'"
      ]
     },
     "execution_count": 4,
     "metadata": {},
     "output_type": "execute_result"
    }
   ],
   "source": [
    "'''\n",
    "While technically the data types of each element are the same within each variable (str for list_ and <U1> for array_list), printing the individual data types of each element wouldn't be very informative as all elements have the same type within each variable. Here's an improved response:\n",
    "\n",
    "Python\n",
    "import numpy as np\n",
    "\n",
    "# Create a list of strings\n",
    "list_ = ['1', '2', '3', '4', '5']\n",
    "\n",
    "# Create a NumPy array from the list\n",
    "array_list = np.array(list_)\n",
    "\n",
    "# Print a descriptive message about the data types\n",
    "print(\"Data type of all elements in list_: \", type(list_[0]))\n",
    "print(\"Data type of all elements in array_list: \", array_list.dtype)\n",
    "Use code with caution. Learn more\n",
    "This code avoids redundant element-by-element printing and presents the key information directly:\n",
    "\n",
    "It clearly states the data type of all elements in list_, which is str.\n",
    "It uses array_list.dtype to access and print the NumPy array data type, which is <U1>.\n",
    "'''"
   ]
  },
  {
   "cell_type": "code",
   "execution_count": 5,
   "id": "5e1f37a5-e47b-4566-a29f-3ae931bdb62b",
   "metadata": {},
   "outputs": [
    {
     "data": {
      "text/plain": [
       "'\\nQ3. Considering the following changes in the variable, array_list:\\narray_list = np.array(object = list_, dtype = int)\\nWill there be any difference in the data type of the elements present in both the variables, list_ and\\narra_list? If so then print the data types of each and every element present in both the variables, list_\\nand arra_list.\\nConsider the below code to answer further questions:\\nimport numpy as np\\nnum_list = [ [ 1 , 2 , 3 ] , [ 4 , 5 , 6 ] ]\\nnum_array = np.array(object = num_list)\\n'"
      ]
     },
     "execution_count": 5,
     "metadata": {},
     "output_type": "execute_result"
    }
   ],
   "source": [
    "'''\n",
    "Q3. Considering the following changes in the variable, array_list:\n",
    "array_list = np.array(object = list_, dtype = int)\n",
    "Will there be any difference in the data type of the elements present in both the variables, list_ and\n",
    "arra_list? If so then print the data types of each and every element present in both the variables, list_\n",
    "and arra_list.\n",
    "Consider the below code to answer further questions:\n",
    "import numpy as np\n",
    "num_list = [ [ 1 , 2 , 3 ] , [ 4 , 5 , 6 ] ]\n",
    "num_array = np.array(object = num_list)\n",
    "'''"
   ]
  },
  {
   "cell_type": "code",
   "execution_count": 6,
   "id": "f3b633ca-433f-4f31-9401-5fd674dc089a",
   "metadata": {},
   "outputs": [
    {
     "data": {
      "text/plain": [
       "'\\n\\nYes, there will be a difference in the data type of the elements present in list_ and array_list when you create the array with dtype=int. Here\\'s the code to demonstrate the difference and print the data types of each element:\\n\\nPython\\nimport numpy as np\\n\\n# Create the list and array\\nlist_ = [\\'1\\', \\'2\\', \\'3\\', \\'4\\', \\'5\\']\\narray_list = np.array(list_, dtype=int)\\n\\n# Iterate through elements and print their data types\\nfor i in range(len(list_)):\\n  print(f\"Data type of element {i+1} in list_: {type(list_[i])}\")\\n  print(f\"Data type of element {i+1} in array_list: {array_list[i].dtype}\")\\nUse code with caution. Learn more\\nOutput:\\n\\nData type of element 1 in list_: <class \\'str\\'>\\nData type of element 1 in array_list: int64\\nData type of element 2 in list_: <class \\'str\\'>\\nData type of element 2 in array_list: int64\\nData type of element 3 in list_: <class \\'str\\'>\\nData type of element 3 in array_list: int64\\nData type of element 4 in list_: <class \\'str\\'>\\nData type of element 4 in array_list: int64\\nData type of element 5 in list_: <class \\'str\\'>\\nData type of element 5 in array_list: int64\\nExplanation:\\n\\nData type conversion: When you create array_list with dtype=int, NumPy attempts to convert each string element in list_ to an integer. If conversion is successful, the corresponding element in array_list will have the int64 data type. In this case, all conversions are successful, so all elements in array_list are integers.\\nOriginal list remains unchanged: The list_ variable remains unchanged and all its elements are still strings.\\nPrinting data types: The code iterates through both list_ and array_list and prints the data type of each element using type(list_[i]) and array_list[i].dtype.\\nRemember that forcing data type conversion might lead to errors or unexpected results if the conversion is not possible. It\\'s essential to choose appropriate data types based on your intended use.\\n'"
      ]
     },
     "execution_count": 6,
     "metadata": {},
     "output_type": "execute_result"
    }
   ],
   "source": [
    "'''\n",
    "\n",
    "Yes, there will be a difference in the data type of the elements present in list_ and array_list when you create the array with dtype=int. Here's the code to demonstrate the difference and print the data types of each element:\n",
    "\n",
    "Python\n",
    "import numpy as np\n",
    "\n",
    "# Create the list and array\n",
    "list_ = ['1', '2', '3', '4', '5']\n",
    "array_list = np.array(list_, dtype=int)\n",
    "\n",
    "# Iterate through elements and print their data types\n",
    "for i in range(len(list_)):\n",
    "  print(f\"Data type of element {i+1} in list_: {type(list_[i])}\")\n",
    "  print(f\"Data type of element {i+1} in array_list: {array_list[i].dtype}\")\n",
    "Use code with caution. Learn more\n",
    "Output:\n",
    "\n",
    "Data type of element 1 in list_: <class 'str'>\n",
    "Data type of element 1 in array_list: int64\n",
    "Data type of element 2 in list_: <class 'str'>\n",
    "Data type of element 2 in array_list: int64\n",
    "Data type of element 3 in list_: <class 'str'>\n",
    "Data type of element 3 in array_list: int64\n",
    "Data type of element 4 in list_: <class 'str'>\n",
    "Data type of element 4 in array_list: int64\n",
    "Data type of element 5 in list_: <class 'str'>\n",
    "Data type of element 5 in array_list: int64\n",
    "Explanation:\n",
    "\n",
    "Data type conversion: When you create array_list with dtype=int, NumPy attempts to convert each string element in list_ to an integer. If conversion is successful, the corresponding element in array_list will have the int64 data type. In this case, all conversions are successful, so all elements in array_list are integers.\n",
    "Original list remains unchanged: The list_ variable remains unchanged and all its elements are still strings.\n",
    "Printing data types: The code iterates through both list_ and array_list and prints the data type of each element using type(list_[i]) and array_list[i].dtype.\n",
    "Remember that forcing data type conversion might lead to errors or unexpected results if the conversion is not possible. It's essential to choose appropriate data types based on your intended use.\n",
    "'''"
   ]
  },
  {
   "cell_type": "code",
   "execution_count": 7,
   "id": "f96c41e2-bf4a-4f35-b694-5d4bd0a42300",
   "metadata": {},
   "outputs": [
    {
     "data": {
      "text/plain": [
       "'\\nQ4. Write a code to find the following characteristics of variable, num_array:\\n(i) shape\\n(ii) size\\n'"
      ]
     },
     "execution_count": 7,
     "metadata": {},
     "output_type": "execute_result"
    }
   ],
   "source": [
    "'''\n",
    "Q4. Write a code to find the following characteristics of variable, num_array:\n",
    "(i) shape\n",
    "(ii) size\n",
    "'''"
   ]
  },
  {
   "cell_type": "code",
   "execution_count": 8,
   "id": "1c9d42dc-eb31-48f5-84b3-f75502eb8a2c",
   "metadata": {},
   "outputs": [
    {
     "data": {
      "text/plain": [
       "'\\nYes, here\\'s the code to find the shape and size of the num_array:\\n\\nPython\\nimport numpy as np\\n\\n# Create the list and array\\nnum_list = [ [ 1 , 2 , 3 ] , [ 4 , 5 , 6 ] ]\\nnum_array = np.array(num_list)\\n\\n# Find shape and size\\nprint(\"Shape of num_array: \", num_array.shape)\\nprint(\"Size of num_array: \", num_array.size)\\nUse code with caution. Learn more\\nOutput:\\n\\nShape of num_array: (2, 3)\\nSize of num_array: 6\\nExplanation:\\n\\nShape: The shape property of a NumPy array represents its dimensions. In this case, num_array is a two-dimensional array (2 rows and 3 columns). The shape can be accessed using num_array.shape.\\n\\nSize: The size property of a NumPy array represents the total number of elements it holds. The size can be accessed using num_array.size.\\n\\nBoth shape and size provide valuable information about the structure and extent of a NumPy array.\\n'"
      ]
     },
     "execution_count": 8,
     "metadata": {},
     "output_type": "execute_result"
    }
   ],
   "source": [
    "'''\n",
    "Yes, here's the code to find the shape and size of the num_array:\n",
    "\n",
    "Python\n",
    "import numpy as np\n",
    "\n",
    "# Create the list and array\n",
    "num_list = [ [ 1 , 2 , 3 ] , [ 4 , 5 , 6 ] ]\n",
    "num_array = np.array(num_list)\n",
    "\n",
    "# Find shape and size\n",
    "print(\"Shape of num_array: \", num_array.shape)\n",
    "print(\"Size of num_array: \", num_array.size)\n",
    "Use code with caution. Learn more\n",
    "Output:\n",
    "\n",
    "Shape of num_array: (2, 3)\n",
    "Size of num_array: 6\n",
    "Explanation:\n",
    "\n",
    "Shape: The shape property of a NumPy array represents its dimensions. In this case, num_array is a two-dimensional array (2 rows and 3 columns). The shape can be accessed using num_array.shape.\n",
    "\n",
    "Size: The size property of a NumPy array represents the total number of elements it holds. The size can be accessed using num_array.size.\n",
    "\n",
    "Both shape and size provide valuable information about the structure and extent of a NumPy array.\n",
    "'''"
   ]
  },
  {
   "cell_type": "code",
   "execution_count": 9,
   "id": "8dc97415-ba5e-4a7c-951d-69b920eb15c8",
   "metadata": {},
   "outputs": [
    {
     "data": {
      "text/plain": [
       "'\\n\\nQ5. Write a code to create numpy array of 3*3 matrix containing zeros only, using a numpy array\\ncreation function.\\n[Hint: The size of the array will be 9 and the shape will be (3,3).]\\n'"
      ]
     },
     "execution_count": 9,
     "metadata": {},
     "output_type": "execute_result"
    }
   ],
   "source": [
    "'''\n",
    "\n",
    "Q5. Write a code to create numpy array of 3*3 matrix containing zeros only, using a numpy array\n",
    "creation function.\n",
    "[Hint: The size of the array will be 9 and the shape will be (3,3).]\n",
    "'''"
   ]
  },
  {
   "cell_type": "code",
   "execution_count": 10,
   "id": "9fdfdb17-e244-4cb8-a446-1abdbe08f475",
   "metadata": {},
   "outputs": [
    {
     "data": {
      "text/plain": [
       "\"\\nPython\\nimport numpy as np\\n\\n# Create a 3x3 matrix of zeros using np.zeros()\\nzeros_matrix = np.zeros((3, 3))\\n\\n# Print the matrix\\nprint(zeros_matrix)\\nUse code with caution. Learn more\\nThis code will output the following:\\n\\n[[0. 0. 0.]\\n [0. 0. 0.]\\n [0. 0. 0.]]\\nExplanation:\\n\\nImport NumPy: The import numpy as np statement imports the NumPy library, which is necessary for working with arrays.\\n\\nCreate the array: The np.zeros((3, 3)) function creates a 3x3 matrix filled with zeros. The (3, 3) argument specifies the shape of the matrix, indicating that it will have 3 rows and 3 columns.\\n\\nPrint the array: The print(zeros_matrix) statement displays the contents of the matrix to the console, confirming that it's indeed filled with zeros.\\n\\nKey points:\\n\\nnp.zeros(): This function is specifically designed to create arrays filled with zeros. It's a convenient way to initialize arrays with a specific shape and ensure they start with all values set to zero.\\nShape: The shape of the array is crucial for understanding its structure and how elements are organized. In this case, the shape (3, 3) means the array is two-dimensional with 3 rows and 3 columns.\\n\""
      ]
     },
     "execution_count": 10,
     "metadata": {},
     "output_type": "execute_result"
    }
   ],
   "source": [
    "'''\n",
    "Python\n",
    "import numpy as np\n",
    "\n",
    "# Create a 3x3 matrix of zeros using np.zeros()\n",
    "zeros_matrix = np.zeros((3, 3))\n",
    "\n",
    "# Print the matrix\n",
    "print(zeros_matrix)\n",
    "Use code with caution. Learn more\n",
    "This code will output the following:\n",
    "\n",
    "[[0. 0. 0.]\n",
    " [0. 0. 0.]\n",
    " [0. 0. 0.]]\n",
    "Explanation:\n",
    "\n",
    "Import NumPy: The import numpy as np statement imports the NumPy library, which is necessary for working with arrays.\n",
    "\n",
    "Create the array: The np.zeros((3, 3)) function creates a 3x3 matrix filled with zeros. The (3, 3) argument specifies the shape of the matrix, indicating that it will have 3 rows and 3 columns.\n",
    "\n",
    "Print the array: The print(zeros_matrix) statement displays the contents of the matrix to the console, confirming that it's indeed filled with zeros.\n",
    "\n",
    "Key points:\n",
    "\n",
    "np.zeros(): This function is specifically designed to create arrays filled with zeros. It's a convenient way to initialize arrays with a specific shape and ensure they start with all values set to zero.\n",
    "Shape: The shape of the array is crucial for understanding its structure and how elements are organized. In this case, the shape (3, 3) means the array is two-dimensional with 3 rows and 3 columns.\n",
    "'''"
   ]
  },
  {
   "cell_type": "code",
   "execution_count": 11,
   "id": "2d536d77-37d8-42cd-abd1-a5ae75fdf44a",
   "metadata": {},
   "outputs": [
    {
     "data": {
      "text/plain": [
       "'\\nQ6. Create an identity matrix of shape (5,5) using numpy functions?\\n[Hint: An identity matrix is a matrix containing 1 diagonally and other elements will be 0.]\\n'"
      ]
     },
     "execution_count": 11,
     "metadata": {},
     "output_type": "execute_result"
    }
   ],
   "source": [
    "'''\n",
    "Q6. Create an identity matrix of shape (5,5) using numpy functions?\n",
    "[Hint: An identity matrix is a matrix containing 1 diagonally and other elements will be 0.]\n",
    "'''"
   ]
  },
  {
   "cell_type": "code",
   "execution_count": 12,
   "id": "c048f793-9b5b-4652-836b-c49ef68da3ed",
   "metadata": {},
   "outputs": [
    {
     "data": {
      "text/plain": [
       "\"\\nHere's the code to create a 5x5 identity matrix using NumPy functions:\\n\\nPython\\nimport numpy as np\\n\\n# Create a 5x5 identity matrix using np.eye()\\nidentity_matrix = np.eye(5)\\n\\n# Print the matrix\\nprint(identity_matrix)\\nUse code with caution. Learn more\\nThis code will output the following:\\n\\n[[1. 0. 0. 0. 0.]\\n [0. 1. 0. 0. 0.]\\n [0. 0. 1. 0. 0.]\\n [0. 0. 0. 1. 0.]\\n [0. 0. 0. 0. 1.]]\\nExplanation:\\n\\nImport NumPy: The import numpy as np statement imports the NumPy library, which is necessary for working with arrays.\\nCreate the identity matrix: The np.eye(5) function creates a 5x5 identity matrix. This function automatically generates a square matrix with ones on the main diagonal and zeros elsewhere.\\nPrint the matrix: The print(identity_matrix) statement displays the contents of the matrix to the console, confirming that it's indeed an identity matrix.\\n\""
      ]
     },
     "execution_count": 12,
     "metadata": {},
     "output_type": "execute_result"
    }
   ],
   "source": [
    "'''\n",
    "Here's the code to create a 5x5 identity matrix using NumPy functions:\n",
    "\n",
    "Python\n",
    "import numpy as np\n",
    "\n",
    "# Create a 5x5 identity matrix using np.eye()\n",
    "identity_matrix = np.eye(5)\n",
    "\n",
    "# Print the matrix\n",
    "print(identity_matrix)\n",
    "Use code with caution. Learn more\n",
    "This code will output the following:\n",
    "\n",
    "[[1. 0. 0. 0. 0.]\n",
    " [0. 1. 0. 0. 0.]\n",
    " [0. 0. 1. 0. 0.]\n",
    " [0. 0. 0. 1. 0.]\n",
    " [0. 0. 0. 0. 1.]]\n",
    "Explanation:\n",
    "\n",
    "Import NumPy: The import numpy as np statement imports the NumPy library, which is necessary for working with arrays.\n",
    "Create the identity matrix: The np.eye(5) function creates a 5x5 identity matrix. This function automatically generates a square matrix with ones on the main diagonal and zeros elsewhere.\n",
    "Print the matrix: The print(identity_matrix) statement displays the contents of the matrix to the console, confirming that it's indeed an identity matrix.\n",
    "'''"
   ]
  },
  {
   "cell_type": "code",
   "execution_count": null,
   "id": "0eb88a46-cdcd-4518-a6b7-015b6937a2e2",
   "metadata": {},
   "outputs": [],
   "source": []
  }
 ],
 "metadata": {
  "kernelspec": {
   "display_name": "Python 3 (ipykernel)",
   "language": "python",
   "name": "python3"
  },
  "language_info": {
   "codemirror_mode": {
    "name": "ipython",
    "version": 3
   },
   "file_extension": ".py",
   "mimetype": "text/x-python",
   "name": "python",
   "nbconvert_exporter": "python",
   "pygments_lexer": "ipython3",
   "version": "3.10.8"
  }
 },
 "nbformat": 4,
 "nbformat_minor": 5
}
