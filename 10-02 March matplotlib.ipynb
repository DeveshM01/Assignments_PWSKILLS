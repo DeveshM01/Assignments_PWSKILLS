{
 "cells": [
  {
   "cell_type": "markdown",
   "id": "4a20bd38-74ef-46b2-8ad9-330aa28c7b62",
   "metadata": {},
   "source": [
    "## Matplotlib"
   ]
  },
  {
   "cell_type": "code",
   "execution_count": 2,
   "id": "aad25310-7669-4c41-80a5-c51b8be56f5c",
   "metadata": {},
   "outputs": [
    {
     "data": {
      "text/plain": [
       "'\\nQ1: What is Matplotlib? Why is it used? Name five plots that can be plotted using the Pyplot module of\\nMatplotlib.\\n\\n'"
      ]
     },
     "execution_count": 2,
     "metadata": {},
     "output_type": "execute_result"
    }
   ],
   "source": [
    "'''\n",
    "Q1: What is Matplotlib? Why is it used? Name five plots that can be plotted using the Pyplot module of\n",
    "Matplotlib.\n",
    "\n",
    "'''"
   ]
  },
  {
   "cell_type": "code",
   "execution_count": 3,
   "id": "0c8712ff-a0b6-4ce5-9be5-b564aaf70755",
   "metadata": {},
   "outputs": [
    {
     "data": {
      "text/plain": [
       "'\\nMatplotlib is a powerful and versatile Python library for creating static, animated, and interactive visualizations. It provides a wide range of tools for generating various plots and charts, making it a cornerstone of data exploration and analysis in Python.\\n\\nKey Features:\\n\\nExtensive plot types: Supports a vast array of plot types, including line, bar, scatter, histogram, pie, 3D plots, and more.\\nCustomization: Offers extensive control over plot elements like colors, fonts, labels, grids, legends, and annotations.\\nInteractivity: Enables the creation of interactive plots using toolkits like Qt, Tkinter, or WxPython.\\nIntegration with other libraries: Seamlessly integrates with NumPy, pandas, SciPy, and other scientific Python libraries for data manipulation and analysis.\\nWhy is Matplotlib Used?\\n\\nSimplicity: Easy to learn and use, particularly for basic plots.\\nVersatility: Handles diverse data types and visualization needs.\\nCustomization: Provides fine-grained control over plot appearance and behavior.\\nCommunity and support: Backed by a large and active community, offering abundant resources and solutions.\\nFive Plots You Can Create with Matplotlib\\'s Pyplot Module:\\n\\nLine Plots: Visualize trends or relationships between variables using points connected by lines. Great for visualizing time series data, relationships between continuous variables, or functions.\\nBar Plots: Represent categorical data using rectangular bars whose heights or lengths correspond to data values. Ideal for showing comparisons between groups or distributions.\\nScatter Plots: Display values as individual points. Useful for exploring relationships between two continuous variables, identifying outliers, or visualizing clusters.\\nHistogram Plots: Depict the frequency distribution of numerical data by dividing the range into bins and counting the number of data points falling into each bin. Ideal for understanding data distribution and identifying potential skewness or normality.\\nPie Charts: Divide a circle into sectors proportional to the values of categories in a set of data. Good for highlighting relative contributions of different categories to a whole, but limited in the number of categories it can effectively represent.\\nExamples:\\n\\nHere\\'s a basic line plot created using Matplotlib\\'s Pyplot module:\\n\\nPython\\nimport matplotlib.pyplot as plt\\n\\nx = [1, 2, 3, 4, 5]\\ny = [3, 5, 7, 2, 9]\\n\\nplt.plot(x, y)\\nplt.xlabel(\"X-axis\")\\nplt.ylabel(\"Y-axis\")\\nplt.title(\"Line Plot Example\")\\nplt.show()\\n'"
      ]
     },
     "execution_count": 3,
     "metadata": {},
     "output_type": "execute_result"
    }
   ],
   "source": [
    "'''\n",
    "Matplotlib is a powerful and versatile Python library for creating static, animated, and interactive visualizations. It provides a wide range of tools for generating various plots and charts, making it a cornerstone of data exploration and analysis in Python.\n",
    "\n",
    "Key Features:\n",
    "\n",
    "Extensive plot types: Supports a vast array of plot types, including line, bar, scatter, histogram, pie, 3D plots, and more.\n",
    "Customization: Offers extensive control over plot elements like colors, fonts, labels, grids, legends, and annotations.\n",
    "Interactivity: Enables the creation of interactive plots using toolkits like Qt, Tkinter, or WxPython.\n",
    "Integration with other libraries: Seamlessly integrates with NumPy, pandas, SciPy, and other scientific Python libraries for data manipulation and analysis.\n",
    "Why is Matplotlib Used?\n",
    "\n",
    "Simplicity: Easy to learn and use, particularly for basic plots.\n",
    "Versatility: Handles diverse data types and visualization needs.\n",
    "Customization: Provides fine-grained control over plot appearance and behavior.\n",
    "Community and support: Backed by a large and active community, offering abundant resources and solutions.\n",
    "Five Plots You Can Create with Matplotlib's Pyplot Module:\n",
    "\n",
    "Line Plots: Visualize trends or relationships between variables using points connected by lines. Great for visualizing time series data, relationships between continuous variables, or functions.\n",
    "Bar Plots: Represent categorical data using rectangular bars whose heights or lengths correspond to data values. Ideal for showing comparisons between groups or distributions.\n",
    "Scatter Plots: Display values as individual points. Useful for exploring relationships between two continuous variables, identifying outliers, or visualizing clusters.\n",
    "Histogram Plots: Depict the frequency distribution of numerical data by dividing the range into bins and counting the number of data points falling into each bin. Ideal for understanding data distribution and identifying potential skewness or normality.\n",
    "Pie Charts: Divide a circle into sectors proportional to the values of categories in a set of data. Good for highlighting relative contributions of different categories to a whole, but limited in the number of categories it can effectively represent.\n",
    "Examples:\n",
    "\n",
    "Here's a basic line plot created using Matplotlib's Pyplot module:\n",
    "\n",
    "Python\n",
    "import matplotlib.pyplot as plt\n",
    "\n",
    "x = [1, 2, 3, 4, 5]\n",
    "y = [3, 5, 7, 2, 9]\n",
    "\n",
    "plt.plot(x, y)\n",
    "plt.xlabel(\"X-axis\")\n",
    "plt.ylabel(\"Y-axis\")\n",
    "plt.title(\"Line Plot Example\")\n",
    "plt.show()\n",
    "'''"
   ]
  },
  {
   "cell_type": "code",
   "execution_count": 4,
   "id": "a0b59219-6463-4a22-9725-263ff56fe22c",
   "metadata": {},
   "outputs": [
    {
     "data": {
      "text/plain": [
       "'\\nQ2: What is a scatter plot? Use the following code to generate data for x and y. Using this generated data\\nplot a scatter plot.\\nimport numpy as np\\nnp.random.seed(3)\\nx = 3 + np.random.normal(0, 2, 50)\\ny = 3 + np.random.normal(0, 2, len(x))\\nNote: Also add title, xlabel, and ylabel to the plot.\\n'"
      ]
     },
     "execution_count": 4,
     "metadata": {},
     "output_type": "execute_result"
    }
   ],
   "source": [
    "'''\n",
    "Q2: What is a scatter plot? Use the following code to generate data for x and y. Using this generated data\n",
    "plot a scatter plot.\n",
    "import numpy as np\n",
    "np.random.seed(3)\n",
    "x = 3 + np.random.normal(0, 2, 50)\n",
    "y = 3 + np.random.normal(0, 2, len(x))\n",
    "Note: Also add title, xlabel, and ylabel to the plot.\n",
    "'''"
   ]
  },
  {
   "cell_type": "code",
   "execution_count": 5,
   "id": "889acc6c-bf43-45eb-9955-6f2de28c3dac",
   "metadata": {},
   "outputs": [
    {
     "data": {
      "text/plain": [
       "'\\nScatter Plot Creation and Explanation\\nHere\\'s the code to plot a scatter plot using the provided data and adding elements like title, xlabel, and ylabel:\\n\\nPython\\nimport matplotlib.pyplot as plt\\nimport numpy as np\\n\\nnp.random.seed(3)\\nx = 3 + np.random.normal(0, 2, 50)\\ny = 3 + np.random.normal(0, 2, len(x))\\n\\nplt.scatter(x, y)\\nplt.title(\"Scatter Plot Example\")\\nplt.xlabel(\"X-axis\")\\nplt.ylabel(\"Y-axis\")\\nplt.grid(True)  # Optional: Add grid lines for better readability\\nplt.show()\\nUse code with caution. Learn more\\nThis code will generate a scatter plot with the following key elements:\\n\\nPoints: Each data point (x, y) is represented by a circle on the plot.\\nTitle: \"Scatter Plot Example\" is displayed above the plot.\\nX-axis label: \"X-axis\" is displayed below the x-axis.\\nY-axis label: \"Y-axis\" is displayed to the left of the y-axis.\\nGridlines: Optional grid lines are added for better visualization of data distribution.\\nUnderstanding Scatter Plots:\\n\\nA scatter plot is a type of data visualization that uses dots to represent individual data points. Each dot\\'s position on the horizontal (x-axis) and vertical (y-axis) corresponds to the values of two variables. Scatter plots are useful for:\\n\\nVisualizing relationships between two numerical variables.\\nExploring data distributions.\\nIdentifying outliers or clusters.\\n'"
      ]
     },
     "execution_count": 5,
     "metadata": {},
     "output_type": "execute_result"
    }
   ],
   "source": [
    "'''\n",
    "Scatter Plot Creation and Explanation\n",
    "Here's the code to plot a scatter plot using the provided data and adding elements like title, xlabel, and ylabel:\n",
    "\n",
    "Python\n",
    "import matplotlib.pyplot as plt\n",
    "import numpy as np\n",
    "\n",
    "np.random.seed(3)\n",
    "x = 3 + np.random.normal(0, 2, 50)\n",
    "y = 3 + np.random.normal(0, 2, len(x))\n",
    "\n",
    "plt.scatter(x, y)\n",
    "plt.title(\"Scatter Plot Example\")\n",
    "plt.xlabel(\"X-axis\")\n",
    "plt.ylabel(\"Y-axis\")\n",
    "plt.grid(True)  # Optional: Add grid lines for better readability\n",
    "plt.show()\n",
    "Use code with caution. Learn more\n",
    "This code will generate a scatter plot with the following key elements:\n",
    "\n",
    "Points: Each data point (x, y) is represented by a circle on the plot.\n",
    "Title: \"Scatter Plot Example\" is displayed above the plot.\n",
    "X-axis label: \"X-axis\" is displayed below the x-axis.\n",
    "Y-axis label: \"Y-axis\" is displayed to the left of the y-axis.\n",
    "Gridlines: Optional grid lines are added for better visualization of data distribution.\n",
    "Understanding Scatter Plots:\n",
    "\n",
    "A scatter plot is a type of data visualization that uses dots to represent individual data points. Each dot's position on the horizontal (x-axis) and vertical (y-axis) corresponds to the values of two variables. Scatter plots are useful for:\n",
    "\n",
    "Visualizing relationships between two numerical variables.\n",
    "Exploring data distributions.\n",
    "Identifying outliers or clusters.\n",
    "'''"
   ]
  },
  {
   "cell_type": "code",
   "execution_count": 6,
   "id": "31185e63-7ae6-46b3-a6d2-ed208c71d99a",
   "metadata": {},
   "outputs": [
    {
     "data": {
      "text/plain": [
       "'\\nQ3: Why is the subplot() function used? Draw four line plots using the subplot() function.\\nUse the following data:\\nimport numpy as np\\nFor line 1: x = np.array([0, 1, 2, 3, 4, 5]) and y = np.array([0, 100, 200, 300, 400, 500])\\nFor line 2: x = np.array([0, 1, 2, 3, 4, 5]) and y = np.array([50, 20, 40, 20, 60, 70])\\nFor line 3: x = np.array([0, 1, 2, 3, 4, 5]) and y = np.array([10, 20, 30, 40, 50, 60])\\nFor line 4: x = np.array([0, 1, 2, 3, 4, 5]) and y = np.array([200, 350, 250, 550, 450, 150])\\n'"
      ]
     },
     "execution_count": 6,
     "metadata": {},
     "output_type": "execute_result"
    }
   ],
   "source": [
    "'''\n",
    "Q3: Why is the subplot() function used? Draw four line plots using the subplot() function.\n",
    "Use the following data:\n",
    "import numpy as np\n",
    "For line 1: x = np.array([0, 1, 2, 3, 4, 5]) and y = np.array([0, 100, 200, 300, 400, 500])\n",
    "For line 2: x = np.array([0, 1, 2, 3, 4, 5]) and y = np.array([50, 20, 40, 20, 60, 70])\n",
    "For line 3: x = np.array([0, 1, 2, 3, 4, 5]) and y = np.array([10, 20, 30, 40, 50, 60])\n",
    "For line 4: x = np.array([0, 1, 2, 3, 4, 5]) and y = np.array([200, 350, 250, 550, 450, 150])\n",
    "'''"
   ]
  },
  {
   "cell_type": "code",
   "execution_count": 7,
   "id": "ccc7bbfe-a5e0-4219-8632-a441d6f1c9dd",
   "metadata": {},
   "outputs": [
    {
     "data": {
      "text/plain": [
       "\"\\nUsing subplot() for Multiple Line Plots:\\nThe subplot() function in Matplotlib is used to create multiple plots within a single figure, allowing you to compare and visualize different datasets alongside each other. Here's how to draw four line plots using subplot() and the provided data:\\n\\nPython\\nimport matplotlib.pyplot as plt\\nimport numpy as np\\n\\n# Data for each line\\nline1_x = np.array([0, 1, 2, 3, 4, 5])\\nline1_y = np.array([0, 100, 200, 300, 400, 500])\\nline2_x = np.array([0, 1, 2, 3, 4, 5])\\nline2_y = np.array([50, 20, 40, 20, 60, 70])\\nline3_x = np.array([0, 1, 2, 3, 4, 5])\\nline3_y = np.array([10, 20, 30, 40, 50, 60])\\nline4_x = np.array([0, 1, 2, 3, 4, 5])\\nline4_y = np.array([200, 350, 250, 550, 450, 150])\\n\\n# Create a figure and a grid of subplots (2 rows, 2 columns)\\nfig, axs = plt.subplots(2, 2, figsize=(10, 8))\\n\\n# Plot each line on a separate subplot\\naxs[0, 0].plot(line1_x, line1_y, label='Line 1')\\naxs[0, 0].set_title('Line 1 Plot')\\naxs[0, 0].legend()\\n\\naxs[0, 1].plot(line2_x, line2_y, label='Line 2')\\naxs[0, 1].set_title('Line 2 Plot')\\naxs[0, 1].legend()\\n\\naxs[1, 0].plot(line3_x, line3_y, label='Line 3')\\naxs[1, 0].set_title('Line 3 Plot')\\naxs[1, 0].legend()\\n\\naxs[1, 1].plot(line4_x, line4_y, label='Line 4')\\naxs[1, 1].set_title('Line 4 Plot')\\naxs[1, 1].legend()\\n\\n# Adjust spacing and layout for better visualization\\nplt.tight_layout()\\n\\n# Common labels for all subplots\\nfig.suptitle('Four Line Plots Using Subplots')\\nplt.xlabel('X-axis')\\nplt.ylabel('Y-axis')\\n\\nplt.show()\\nUse code with caution. Learn more\\nThis code will produce a figure with four subplots, each displaying a line plot with its own title and legend. The figure also has a common title and x/y labels for all subplots.\\n\\nKey Points:\\n\\nsubplots(rows, cols) creates a grid of subplots with the specified number of rows and columns.\\nEach subplot is accessed using indexing (e.g., axs[1, 0] for the second row, first column).\\nThe plot() function draws a line plot on the specified subplot.\\nTitles, legends, and labels are added individually to each subplot.\\ntight_layout() adjusts spacing between subplots and labels for better readability.\\nsuptitle() adds a common title above all subplots.\\n\""
      ]
     },
     "execution_count": 7,
     "metadata": {},
     "output_type": "execute_result"
    }
   ],
   "source": [
    "'''\n",
    "Using subplot() for Multiple Line Plots:\n",
    "The subplot() function in Matplotlib is used to create multiple plots within a single figure, allowing you to compare and visualize different datasets alongside each other. Here's how to draw four line plots using subplot() and the provided data:\n",
    "\n",
    "Python\n",
    "import matplotlib.pyplot as plt\n",
    "import numpy as np\n",
    "\n",
    "# Data for each line\n",
    "line1_x = np.array([0, 1, 2, 3, 4, 5])\n",
    "line1_y = np.array([0, 100, 200, 300, 400, 500])\n",
    "line2_x = np.array([0, 1, 2, 3, 4, 5])\n",
    "line2_y = np.array([50, 20, 40, 20, 60, 70])\n",
    "line3_x = np.array([0, 1, 2, 3, 4, 5])\n",
    "line3_y = np.array([10, 20, 30, 40, 50, 60])\n",
    "line4_x = np.array([0, 1, 2, 3, 4, 5])\n",
    "line4_y = np.array([200, 350, 250, 550, 450, 150])\n",
    "\n",
    "# Create a figure and a grid of subplots (2 rows, 2 columns)\n",
    "fig, axs = plt.subplots(2, 2, figsize=(10, 8))\n",
    "\n",
    "# Plot each line on a separate subplot\n",
    "axs[0, 0].plot(line1_x, line1_y, label='Line 1')\n",
    "axs[0, 0].set_title('Line 1 Plot')\n",
    "axs[0, 0].legend()\n",
    "\n",
    "axs[0, 1].plot(line2_x, line2_y, label='Line 2')\n",
    "axs[0, 1].set_title('Line 2 Plot')\n",
    "axs[0, 1].legend()\n",
    "\n",
    "axs[1, 0].plot(line3_x, line3_y, label='Line 3')\n",
    "axs[1, 0].set_title('Line 3 Plot')\n",
    "axs[1, 0].legend()\n",
    "\n",
    "axs[1, 1].plot(line4_x, line4_y, label='Line 4')\n",
    "axs[1, 1].set_title('Line 4 Plot')\n",
    "axs[1, 1].legend()\n",
    "\n",
    "# Adjust spacing and layout for better visualization\n",
    "plt.tight_layout()\n",
    "\n",
    "# Common labels for all subplots\n",
    "fig.suptitle('Four Line Plots Using Subplots')\n",
    "plt.xlabel('X-axis')\n",
    "plt.ylabel('Y-axis')\n",
    "\n",
    "plt.show()\n",
    "Use code with caution. Learn more\n",
    "This code will produce a figure with four subplots, each displaying a line plot with its own title and legend. The figure also has a common title and x/y labels for all subplots.\n",
    "\n",
    "Key Points:\n",
    "\n",
    "subplots(rows, cols) creates a grid of subplots with the specified number of rows and columns.\n",
    "Each subplot is accessed using indexing (e.g., axs[1, 0] for the second row, first column).\n",
    "The plot() function draws a line plot on the specified subplot.\n",
    "Titles, legends, and labels are added individually to each subplot.\n",
    "tight_layout() adjusts spacing between subplots and labels for better readability.\n",
    "suptitle() adds a common title above all subplots.\n",
    "'''"
   ]
  },
  {
   "cell_type": "code",
   "execution_count": 8,
   "id": "5f6ea8e8-8ba2-4a54-a502-144e397b0e2b",
   "metadata": {},
   "outputs": [
    {
     "data": {
      "text/plain": [
       "'\\nQ4: What is a bar plot? Why is it used? Using the following data plot a bar plot and a horizontal bar plot.\\nimport numpy as np\\ncompany = np.array([\"Apple\", \"Microsoft\", \"Google\", \"AMD\"])\\nprofit = np.array([3000, 8000, 1000, 10000])\\n'"
      ]
     },
     "execution_count": 8,
     "metadata": {},
     "output_type": "execute_result"
    }
   ],
   "source": [
    "'''\n",
    "Q4: What is a bar plot? Why is it used? Using the following data plot a bar plot and a horizontal bar plot.\n",
    "import numpy as np\n",
    "company = np.array([\"Apple\", \"Microsoft\", \"Google\", \"AMD\"])\n",
    "profit = np.array([3000, 8000, 1000, 10000])\n",
    "'''"
   ]
  },
  {
   "cell_type": "code",
   "execution_count": 9,
   "id": "96ab7b04-e290-4951-abc1-bc9e9bdd06de",
   "metadata": {},
   "outputs": [
    {
     "data": {
      "text/plain": [
       "'\\n\\nUnderstanding and Plotting Bar Plots:\\nWhat is a bar plot?\\n\\nA bar plot is a type of data visualization that uses rectangular bars to represent categorical data. The length or height of each bar corresponds to the value associated with a specific category. Bar plots are useful for:\\n\\nComparing between different categories.\\nVisualizing the distribution of data across categories.\\nHighlighting relative magnitudes of values within a set of categories.\\nWhy is it used?\\n\\nBar plots are commonly used in various domains, including:\\n\\nBusiness: Comparing profits, sales, or market share across different companies.\\nScience: Comparing experimental results or measurements for different conditions.\\nSocial sciences: Comparing survey responses or demographics across different groups.\\nPlotting Bar Plots with Matplotlib:\\n\\nHere\\'s the code to create a bar plot and a horizontal bar plot using your provided data:\\n\\nPython\\nimport matplotlib.pyplot as plt\\nimport numpy as np\\n\\ncompany = np.array([\"Apple\", \"Microsoft\", \"Google\", \"AMD\"])\\nprofit = np.array([3000, 8000, 1000, 10000])\\n\\n# Vertical bar plot\\nplt.figure(figsize=(8, 6))\\nplt.bar(company, profit, color=\\'skyblue\\')\\nplt.xlabel(\"Company\")\\nplt.ylabel(\"Profit (USD)\")\\nplt.title(\"Vertical Bar Plot: Company Profits\")\\nplt.xticks(rotation=45)  # Rotate x-axis labels for better readability\\nplt.grid(axis=\\'y\\', linestyle=\\'--\\', alpha=0.7)\\nplt.tight_layout()\\n\\n# Horizontal bar plot\\nplt.figure(figsize=(8, 6))\\nplt.barh(company, profit, color=\\'lightgreen\\')\\nplt.xlabel(\"Profit (USD)\")\\nplt.ylabel(\"Company\")\\nplt.title(\"Horizontal Bar Plot: Company Profits\")\\nplt.gca().invert_yaxis()  # Invert y-axis for readability\\nplt.grid(axis=\\'x\\', linestyle=\\'--\\', alpha=0.7)\\nplt.tight_layout()\\n\\nplt.show()\\nUse code with caution. Learn more\\nThis code will create two figures:\\n\\nVertical bar plot: Companies are on the x-axis, and profits are represented by the heights of vertical bars.\\nHorizontal bar plot: Companies are on the y-axis, and profits are represented by the lengths of horizontal bars.\\n'"
      ]
     },
     "execution_count": 9,
     "metadata": {},
     "output_type": "execute_result"
    }
   ],
   "source": [
    "'''\n",
    "\n",
    "Understanding and Plotting Bar Plots:\n",
    "What is a bar plot?\n",
    "\n",
    "A bar plot is a type of data visualization that uses rectangular bars to represent categorical data. The length or height of each bar corresponds to the value associated with a specific category. Bar plots are useful for:\n",
    "\n",
    "Comparing between different categories.\n",
    "Visualizing the distribution of data across categories.\n",
    "Highlighting relative magnitudes of values within a set of categories.\n",
    "Why is it used?\n",
    "\n",
    "Bar plots are commonly used in various domains, including:\n",
    "\n",
    "Business: Comparing profits, sales, or market share across different companies.\n",
    "Science: Comparing experimental results or measurements for different conditions.\n",
    "Social sciences: Comparing survey responses or demographics across different groups.\n",
    "Plotting Bar Plots with Matplotlib:\n",
    "\n",
    "Here's the code to create a bar plot and a horizontal bar plot using your provided data:\n",
    "\n",
    "Python\n",
    "import matplotlib.pyplot as plt\n",
    "import numpy as np\n",
    "\n",
    "company = np.array([\"Apple\", \"Microsoft\", \"Google\", \"AMD\"])\n",
    "profit = np.array([3000, 8000, 1000, 10000])\n",
    "\n",
    "# Vertical bar plot\n",
    "plt.figure(figsize=(8, 6))\n",
    "plt.bar(company, profit, color='skyblue')\n",
    "plt.xlabel(\"Company\")\n",
    "plt.ylabel(\"Profit (USD)\")\n",
    "plt.title(\"Vertical Bar Plot: Company Profits\")\n",
    "plt.xticks(rotation=45)  # Rotate x-axis labels for better readability\n",
    "plt.grid(axis='y', linestyle='--', alpha=0.7)\n",
    "plt.tight_layout()\n",
    "\n",
    "# Horizontal bar plot\n",
    "plt.figure(figsize=(8, 6))\n",
    "plt.barh(company, profit, color='lightgreen')\n",
    "plt.xlabel(\"Profit (USD)\")\n",
    "plt.ylabel(\"Company\")\n",
    "plt.title(\"Horizontal Bar Plot: Company Profits\")\n",
    "plt.gca().invert_yaxis()  # Invert y-axis for readability\n",
    "plt.grid(axis='x', linestyle='--', alpha=0.7)\n",
    "plt.tight_layout()\n",
    "\n",
    "plt.show()\n",
    "Use code with caution. Learn more\n",
    "This code will create two figures:\n",
    "\n",
    "Vertical bar plot: Companies are on the x-axis, and profits are represented by the heights of vertical bars.\n",
    "Horizontal bar plot: Companies are on the y-axis, and profits are represented by the lengths of horizontal bars.\n",
    "'''"
   ]
  },
  {
   "cell_type": "code",
   "execution_count": 10,
   "id": "dc6663b8-8dc5-4d0f-a7b4-ead7e2822322",
   "metadata": {},
   "outputs": [
    {
     "data": {
      "text/plain": [
       "'\\nQ5: What is a box plot? Why is it used? Using the following data plot a box plot.\\nbox1 = np.random.normal(100, 10, 200)\\nbox2 = np.random.normal(90, 20, 200)\\n'"
      ]
     },
     "execution_count": 10,
     "metadata": {},
     "output_type": "execute_result"
    }
   ],
   "source": [
    "'''\n",
    "Q5: What is a box plot? Why is it used? Using the following data plot a box plot.\n",
    "box1 = np.random.normal(100, 10, 200)\n",
    "box2 = np.random.normal(90, 20, 200)\n",
    "'''"
   ]
  },
  {
   "cell_type": "code",
   "execution_count": 11,
   "id": "5290b477-0877-4de3-9ca4-acaad24cee05",
   "metadata": {},
   "outputs": [
    {
     "data": {
      "text/plain": [
       "'\\nUnderstanding and Plotting Box Plots:\\nWhat is a box plot?\\n\\nA box plot, also known as a whisker plot, is a type of data visualization that summarizes the distribution of a numerical variable. It uses a box and whiskers to represent the quartiles (25th, 50th, and 75th percentiles) and the overall spread of the data. Box plots are useful for:\\n\\nComparing the distributions of numerical data across different groups or conditions.\\nIdentifying outliers or skewed data distributions.\\nGetting a quick overview of the central tendency and variability of data.\\nWhy is it used?\\n\\nBox plots are commonly used in various domains, including:\\n\\nStatistics: Comparing distributions of samples or populations.\\nData analysis: Exploring data distributions and identifying potential issues.\\nExploratory data visualization: Visualizing key statistics and relationships between variables.\\nPlotting a Box Plot with Matplotlib:\\n\\nHere\\'s the code to create a box plot using your provided data:\\n\\nPython\\nimport matplotlib.pyplot as plt\\nimport numpy as np\\n\\nbox1 = np.random.normal(100, 10, 200)\\nbox2 = np.random.normal(90, 20, 200)\\n\\nplt.figure(figsize=(8, 6))\\nplt.boxplot([box1, box2], labels=[\\'Box 1\\', \\'Box 2\\'], notch=True)\\nplt.xlabel(\"Dataset\")\\nplt.ylabel(\"Value\")\\nplt.title(\"Box Plot Comparison\")\\nplt.grid(axis=\\'y\\', linestyle=\\'--\\', alpha=0.7)\\nplt.tight_layout()\\n\\nplt.show()\\nUse code with caution. Learn more\\nThis code will create a single figure with a box plot comparing the distributions of box1 and box2. The box represents the interquartile range (IQR), the horizontal line within the box marks the median (50th percentile), and the whiskers extend to the furthest non-outlier data points (typically within 1.5 times the IQR).\\n'"
      ]
     },
     "execution_count": 11,
     "metadata": {},
     "output_type": "execute_result"
    }
   ],
   "source": [
    "'''\n",
    "Understanding and Plotting Box Plots:\n",
    "What is a box plot?\n",
    "\n",
    "A box plot, also known as a whisker plot, is a type of data visualization that summarizes the distribution of a numerical variable. It uses a box and whiskers to represent the quartiles (25th, 50th, and 75th percentiles) and the overall spread of the data. Box plots are useful for:\n",
    "\n",
    "Comparing the distributions of numerical data across different groups or conditions.\n",
    "Identifying outliers or skewed data distributions.\n",
    "Getting a quick overview of the central tendency and variability of data.\n",
    "Why is it used?\n",
    "\n",
    "Box plots are commonly used in various domains, including:\n",
    "\n",
    "Statistics: Comparing distributions of samples or populations.\n",
    "Data analysis: Exploring data distributions and identifying potential issues.\n",
    "Exploratory data visualization: Visualizing key statistics and relationships between variables.\n",
    "Plotting a Box Plot with Matplotlib:\n",
    "\n",
    "Here's the code to create a box plot using your provided data:\n",
    "\n",
    "Python\n",
    "import matplotlib.pyplot as plt\n",
    "import numpy as np\n",
    "\n",
    "box1 = np.random.normal(100, 10, 200)\n",
    "box2 = np.random.normal(90, 20, 200)\n",
    "\n",
    "plt.figure(figsize=(8, 6))\n",
    "plt.boxplot([box1, box2], labels=['Box 1', 'Box 2'], notch=True)\n",
    "plt.xlabel(\"Dataset\")\n",
    "plt.ylabel(\"Value\")\n",
    "plt.title(\"Box Plot Comparison\")\n",
    "plt.grid(axis='y', linestyle='--', alpha=0.7)\n",
    "plt.tight_layout()\n",
    "\n",
    "plt.show()\n",
    "Use code with caution. Learn more\n",
    "This code will create a single figure with a box plot comparing the distributions of box1 and box2. The box represents the interquartile range (IQR), the horizontal line within the box marks the median (50th percentile), and the whiskers extend to the furthest non-outlier data points (typically within 1.5 times the IQR).\n",
    "'''"
   ]
  },
  {
   "cell_type": "code",
   "execution_count": null,
   "id": "a5195d36-ca4a-43ff-adf6-6abcb4b726f5",
   "metadata": {},
   "outputs": [],
   "source": []
  }
 ],
 "metadata": {
  "kernelspec": {
   "display_name": "Python 3 (ipykernel)",
   "language": "python",
   "name": "python3"
  },
  "language_info": {
   "codemirror_mode": {
    "name": "ipython",
    "version": 3
   },
   "file_extension": ".py",
   "mimetype": "text/x-python",
   "name": "python",
   "nbconvert_exporter": "python",
   "pygments_lexer": "ipython3",
   "version": "3.10.8"
  }
 },
 "nbformat": 4,
 "nbformat_minor": 5
}
