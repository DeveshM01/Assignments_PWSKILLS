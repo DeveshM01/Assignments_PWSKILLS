{
 "cells": [
  {
   "cell_type": "markdown",
   "id": "fce271dd-7364-40c9-9473-984824e119e2",
   "metadata": {},
   "source": [
    "Pandas Assignment (22 Feb)"
   ]
  },
  {
   "cell_type": "code",
   "execution_count": 1,
   "id": "ac70d118-15d9-4c09-a490-404afa0c4b45",
   "metadata": {},
   "outputs": [],
   "source": [
    "# Q1. Create a Pandas Series that contains the following data: 4, 8, 15, 16, 23, and 42. Then, print the series. \n"
   ]
  },
  {
   "cell_type": "code",
   "execution_count": 2,
   "id": "30190d86-9911-4aae-a3d3-ea79c1cbd96b",
   "metadata": {},
   "outputs": [
    {
     "name": "stdout",
     "output_type": "stream",
     "text": [
      "0     4\n",
      "1     8\n",
      "2    15\n",
      "3    16\n",
      "4    23\n",
      "5    42\n",
      "dtype: int64\n"
     ]
    }
   ],
   "source": [
    "import pandas as pd\n",
    "\n",
    "# Create a Pandas Series\n",
    "data = [4, 8, 15, 16, 23, 42]\n",
    "my_series = pd.Series(data)\n",
    "\n",
    "# Print the Series\n",
    "print(my_series)\n"
   ]
  },
  {
   "cell_type": "code",
   "execution_count": 3,
   "id": "94db53b2-8e13-4569-a6a7-631cf8823964",
   "metadata": {},
   "outputs": [],
   "source": [
    " # Q2. Create a variable of list type containing 10 elements in it, and apply pandas.Series function on the  variable print it. "
   ]
  },
  {
   "cell_type": "code",
   "execution_count": 4,
   "id": "7ba2a812-6cc7-451c-a9b7-e7990b8338d3",
   "metadata": {},
   "outputs": [
    {
     "name": "stdout",
     "output_type": "stream",
     "text": [
      "0     1\n",
      "1     2\n",
      "2     3\n",
      "3     4\n",
      "4     5\n",
      "5     6\n",
      "6     7\n",
      "7     8\n",
      "8     9\n",
      "9    10\n",
      "dtype: int64\n"
     ]
    }
   ],
   "source": [
    "import pandas as pd\n",
    "\n",
    "# Create a list with 10 elements\n",
    "my_list = [1, 2, 3, 4, 5, 6, 7, 8, 9, 10]\n",
    "\n",
    "# Convert the list to a Pandas Series\n",
    "my_series = pd.Series(my_list)\n",
    "\n",
    "# Print the Series\n",
    "print(my_series)\n"
   ]
  },
  {
   "cell_type": "code",
   "execution_count": 6,
   "id": "125a56de-d4f3-4a35-831c-19a52aa208c9",
   "metadata": {},
   "outputs": [],
   "source": [
    " #Q3. Create a Pandas DataFrame that contains the following data: \n",
    "\n",
    "# Name= Alice Bob Claire \n",
    "# Then, print the DataFrame. \n",
    "# Age= 25 30 27 \n",
    "# Gender= Female Male Female \n"
   ]
  },
  {
   "cell_type": "code",
   "execution_count": 7,
   "id": "9f3db613-3357-49a9-8ad6-9000a2c8ba8b",
   "metadata": {},
   "outputs": [
    {
     "name": "stdout",
     "output_type": "stream",
     "text": [
      "     Name  Age  Gender\n",
      "0   Alice   25  Female\n",
      "1     Bob   30    Male\n",
      "2  Claire   27  Female\n"
     ]
    }
   ],
   "source": [
    "import pandas as pd\n",
    "\n",
    "# Create a dictionary with the data\n",
    "data = {\n",
    "    'Name': ['Alice', 'Bob', 'Claire'],\n",
    "    'Age': [25, 30, 27],\n",
    "    'Gender': ['Female', 'Male', 'Female']\n",
    "}\n",
    "\n",
    "# Create a Pandas DataFrame\n",
    "df = pd.DataFrame(data)\n",
    "\n",
    "# Print the DataFrame\n",
    "print(df)\n"
   ]
  },
  {
   "cell_type": "code",
   "execution_count": 8,
   "id": "01f72c86-04d0-4208-8dd1-3852bd2e7306",
   "metadata": {},
   "outputs": [],
   "source": [
    "# Q4. What is ‘DataFrame’ in pandas and how is it different from pandas.series? Explain with an example. "
   ]
  },
  {
   "cell_type": "code",
   "execution_count": 10,
   "id": "d41407c5-c029-4ef3-a1d9-3912b719fa7b",
   "metadata": {},
   "outputs": [
    {
     "data": {
      "text/plain": [
       "'In Pandas, a DataFrame is a two-dimensional, tabular data structure with labeled axes (rows and columns). It can be thought of as a container for Series objects, where each column of the DataFrame is a Series. A DataFrame allows you to store and manipulate heterogeneous types of data, and it provides powerful methods for data analysis and manipulation.\\n\\nOn the other hand, a Series is a one-dimensional labeled array capable of holding any data type. It can be seen as a single column of a DataFrame. A DataFrame, therefore, is essentially a collection of Series with a shared index.'"
      ]
     },
     "execution_count": 10,
     "metadata": {},
     "output_type": "execute_result"
    }
   ],
   "source": [
    "\n",
    "\"\"\"In Pandas, a DataFrame is a two-dimensional, tabular data structure with labeled axes (rows and columns). It can be thought of as a container for Series objects, where each column of the DataFrame is a Series. A DataFrame allows you to store and manipulate heterogeneous types of data, and it provides powerful methods for data analysis and manipulation.\n",
    "\n",
    "On the other hand, a Series is a one-dimensional labeled array capable of holding any data type. It can be seen as a single column of a DataFrame. A DataFrame, therefore, is essentially a collection of Series with a shared index.\"\"\""
   ]
  },
  {
   "cell_type": "code",
   "execution_count": 11,
   "id": "02eb3ce9-270b-41d6-8451-ba6236efd745",
   "metadata": {},
   "outputs": [],
   "source": [
    "# Q6. Which of the following is mutable in nature Series, DataFrame, Panel? "
   ]
  },
  {
   "cell_type": "code",
   "execution_count": 12,
   "id": "42f41a6c-12a7-4136-a3c9-5aaad9512954",
   "metadata": {},
   "outputs": [
    {
     "data": {
      "text/plain": [
       "\"In Pandas, both Series and DataFrame are mutable, while Panel is considered deprecated.\\n\\nSeries: A Series is mutable, meaning you can modify its elements, add new elements, or remove existing elements.\\n\\nDataFrame: Similarly, a DataFrame is mutable. You can add or remove columns, modify data within the DataFrame, and perform various operations to change its structure.\\n\\nPanel: The Panel was a three-dimensional data structure in older versions of Pandas, but it has been deprecated in recent versions. It's recommended to use MultiIndex DataFrames or Panel-like operations with the wide range of capabilities provided by the DataFrame.\""
      ]
     },
     "execution_count": 12,
     "metadata": {},
     "output_type": "execute_result"
    }
   ],
   "source": [
    "\"\"\"In Pandas, both Series and DataFrame are mutable, while Panel is considered deprecated.\n",
    "\n",
    "Series: A Series is mutable, meaning you can modify its elements, add new elements, or remove existing elements.\n",
    "\n",
    "DataFrame: Similarly, a DataFrame is mutable. You can add or remove columns, modify data within the DataFrame, and perform various operations to change its structure.\n",
    "\n",
    "Panel: The Panel was a three-dimensional data structure in older versions of Pandas, but it has been deprecated in recent versions. It's recommended to use MultiIndex DataFrames or Panel-like operations with the wide range of capabilities provided by the DataFrame.\"\"\""
   ]
  },
  {
   "cell_type": "code",
   "execution_count": 13,
   "id": "8e284e03-5ac8-410f-bcdb-09fb76f013f8",
   "metadata": {},
   "outputs": [],
   "source": [
    "# Q7. Create a DataFrame using multiple Series. Explain with an example. "
   ]
  },
  {
   "cell_type": "code",
   "execution_count": 14,
   "id": "f8699d7d-187d-4a07-ac60-e56e3dc8042a",
   "metadata": {},
   "outputs": [
    {
     "name": "stdout",
     "output_type": "stream",
     "text": [
      "     Name  Age  Gender\n",
      "0   Alice   25  Female\n",
      "1     Bob   30    Male\n",
      "2  Claire   27  Female\n"
     ]
    }
   ],
   "source": [
    "import pandas as pd\n",
    "\n",
    "# Creating multiple Series\n",
    "name_series = pd.Series(['Alice', 'Bob', 'Claire'], name='Name')\n",
    "age_series = pd.Series([25, 30, 27], name='Age')\n",
    "gender_series = pd.Series(['Female', 'Male', 'Female'], name='Gender')\n",
    "\n",
    "# Creating a dictionary from the Series\n",
    "data = {'Name': name_series, 'Age': age_series, 'Gender': gender_series}\n",
    "\n",
    "# Creating a DataFrame from the dictionary\n",
    "df = pd.DataFrame(data)\n",
    "\n",
    "# Printing the DataFrame\n",
    "print(df)\n"
   ]
  },
  {
   "cell_type": "code",
   "execution_count": null,
   "id": "ce5d9391-99c3-4f38-8f38-e3b3d78ce9de",
   "metadata": {},
   "outputs": [],
   "source": []
  }
 ],
 "metadata": {
  "kernelspec": {
   "display_name": "Python 3 (ipykernel)",
   "language": "python",
   "name": "python3"
  },
  "language_info": {
   "codemirror_mode": {
    "name": "ipython",
    "version": 3
   },
   "file_extension": ".py",
   "mimetype": "text/x-python",
   "name": "python",
   "nbconvert_exporter": "python",
   "pygments_lexer": "ipython3",
   "version": "3.10.8"
  }
 },
 "nbformat": 4,
 "nbformat_minor": 5
}
