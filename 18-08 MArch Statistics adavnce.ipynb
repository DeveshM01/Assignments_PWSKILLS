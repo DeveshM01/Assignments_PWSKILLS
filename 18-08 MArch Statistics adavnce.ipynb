{
 "cells": [
  {
   "cell_type": "markdown",
   "id": "fada4a88-f214-4fc8-bb58-7835792977e4",
   "metadata": {},
   "source": [
    "## 08 March Statistics Advance"
   ]
  },
  {
   "cell_type": "code",
   "execution_count": 1,
   "id": "75a33b4c-c914-4c07-974e-68aba73e04c0",
   "metadata": {},
   "outputs": [
    {
     "data": {
      "text/plain": [
       "'\\nQ1. What is the Probability density function?\\n'"
      ]
     },
     "execution_count": 1,
     "metadata": {},
     "output_type": "execute_result"
    }
   ],
   "source": [
    "'''\n",
    "Q1. What is the Probability density function?\n",
    "'''"
   ]
  },
  {
   "cell_type": "code",
   "execution_count": 2,
   "id": "10b59723-6ee6-48f3-a995-4766de1a311c",
   "metadata": {},
   "outputs": [
    {
     "data": {
      "text/plain": [
       "\"\\nThe Probability Density Function (PDF) is a fundamental concept in statistics used to describe the probability distribution of a continuous random variable. Unlike the Probability Mass Function (PMF) used for discrete variables, the PDF deals with variables that can take on an infinite number of values within a specific range.\\n\\nHere's a breakdown of the key aspects of the PDF:\\n\\nFunction:\\n\\nIt's a mathematical function that defines the probability density at each point of the variable's range.\\nThe y-value of the function at a specific point represents the relative likelihood that the variable takes on a value near that point.\\nThe area under the entire PDF curve within the variable's range is always equal to 1, signifying the certainty that the variable must take on some value within its range.\\nInterpretation:\\n\\nThe higher the value of the PDF at a particular point, the more likely it is for the variable to take on a value close to that point.\\nThe PDF doesn't directly give the probability of the variable taking on a specific value (because there are infinitely many possible values in a continuous range), but it helps calculate the probability of finding the variable within a certain interval of values.\\nCommon Uses:\\n\\nUnderstanding data distribution: Analyzing the shape and characteristics of the PDF helps visualize and understand the distribution of a continuous variable.\\nCalculating probabilities: By integrating the PDF over a specific interval, we can calculate the probability of the variable falling within that interval.\\nStatistical modeling: Many statistical models, such as normal distributions and t-distributions, are expressed using PDFs.\\nExamples:\\n\\nThe normal distribution PDF is a bell-shaped curve, indicating that values around the mean are more likely and probabilities decrease as we move away from the mean.\\nThe uniform distribution PDF is a constant function within a specified range, suggesting all values within that range are equally likely.\\nRemember:\\n\\nThe PDF provides a powerful tool for analyzing and understanding continuous random variables, especially when dealing with infinite possibilities.\\nIt's essential to interpret the PDF's values, not as exact probabilities for single points, but as relative likelihoods within intervals.\\nI hope this explanation helps! Feel free to ask if you have any further questions.\\n\""
      ]
     },
     "execution_count": 2,
     "metadata": {},
     "output_type": "execute_result"
    }
   ],
   "source": [
    "'''\n",
    "The Probability Density Function (PDF) is a fundamental concept in statistics used to describe the probability distribution of a continuous random variable. Unlike the Probability Mass Function (PMF) used for discrete variables, the PDF deals with variables that can take on an infinite number of values within a specific range.\n",
    "\n",
    "Here's a breakdown of the key aspects of the PDF:\n",
    "\n",
    "Function:\n",
    "\n",
    "It's a mathematical function that defines the probability density at each point of the variable's range.\n",
    "The y-value of the function at a specific point represents the relative likelihood that the variable takes on a value near that point.\n",
    "The area under the entire PDF curve within the variable's range is always equal to 1, signifying the certainty that the variable must take on some value within its range.\n",
    "Interpretation:\n",
    "\n",
    "The higher the value of the PDF at a particular point, the more likely it is for the variable to take on a value close to that point.\n",
    "The PDF doesn't directly give the probability of the variable taking on a specific value (because there are infinitely many possible values in a continuous range), but it helps calculate the probability of finding the variable within a certain interval of values.\n",
    "Common Uses:\n",
    "\n",
    "Understanding data distribution: Analyzing the shape and characteristics of the PDF helps visualize and understand the distribution of a continuous variable.\n",
    "Calculating probabilities: By integrating the PDF over a specific interval, we can calculate the probability of the variable falling within that interval.\n",
    "Statistical modeling: Many statistical models, such as normal distributions and t-distributions, are expressed using PDFs.\n",
    "Examples:\n",
    "\n",
    "The normal distribution PDF is a bell-shaped curve, indicating that values around the mean are more likely and probabilities decrease as we move away from the mean.\n",
    "The uniform distribution PDF is a constant function within a specified range, suggesting all values within that range are equally likely.\n",
    "Remember:\n",
    "\n",
    "The PDF provides a powerful tool for analyzing and understanding continuous random variables, especially when dealing with infinite possibilities.\n",
    "It's essential to interpret the PDF's values, not as exact probabilities for single points, but as relative likelihoods within intervals.\n",
    "I hope this explanation helps! Feel free to ask if you have any further questions.\n",
    "'''"
   ]
  },
  {
   "cell_type": "code",
   "execution_count": 3,
   "id": "4b7e5bbd-32e0-4f73-9967-b9a912fd2d5d",
   "metadata": {},
   "outputs": [
    {
     "data": {
      "text/plain": [
       "'\\nQ2. What are the types of Probability distribution?\\n'"
      ]
     },
     "execution_count": 3,
     "metadata": {},
     "output_type": "execute_result"
    }
   ],
   "source": [
    "'''\n",
    "Q2. What are the types of Probability distribution?\n",
    "'''"
   ]
  },
  {
   "cell_type": "code",
   "execution_count": 4,
   "id": "09644a31-9717-440e-8b3e-d54abb812abd",
   "metadata": {},
   "outputs": [
    {
     "data": {
      "text/plain": [
       "'\\nThere are two main types of probability distributions: discrete and continuous. Each type applies to different kinds of random variables and serves specific purposes.\\n\\nDiscrete Distributions:\\n\\nThese describe the probability of individual events occurring, where events can only take on distinct, separate values. Imagine rolling a die, where each side represents a single outcome. Some common discrete distributions include:\\n\\nBernoulli: Used for events with only two possible outcomes (success or failure, yes or no).\\nBinomial: Applicable to situations with a fixed number of trials, each with two possible outcomes, and you\\'re interested in the probability of a certain number of successes.\\nPoisson: Describes the probability of a certain number of events occurring in a fixed interval of time or space, given the average rate of occurrence.\\nGeometric: Deals with the probability of needing a certain number of trials to achieve the first success in a series of independent trials with only two possible outcomes.\\nContinuous Distributions:\\n\\nThese describe the probability of continuous variables falling within a certain range of values. Imagine measuring the height of people, where values can vary smoothly across a spectrum. Some common continuous distributions include:\\n\\nNormal (Gaussian): The \"bell-shaped curve,\" widely used to model many natural phenomena due to its symmetrical nature.\\nUniform: All values within a specified range are equally likely.\\nExponential: Used for modeling the time between events happening at a constant rate.\\nChi-square: Describes the sum of squared deviations from expected values, often used in hypothesis testing.\\nChoosing the Right Distribution:\\n\\nThe appropriate distribution depends on the nature of your random variable:\\n\\nDiscrete: Use discrete distributions when your variable can only take on specific, countable values.\\nContinuous: Use continuous distributions when your variable can take on any value within a specific range.\\n'"
      ]
     },
     "execution_count": 4,
     "metadata": {},
     "output_type": "execute_result"
    }
   ],
   "source": [
    "'''\n",
    "There are two main types of probability distributions: discrete and continuous. Each type applies to different kinds of random variables and serves specific purposes.\n",
    "\n",
    "Discrete Distributions:\n",
    "\n",
    "These describe the probability of individual events occurring, where events can only take on distinct, separate values. Imagine rolling a die, where each side represents a single outcome. Some common discrete distributions include:\n",
    "\n",
    "Bernoulli: Used for events with only two possible outcomes (success or failure, yes or no).\n",
    "Binomial: Applicable to situations with a fixed number of trials, each with two possible outcomes, and you're interested in the probability of a certain number of successes.\n",
    "Poisson: Describes the probability of a certain number of events occurring in a fixed interval of time or space, given the average rate of occurrence.\n",
    "Geometric: Deals with the probability of needing a certain number of trials to achieve the first success in a series of independent trials with only two possible outcomes.\n",
    "Continuous Distributions:\n",
    "\n",
    "These describe the probability of continuous variables falling within a certain range of values. Imagine measuring the height of people, where values can vary smoothly across a spectrum. Some common continuous distributions include:\n",
    "\n",
    "Normal (Gaussian): The \"bell-shaped curve,\" widely used to model many natural phenomena due to its symmetrical nature.\n",
    "Uniform: All values within a specified range are equally likely.\n",
    "Exponential: Used for modeling the time between events happening at a constant rate.\n",
    "Chi-square: Describes the sum of squared deviations from expected values, often used in hypothesis testing.\n",
    "Choosing the Right Distribution:\n",
    "\n",
    "The appropriate distribution depends on the nature of your random variable:\n",
    "\n",
    "Discrete: Use discrete distributions when your variable can only take on specific, countable values.\n",
    "Continuous: Use continuous distributions when your variable can take on any value within a specific range.\n",
    "'''"
   ]
  },
  {
   "cell_type": "code",
   "execution_count": 5,
   "id": "3b9450dd-f2e0-4c60-8082-2afc5bc7e481",
   "metadata": {},
   "outputs": [
    {
     "data": {
      "text/plain": [
       "'\\nQ3. Write a Python function to calculate the probability density function of a normal distribution with\\ngiven mean and standard deviation at a given point.\\n'"
      ]
     },
     "execution_count": 5,
     "metadata": {},
     "output_type": "execute_result"
    }
   ],
   "source": [
    "'''\n",
    "Q3. Write a Python function to calculate the probability density function of a normal distribution with\n",
    "given mean and standard deviation at a given point.\n",
    "'''"
   ]
  },
  {
   "cell_type": "code",
   "execution_count": 6,
   "id": "2d07ea1c-2183-4398-b19b-f8e4c6e827c1",
   "metadata": {},
   "outputs": [
    {
     "data": {
      "text/plain": [
       "'\\nPython\\nimport math\\n\\ndef normal_pdf(x, mean, std):\\n  \"\"\"\\n  Calculates the probability density function of a normal distribution at a given point.\\n\\n  Args:\\n      x: The value at which to calculate the PDF.\\n      mean: The mean of the normal distribution.\\n      std: The standard deviation of the normal distribution.\\n\\n  Returns:\\n      The probability density function value at the given point.\\n  \"\"\"\\n\\n  # Calculate the constant term\\n  constant_term = 1 / (std * math.sqrt(2 * math.pi))\\n\\n  # Calculate the exponential term\\n  exponent = -((x - mean) ** 2) / (2 * std ** 2)\\n\\n  # Return the PDF value\\n  return constant_term * math.exp(exponent)\\n\\n# Example usage\\nmean = 50\\nstd = 10\\nx = 60\\n\\npdf_value = normal_pdf(x, mean, std)\\n\\nprint(f\"The PDF value at x = {x} is: {pdf_value:.4f}\")\\nUse code with caution.\\nThis function first calculates the constant term, which depends on the standard deviation and the square root of pi. Then, it calculates the exponential term, which incorporates the distance between the given point (x) and the mean, normalized by the standard deviation. Finally, it multiplies the constant and exponential terms to obtain the probability density function value at the given point.\\n\\nThe example usage demonstrates how to call the function with specific values for mean, standard deviation, and the point of interest. It then prints the calculated PDF value.\\n'"
      ]
     },
     "execution_count": 6,
     "metadata": {},
     "output_type": "execute_result"
    }
   ],
   "source": [
    "'''\n",
    "Python\n",
    "import math\n",
    "\n",
    "def normal_pdf(x, mean, std):\n",
    "  \"\"\"\n",
    "  Calculates the probability density function of a normal distribution at a given point.\n",
    "\n",
    "  Args:\n",
    "      x: The value at which to calculate the PDF.\n",
    "      mean: The mean of the normal distribution.\n",
    "      std: The standard deviation of the normal distribution.\n",
    "\n",
    "  Returns:\n",
    "      The probability density function value at the given point.\n",
    "  \"\"\"\n",
    "\n",
    "  # Calculate the constant term\n",
    "  constant_term = 1 / (std * math.sqrt(2 * math.pi))\n",
    "\n",
    "  # Calculate the exponential term\n",
    "  exponent = -((x - mean) ** 2) / (2 * std ** 2)\n",
    "\n",
    "  # Return the PDF value\n",
    "  return constant_term * math.exp(exponent)\n",
    "\n",
    "# Example usage\n",
    "mean = 50\n",
    "std = 10\n",
    "x = 60\n",
    "\n",
    "pdf_value = normal_pdf(x, mean, std)\n",
    "\n",
    "print(f\"The PDF value at x = {x} is: {pdf_value:.4f}\")\n",
    "Use code with caution.\n",
    "This function first calculates the constant term, which depends on the standard deviation and the square root of pi. Then, it calculates the exponential term, which incorporates the distance between the given point (x) and the mean, normalized by the standard deviation. Finally, it multiplies the constant and exponential terms to obtain the probability density function value at the given point.\n",
    "\n",
    "The example usage demonstrates how to call the function with specific values for mean, standard deviation, and the point of interest. It then prints the calculated PDF value.\n",
    "'''"
   ]
  },
  {
   "cell_type": "code",
   "execution_count": 7,
   "id": "6667d133-fa40-473e-b5b5-6e9644962e3f",
   "metadata": {},
   "outputs": [
    {
     "data": {
      "text/plain": [
       "'\\nQ4. What are the properties of Binomial distribution? Give two examples of events where binomial\\ndistribution can be applied.\\n'"
      ]
     },
     "execution_count": 7,
     "metadata": {},
     "output_type": "execute_result"
    }
   ],
   "source": [
    "'''\n",
    "Q4. What are the properties of Binomial distribution? Give two examples of events where binomial\n",
    "distribution can be applied.\n",
    "'''"
   ]
  },
  {
   "cell_type": "code",
   "execution_count": 8,
   "id": "866c8ff0-8aed-4301-ac1f-36e20321eb3c",
   "metadata": {},
   "outputs": [
    {
     "data": {
      "text/plain": [
       "'\\nThe Binomial distribution possesses several key properties that define its characteristics and applications:\\n\\nProperties:\\n\\nDiscrete Distribution: It describes the probability of a specific number of successes in a fixed number of independent trials, each having only two possible outcomes (success or failure).\\nFixed Number of Trials (n): The number of trials remains constant for all scenarios.\\nTwo Possible Outcomes: Each trial can only result in either \"success\" or \"failure,\" mutually exclusive and collectively exhaustive.\\nConstant Probability (p): The probability of success (p) remains constant for all trials, independent of past outcomes.\\nIndependence of Trials: The outcome of one trial does not influence the outcome of subsequent trials.\\nSum of Probabilities: The sum of the probabilities for all possible number of successes (from 0 to n) equals 1.\\nExamples:\\n\\nCoin Flips: Tossing a coin 5 times and calculating the probability of getting exactly 3 heads follows a Binomial distribution (n=5, p=0.5 for heads).\\nProduct Defects: In a manufacturing process, checking 10 randomly chosen items for defects, with a 20% chance of a defect in each item, applies a Binomial distribution (n=10, p=0.2 for defect).\\nBeyond these examples, the Binomial distribution finds applications in various fields:\\n\\nMedical testing: Estimating the probability of a certain number of individuals testing positive for a disease in a sample.\\nMarket research: Predicting the number of customers responding positively to a marketing campaign.\\nQuality control: Assessing the likelihood of finding a specific number of defective items in a batch.\\nGenetic inheritance: Analyzing the probability of offspring inheriting specific traits from parents.\\nRemember: When dealing with situations involving multiple trials with only two outcomes, a fixed number of trials, and constant success probability, consider the Binomial distribution to analyze the likelihood of specific outcomes.\\n'"
      ]
     },
     "execution_count": 8,
     "metadata": {},
     "output_type": "execute_result"
    }
   ],
   "source": [
    "'''\n",
    "The Binomial distribution possesses several key properties that define its characteristics and applications:\n",
    "\n",
    "Properties:\n",
    "\n",
    "Discrete Distribution: It describes the probability of a specific number of successes in a fixed number of independent trials, each having only two possible outcomes (success or failure).\n",
    "Fixed Number of Trials (n): The number of trials remains constant for all scenarios.\n",
    "Two Possible Outcomes: Each trial can only result in either \"success\" or \"failure,\" mutually exclusive and collectively exhaustive.\n",
    "Constant Probability (p): The probability of success (p) remains constant for all trials, independent of past outcomes.\n",
    "Independence of Trials: The outcome of one trial does not influence the outcome of subsequent trials.\n",
    "Sum of Probabilities: The sum of the probabilities for all possible number of successes (from 0 to n) equals 1.\n",
    "Examples:\n",
    "\n",
    "Coin Flips: Tossing a coin 5 times and calculating the probability of getting exactly 3 heads follows a Binomial distribution (n=5, p=0.5 for heads).\n",
    "Product Defects: In a manufacturing process, checking 10 randomly chosen items for defects, with a 20% chance of a defect in each item, applies a Binomial distribution (n=10, p=0.2 for defect).\n",
    "Beyond these examples, the Binomial distribution finds applications in various fields:\n",
    "\n",
    "Medical testing: Estimating the probability of a certain number of individuals testing positive for a disease in a sample.\n",
    "Market research: Predicting the number of customers responding positively to a marketing campaign.\n",
    "Quality control: Assessing the likelihood of finding a specific number of defective items in a batch.\n",
    "Genetic inheritance: Analyzing the probability of offspring inheriting specific traits from parents.\n",
    "Remember: When dealing with situations involving multiple trials with only two outcomes, a fixed number of trials, and constant success probability, consider the Binomial distribution to analyze the likelihood of specific outcomes.\n",
    "'''"
   ]
  },
  {
   "cell_type": "code",
   "execution_count": 9,
   "id": "fe118ddc-04da-4cf2-9195-f9bc2aeee3c9",
   "metadata": {},
   "outputs": [
    {
     "data": {
      "text/plain": [
       "'\\nQ5. Generate a random sample of size 1000 from a binomial distribution with probability of success 0.4\\nand plot a histogram of the results using matplotlib.\\n'"
      ]
     },
     "execution_count": 9,
     "metadata": {},
     "output_type": "execute_result"
    }
   ],
   "source": [
    "'''\n",
    "Q5. Generate a random sample of size 1000 from a binomial distribution with probability of success 0.4\n",
    "and plot a histogram of the results using matplotlib.\n",
    "'''"
   ]
  },
  {
   "cell_type": "code",
   "execution_count": 10,
   "id": "08c655b9-aaac-4c87-9225-c1a666fe9456",
   "metadata": {},
   "outputs": [
    {
     "data": {
      "text/plain": [
       "\"\\nimport matplotlib.pyplot as plt\\nimport numpy as np\\n\\n# Define parameters\\nn = 1000  # Number of samples\\np = 0.4  # Probability of success\\n\\n# Generate random samples\\nsamples = np.random.binomial(n, p, size=n)\\n\\n# Create histogram\\nplt.hist(samples, bins=20, edgecolor='black')\\nplt.xlabel('Number of successes')\\nplt.ylabel('Frequency')\\nplt.title('Histogram of Binomial Distribution (n={}, p={})'.format(n, p))\\nplt.grid(True)\\n\\n# Show the plot\\nplt.show()\\n\""
      ]
     },
     "execution_count": 10,
     "metadata": {},
     "output_type": "execute_result"
    }
   ],
   "source": [
    "'''\n",
    "import matplotlib.pyplot as plt\n",
    "import numpy as np\n",
    "\n",
    "# Define parameters\n",
    "n = 1000  # Number of samples\n",
    "p = 0.4  # Probability of success\n",
    "\n",
    "# Generate random samples\n",
    "samples = np.random.binomial(n, p, size=n)\n",
    "\n",
    "# Create histogram\n",
    "plt.hist(samples, bins=20, edgecolor='black')\n",
    "plt.xlabel('Number of successes')\n",
    "plt.ylabel('Frequency')\n",
    "plt.title('Histogram of Binomial Distribution (n={}, p={})'.format(n, p))\n",
    "plt.grid(True)\n",
    "\n",
    "# Show the plot\n",
    "plt.show()\n",
    "'''"
   ]
  },
  {
   "cell_type": "code",
   "execution_count": 11,
   "id": "09f11707-5f7b-4ec9-b50d-fa8c148be43e",
   "metadata": {},
   "outputs": [
    {
     "data": {
      "text/plain": [
       "'\\nQ6. Write a Python function to calculate the cumulative distribution function of a Poisson distribution\\nwith given mean at a given point.\\n'"
      ]
     },
     "execution_count": 11,
     "metadata": {},
     "output_type": "execute_result"
    }
   ],
   "source": [
    "'''\n",
    "Q6. Write a Python function to calculate the cumulative distribution function of a Poisson distribution\n",
    "with given mean at a given point.\n",
    "'''"
   ]
  },
  {
   "cell_type": "code",
   "execution_count": 12,
   "id": "34fca820-1c84-4f48-b4bb-568d30d0aa9c",
   "metadata": {},
   "outputs": [
    {
     "data": {
      "text/plain": [
       "'\\nPython\\ndef poisson_cdf(k, lam):\\n  \"\"\"\\n  Calculates the cumulative distribution function (CDF) of a Poisson distribution at a given point.\\n\\n  Args:\\n      k: The non-negative integer value at which to calculate the CDF.\\n      lam: The mean (lambda) of the Poisson distribution.\\n\\n  Returns:\\n      The CDF value at the given point.\\n  \"\"\"\\n\\n  if k < 0:\\n    return 0\\n\\n  cdf = 0\\n  for i in range(k + 1):\\n    cdf += math.exp(-lam) * (lam ** i) / math.factorial(i)\\n\\n  return cdf\\n\\n# Example usage\\nlam = 5\\nk = 3\\n\\ncdf_value = poisson_cdf(k, lam)\\n\\nprint(f\"The CDF value at k = {k} is: {cdf_value:.4f}\")\\nUse code with caution.\\nExplanation:\\n\\nThe function poisson_cdf takes two arguments: k (the non-negative integer value) and lam (the mean of the Poisson distribution).\\nIt first checks if k is negative, as the CDF is only defined for non-negative values. If it is, it returns 0.\\nOtherwise, it initializes a variable cdf to 0, which will accumulate the probability of getting 0, 1, 2, ..., k successes.\\nIt iterates from 0 to k using a for loop.\\nInside the loop, it calculates the probability of getting exactly i successes using the Poisson probability mass function formula: e^(-lam) * (lam^i) / factorial(i).\\nIt adds this probability to the cdf variable.\\nAfter the loop, it returns the final cdf value, which represents the probability of getting 0, 1, 2, ..., k successes in the Poisson distribution with mean lam.\\nThe example usage demonstrates how to call the function with specific values for k and lam and print the calculated CDF value.\\n'"
      ]
     },
     "execution_count": 12,
     "metadata": {},
     "output_type": "execute_result"
    }
   ],
   "source": [
    "'''\n",
    "Python\n",
    "def poisson_cdf(k, lam):\n",
    "  \"\"\"\n",
    "  Calculates the cumulative distribution function (CDF) of a Poisson distribution at a given point.\n",
    "\n",
    "  Args:\n",
    "      k: The non-negative integer value at which to calculate the CDF.\n",
    "      lam: The mean (lambda) of the Poisson distribution.\n",
    "\n",
    "  Returns:\n",
    "      The CDF value at the given point.\n",
    "  \"\"\"\n",
    "\n",
    "  if k < 0:\n",
    "    return 0\n",
    "\n",
    "  cdf = 0\n",
    "  for i in range(k + 1):\n",
    "    cdf += math.exp(-lam) * (lam ** i) / math.factorial(i)\n",
    "\n",
    "  return cdf\n",
    "\n",
    "# Example usage\n",
    "lam = 5\n",
    "k = 3\n",
    "\n",
    "cdf_value = poisson_cdf(k, lam)\n",
    "\n",
    "print(f\"The CDF value at k = {k} is: {cdf_value:.4f}\")\n",
    "Use code with caution.\n",
    "Explanation:\n",
    "\n",
    "The function poisson_cdf takes two arguments: k (the non-negative integer value) and lam (the mean of the Poisson distribution).\n",
    "It first checks if k is negative, as the CDF is only defined for non-negative values. If it is, it returns 0.\n",
    "Otherwise, it initializes a variable cdf to 0, which will accumulate the probability of getting 0, 1, 2, ..., k successes.\n",
    "It iterates from 0 to k using a for loop.\n",
    "Inside the loop, it calculates the probability of getting exactly i successes using the Poisson probability mass function formula: e^(-lam) * (lam^i) / factorial(i).\n",
    "It adds this probability to the cdf variable.\n",
    "After the loop, it returns the final cdf value, which represents the probability of getting 0, 1, 2, ..., k successes in the Poisson distribution with mean lam.\n",
    "The example usage demonstrates how to call the function with specific values for k and lam and print the calculated CDF value.\n",
    "'''"
   ]
  },
  {
   "cell_type": "code",
   "execution_count": 13,
   "id": "7580bb8a-fd07-441b-a558-2f589137337c",
   "metadata": {},
   "outputs": [
    {
     "data": {
      "text/plain": [
       "'\\nQ7. How Binomial distribution different from Poisson distribution?\\n'"
      ]
     },
     "execution_count": 13,
     "metadata": {},
     "output_type": "execute_result"
    }
   ],
   "source": [
    "'''\n",
    "Q7. How Binomial distribution different from Poisson distribution?\n",
    "'''"
   ]
  },
  {
   "cell_type": "code",
   "execution_count": 14,
   "id": "96fd6796-2c87-443e-ae00-b6cc4a2a94e2",
   "metadata": {},
   "outputs": [
    {
     "data": {
      "text/plain": [
       "\"\\nBinomial and Poisson distributions are both commonly used discrete probability distributions, but they differ in several key aspects:\\n\\nNumber of Trials:\\n\\nBinomial: Fixed number of trials (n) known beforehand. Each trial has two possible outcomes (success or failure).\\nPoisson: No fixed number of trials. Represents events occurring within a specific interval (time, space, etc.), with the mean (λ) representing the average rate of occurrence.\\nProbability of Success:\\n\\nBinomial: Constant probability of success (p) in each trial, independent of other trials.\\nPoisson: Probability of success depends on the mean (λ) and is calculated as λ / t, where t is the interval's length. It changes for different events within the interval.\\nOutcome:\\n\\nBinomial: Focuses on the number of successes in the fixed number of trials.\\nPoisson: Focuses on the number of events occurring within the interval, without considering individual trial outcomes.\\nApplications:\\n\\nBinomial: Coin flips, product defects in a batch, medical testing with fixed number of samples.\\nPoisson: Customer arrivals in a store, radioactive decay events, insurance claims within a period.\\nKey Differences:\\n\\nFeature\\tBinomial\\tPoisson\\nNumber of trials\\tFixed (n)\\tNo fixed number\\nProbability of success\\tConstant (p)\\tVaries based on λ\\nOutcome\\tNumber of successes in n trials\\tNumber of events in an interval\\nApplications\\tFixed-trial, two-outcome scenarios\\tEvent occurrences within an interval\\nChoosing the Right Distribution:\\n\\nThe appropriate distribution depends on the nature of your situation:\\n\\nUse the Binomial distribution when you have a fixed number of trials with two possible outcomes in each and a constant probability of success.\\nUse the Poisson distribution when you are interested in the number of events happening within a specific interval and the average rate of occurrence is known.\\nUnderstanding the differences between these distributions is crucial for selecting the right tool to analyze your data and draw accurate conclusions.\\n\\n\\n\\n\\n\\n\""
      ]
     },
     "execution_count": 14,
     "metadata": {},
     "output_type": "execute_result"
    }
   ],
   "source": [
    "'''\n",
    "Binomial and Poisson distributions are both commonly used discrete probability distributions, but they differ in several key aspects:\n",
    "\n",
    "Number of Trials:\n",
    "\n",
    "Binomial: Fixed number of trials (n) known beforehand. Each trial has two possible outcomes (success or failure).\n",
    "Poisson: No fixed number of trials. Represents events occurring within a specific interval (time, space, etc.), with the mean (λ) representing the average rate of occurrence.\n",
    "Probability of Success:\n",
    "\n",
    "Binomial: Constant probability of success (p) in each trial, independent of other trials.\n",
    "Poisson: Probability of success depends on the mean (λ) and is calculated as λ / t, where t is the interval's length. It changes for different events within the interval.\n",
    "Outcome:\n",
    "\n",
    "Binomial: Focuses on the number of successes in the fixed number of trials.\n",
    "Poisson: Focuses on the number of events occurring within the interval, without considering individual trial outcomes.\n",
    "Applications:\n",
    "\n",
    "Binomial: Coin flips, product defects in a batch, medical testing with fixed number of samples.\n",
    "Poisson: Customer arrivals in a store, radioactive decay events, insurance claims within a period.\n",
    "Key Differences:\n",
    "\n",
    "Feature\tBinomial\tPoisson\n",
    "Number of trials\tFixed (n)\tNo fixed number\n",
    "Probability of success\tConstant (p)\tVaries based on λ\n",
    "Outcome\tNumber of successes in n trials\tNumber of events in an interval\n",
    "Applications\tFixed-trial, two-outcome scenarios\tEvent occurrences within an interval\n",
    "Choosing the Right Distribution:\n",
    "\n",
    "The appropriate distribution depends on the nature of your situation:\n",
    "\n",
    "Use the Binomial distribution when you have a fixed number of trials with two possible outcomes in each and a constant probability of success.\n",
    "Use the Poisson distribution when you are interested in the number of events happening within a specific interval and the average rate of occurrence is known.\n",
    "Understanding the differences between these distributions is crucial for selecting the right tool to analyze your data and draw accurate conclusions.\n",
    "\n",
    "\n",
    "\n",
    "\n",
    "\n",
    "'''"
   ]
  },
  {
   "cell_type": "code",
   "execution_count": 15,
   "id": "f8d4a7ca-16ed-46de-b355-393c9134582c",
   "metadata": {},
   "outputs": [
    {
     "data": {
      "text/plain": [
       "'\\nQ8. Generate a random sample of size 1000 from a Poisson distribution with mean 5 and calculate the\\nsample mean and variance.\\n'"
      ]
     },
     "execution_count": 15,
     "metadata": {},
     "output_type": "execute_result"
    }
   ],
   "source": [
    "'''\n",
    "Q8. Generate a random sample of size 1000 from a Poisson distribution with mean 5 and calculate the\n",
    "sample mean and variance.\n",
    "'''"
   ]
  },
  {
   "cell_type": "code",
   "execution_count": 16,
   "id": "d02eaa14-6421-4d0d-941e-09f83843d694",
   "metadata": {},
   "outputs": [
    {
     "data": {
      "text/plain": [
       "'\\nPython\\nimport numpy as np\\n\\n# Define parameters\\nmean = 5\\n\\n# Generate random samples\\nsamples = np.random.poisson(mean, size=1000)\\n\\n# Calculate sample mean and variance\\nsample_mean = np.mean(samples)\\nsample_variance = np.var(samples)\\n\\n# Print results\\nprint(\"Sample mean:\", sample_mean)\\nprint(\"Sample variance:\", sample_variance)\\n'"
      ]
     },
     "execution_count": 16,
     "metadata": {},
     "output_type": "execute_result"
    }
   ],
   "source": [
    "'''\n",
    "Python\n",
    "import numpy as np\n",
    "\n",
    "# Define parameters\n",
    "mean = 5\n",
    "\n",
    "# Generate random samples\n",
    "samples = np.random.poisson(mean, size=1000)\n",
    "\n",
    "# Calculate sample mean and variance\n",
    "sample_mean = np.mean(samples)\n",
    "sample_variance = np.var(samples)\n",
    "\n",
    "# Print results\n",
    "print(\"Sample mean:\", sample_mean)\n",
    "print(\"Sample variance:\", sample_variance)\n",
    "'''"
   ]
  },
  {
   "cell_type": "code",
   "execution_count": 17,
   "id": "561f83bc-8677-4845-b120-be372daca71a",
   "metadata": {},
   "outputs": [
    {
     "data": {
      "text/plain": [
       "'\\nQ9. How mean and variance are related in Binomial distribution and Poisson distribution?\\n'"
      ]
     },
     "execution_count": 17,
     "metadata": {},
     "output_type": "execute_result"
    }
   ],
   "source": [
    "'''\n",
    "Q9. How mean and variance are related in Binomial distribution and Poisson distribution?\n",
    "'''"
   ]
  },
  {
   "cell_type": "code",
   "execution_count": 18,
   "id": "22a221ac-84d4-42b3-bbae-d52f1c842e30",
   "metadata": {},
   "outputs": [
    {
     "data": {
      "text/plain": [
       "'\\nIn both Binomial and Poisson distributions, the mean and variance are related, but in different ways:\\n\\nBinomial Distribution:\\n\\nMean: E(X) = np, where n is the number of trials and p is the probability of success.\\nVariance: Var(X) = np(1-p).\\nThis relationship implies that:\\n\\nThe mean and variance are directly proportional to each other.\\nAn increase in the number of trials (n) leads to an increase in both mean and variance, but the variance increases proportionally to the product of n and (1-p).\\nFor a fixed number of trials, a higher probability of success (p) results in a higher mean and a smaller variance (due to 1-p being smaller).\\nPoisson Distribution:\\n\\nMean: E(X) = λ, where λ is the mean rate of occurrence (also the variance in Poisson distribution).\\nThis relationship implies:\\n\\nThe mean and variance are equal (Var(X) = E(X) = λ).\\nAs the mean rate of occurrence (λ) increases, both the mean and variance increase in unison.\\nKey Differences:\\n\\nFeature\\tBinomial Distribution\\tPoisson Distribution\\nMean-Variance Relationship\\tMean = np, Variance = np(1-p)\\tMean = Variance = λ\\nDependence on Parameters\\tMean and variance depend on both n and p\\tMean and variance depend only on λ\\nChange in Variance\\tVariance increases proportionally to n * (1-p)\\tVariance increases/decreases directly with λ\\nUnderstanding these relationships is crucial for interpreting data from these distributions:\\n\\nIn a Binomial distribution, a large difference between mean and variance might indicate a low probability of success.\\nIn a Poisson distribution, the mean directly reflects the expected number of events and variance provides information about their spread.\\nBy considering these differences, you can choose the appropriate distribution based on your data and accurately analyze the relationship between central tendency and variability.\\n'"
      ]
     },
     "execution_count": 18,
     "metadata": {},
     "output_type": "execute_result"
    }
   ],
   "source": [
    "'''\n",
    "In both Binomial and Poisson distributions, the mean and variance are related, but in different ways:\n",
    "\n",
    "Binomial Distribution:\n",
    "\n",
    "Mean: E(X) = np, where n is the number of trials and p is the probability of success.\n",
    "Variance: Var(X) = np(1-p).\n",
    "This relationship implies that:\n",
    "\n",
    "The mean and variance are directly proportional to each other.\n",
    "An increase in the number of trials (n) leads to an increase in both mean and variance, but the variance increases proportionally to the product of n and (1-p).\n",
    "For a fixed number of trials, a higher probability of success (p) results in a higher mean and a smaller variance (due to 1-p being smaller).\n",
    "Poisson Distribution:\n",
    "\n",
    "Mean: E(X) = λ, where λ is the mean rate of occurrence (also the variance in Poisson distribution).\n",
    "This relationship implies:\n",
    "\n",
    "The mean and variance are equal (Var(X) = E(X) = λ).\n",
    "As the mean rate of occurrence (λ) increases, both the mean and variance increase in unison.\n",
    "Key Differences:\n",
    "\n",
    "Feature\tBinomial Distribution\tPoisson Distribution\n",
    "Mean-Variance Relationship\tMean = np, Variance = np(1-p)\tMean = Variance = λ\n",
    "Dependence on Parameters\tMean and variance depend on both n and p\tMean and variance depend only on λ\n",
    "Change in Variance\tVariance increases proportionally to n * (1-p)\tVariance increases/decreases directly with λ\n",
    "Understanding these relationships is crucial for interpreting data from these distributions:\n",
    "\n",
    "In a Binomial distribution, a large difference between mean and variance might indicate a low probability of success.\n",
    "In a Poisson distribution, the mean directly reflects the expected number of events and variance provides information about their spread.\n",
    "By considering these differences, you can choose the appropriate distribution based on your data and accurately analyze the relationship between central tendency and variability.\n",
    "'''"
   ]
  },
  {
   "cell_type": "code",
   "execution_count": 19,
   "id": "8d944ee4-7dca-4f05-8bed-9a293f298c8c",
   "metadata": {},
   "outputs": [
    {
     "data": {
      "text/plain": [
       "'\\nQ10. In normal distribution with respect to mean position, where does the least frequent data appear?\\n'"
      ]
     },
     "execution_count": 19,
     "metadata": {},
     "output_type": "execute_result"
    }
   ],
   "source": [
    "'''\n",
    "Q10. In normal distribution with respect to mean position, where does the least frequent data appear?\n",
    "'''"
   ]
  },
  {
   "cell_type": "code",
   "execution_count": 20,
   "id": "c4ecb848-b541-41bd-9f7b-3ddee27d5bf3",
   "metadata": {},
   "outputs": [
    {
     "data": {
      "text/plain": [
       "\"\\nIn a normal distribution, the least frequent data appear in the tails, further away from the mean towards both extremes. This is because the normal distribution follows a bell-shaped curve, where the highest concentration of data points lies closest to the mean, and the probability of a data point occurring decreases gradually as you move further away in either direction.\\n\\nHere's a breakdown of the frequency distribution in a normal distribution:\\n\\nMost frequent: Data points around the mean have the highest frequency, forming the peak of the bell-shaped curve.\\nLess frequent: As you move away from the mean towards either tail, the frequency of data points gradually decreases.\\nLeast frequent: The extreme ends of the tails represent the rarest data points in the distribution.\\nIt's important to remember that while the least frequent data appear in the tails, they are not entirely absent. Even in the extreme tails, there is still a small but non-zero probability of data points occurring.\\n\\nHere are some additional points to consider:\\n\\nThe standard deviation of the normal distribution determines how quickly the frequency decreases as you move away from the mean. A larger standard deviation indicates a wider spread of data and broader tails, implying even rarer extreme values.\\nNormal distributions are symmetrical, meaning the frequency of data points is the same at equal distances from the mean on both sides.\\nWhile the mean represents the most typical value in the distribution, it's not necessarily the value with the highest individual frequency. In a perfectly symmetrical normal distribution, the mean, median, and mode all coincide.\\nUnderstanding the frequency distribution in a normal distribution helps you interpret data and identify potential outliers or unusual observations that deviate significantly from the typical pattern.\\n\""
      ]
     },
     "execution_count": 20,
     "metadata": {},
     "output_type": "execute_result"
    }
   ],
   "source": [
    "'''\n",
    "In a normal distribution, the least frequent data appear in the tails, further away from the mean towards both extremes. This is because the normal distribution follows a bell-shaped curve, where the highest concentration of data points lies closest to the mean, and the probability of a data point occurring decreases gradually as you move further away in either direction.\n",
    "\n",
    "Here's a breakdown of the frequency distribution in a normal distribution:\n",
    "\n",
    "Most frequent: Data points around the mean have the highest frequency, forming the peak of the bell-shaped curve.\n",
    "Less frequent: As you move away from the mean towards either tail, the frequency of data points gradually decreases.\n",
    "Least frequent: The extreme ends of the tails represent the rarest data points in the distribution.\n",
    "It's important to remember that while the least frequent data appear in the tails, they are not entirely absent. Even in the extreme tails, there is still a small but non-zero probability of data points occurring.\n",
    "\n",
    "Here are some additional points to consider:\n",
    "\n",
    "The standard deviation of the normal distribution determines how quickly the frequency decreases as you move away from the mean. A larger standard deviation indicates a wider spread of data and broader tails, implying even rarer extreme values.\n",
    "Normal distributions are symmetrical, meaning the frequency of data points is the same at equal distances from the mean on both sides.\n",
    "While the mean represents the most typical value in the distribution, it's not necessarily the value with the highest individual frequency. In a perfectly symmetrical normal distribution, the mean, median, and mode all coincide.\n",
    "Understanding the frequency distribution in a normal distribution helps you interpret data and identify potential outliers or unusual observations that deviate significantly from the typical pattern.\n",
    "'''"
   ]
  },
  {
   "cell_type": "code",
   "execution_count": null,
   "id": "47b5dcc1-930b-4918-8ea1-74ff5d84f7b4",
   "metadata": {},
   "outputs": [],
   "source": []
  }
 ],
 "metadata": {
  "kernelspec": {
   "display_name": "Python 3 (ipykernel)",
   "language": "python",
   "name": "python3"
  },
  "language_info": {
   "codemirror_mode": {
    "name": "ipython",
    "version": 3
   },
   "file_extension": ".py",
   "mimetype": "text/x-python",
   "name": "python",
   "nbconvert_exporter": "python",
   "pygments_lexer": "ipython3",
   "version": "3.10.8"
  }
 },
 "nbformat": 4,
 "nbformat_minor": 5
}
