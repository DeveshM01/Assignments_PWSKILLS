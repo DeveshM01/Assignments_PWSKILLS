{
 "cells": [
  {
   "cell_type": "markdown",
   "id": "f7a35564-134a-44cc-9ed6-394fe5da451e",
   "metadata": {},
   "source": [
    "## Statistics"
   ]
  },
  {
   "cell_type": "code",
   "execution_count": 1,
   "id": "79bea5f0-4098-473b-965f-9f75735198da",
   "metadata": {},
   "outputs": [
    {
     "data": {
      "text/plain": [
       "'\\nQ1. What is Statistics?\\n'"
      ]
     },
     "execution_count": 1,
     "metadata": {},
     "output_type": "execute_result"
    }
   ],
   "source": [
    "'''\n",
    "Q1. What is Statistics?\n",
    "'''"
   ]
  },
  {
   "cell_type": "code",
   "execution_count": 2,
   "id": "cc4fdfe0-1d4c-429a-ab57-e4d32bc1e2de",
   "metadata": {},
   "outputs": [
    {
     "data": {
      "text/plain": [
       "\"\\nStatistics is a vast and versatile field, but at its core, it's the study of collecting, analyzing, interpreting, and presenting data. It helps us understand the world around us by making sense of information and drawing meaningful conclusions. Here are some key aspects of statistics:\\n\\nData Collection:\\n\\nStatistics starts with gathering data, which can come from various sources like surveys, experiments, observational studies, or existing records.\\nData Analysis:\\n\\nOnce data is collected, it needs to be organized and analyzed. This involves various techniques like calculating summary statistics (mean, median, etc.), creating data visualizations (charts, graphs), and applying statistical tests.\\nInterpretation:\\n\\nAfter analyzing the data, we need to interpret the results. This involves drawing conclusions, identifying patterns, and understanding the implications of the findings.\\nPresentation:\\n\\nFinally, statistical insights need to be communicated effectively. This can be done through written reports, presentations, or visualizations that clearly convey the findings to the intended audience.\\nApplications:\\n\\nStatistics is used in numerous fields, including:\\nScience: For research, data analysis, and testing hypotheses.\\nBusiness: For decision-making, marketing, and risk assessment.\\nSocial Sciences: For understanding human behavior, trends, and policies.\\nGovernment: For policy analysis, resource allocation, and public health.\\nTypes of Statistics:\\n\\nDescriptive statistics: Describes features of the data, such as central tendency (mean, median, mode) and dispersion (variance, standard deviation).\\nInferential statistics: Draws conclusions about a larger population based on a sample, using techniques like hypothesis testing and confidence intervals.\\nBenefits of Statistics:\\n\\nInformed decision-making: Provides evidence-based support for choices and actions.\\nIdentifying patterns and trends: Helps uncover hidden relationships and developments within data.\\nReducing uncertainty: Quantifies risks and probabilities, allowing for better planning.\\nImproving communication: Presents complex information in clear and concise ways.\\nIn essence, statistics equips you with the tools to unlock the meaning hidden within data, leading to valuable insights and informed decisions across various domains.\\n\""
      ]
     },
     "execution_count": 2,
     "metadata": {},
     "output_type": "execute_result"
    }
   ],
   "source": [
    "'''\n",
    "Statistics is a vast and versatile field, but at its core, it's the study of collecting, analyzing, interpreting, and presenting data. It helps us understand the world around us by making sense of information and drawing meaningful conclusions. Here are some key aspects of statistics:\n",
    "\n",
    "Data Collection:\n",
    "\n",
    "Statistics starts with gathering data, which can come from various sources like surveys, experiments, observational studies, or existing records.\n",
    "Data Analysis:\n",
    "\n",
    "Once data is collected, it needs to be organized and analyzed. This involves various techniques like calculating summary statistics (mean, median, etc.), creating data visualizations (charts, graphs), and applying statistical tests.\n",
    "Interpretation:\n",
    "\n",
    "After analyzing the data, we need to interpret the results. This involves drawing conclusions, identifying patterns, and understanding the implications of the findings.\n",
    "Presentation:\n",
    "\n",
    "Finally, statistical insights need to be communicated effectively. This can be done through written reports, presentations, or visualizations that clearly convey the findings to the intended audience.\n",
    "Applications:\n",
    "\n",
    "Statistics is used in numerous fields, including:\n",
    "Science: For research, data analysis, and testing hypotheses.\n",
    "Business: For decision-making, marketing, and risk assessment.\n",
    "Social Sciences: For understanding human behavior, trends, and policies.\n",
    "Government: For policy analysis, resource allocation, and public health.\n",
    "Types of Statistics:\n",
    "\n",
    "Descriptive statistics: Describes features of the data, such as central tendency (mean, median, mode) and dispersion (variance, standard deviation).\n",
    "Inferential statistics: Draws conclusions about a larger population based on a sample, using techniques like hypothesis testing and confidence intervals.\n",
    "Benefits of Statistics:\n",
    "\n",
    "Informed decision-making: Provides evidence-based support for choices and actions.\n",
    "Identifying patterns and trends: Helps uncover hidden relationships and developments within data.\n",
    "Reducing uncertainty: Quantifies risks and probabilities, allowing for better planning.\n",
    "Improving communication: Presents complex information in clear and concise ways.\n",
    "In essence, statistics equips you with the tools to unlock the meaning hidden within data, leading to valuable insights and informed decisions across various domains.\n",
    "'''"
   ]
  },
  {
   "cell_type": "code",
   "execution_count": 3,
   "id": "623af482-0ae0-4ccd-9484-d2a7dec37523",
   "metadata": {},
   "outputs": [
    {
     "data": {
      "text/plain": [
       "'\\nQ2. Define the different types of statistics and give an example of when each type might be used.\\n'"
      ]
     },
     "execution_count": 3,
     "metadata": {},
     "output_type": "execute_result"
    }
   ],
   "source": [
    "'''\n",
    "Q2. Define the different types of statistics and give an example of when each type might be used.\n",
    "'''"
   ]
  },
  {
   "cell_type": "code",
   "execution_count": 4,
   "id": "a9420324-3d31-464c-b599-bb2adaa14797",
   "metadata": {},
   "outputs": [
    {
     "data": {
      "text/plain": [
       "\"\\n there are two main types of statistics: descriptive and inferential. Here's a more detailed explanation of each, along with examples of their applications:\\n\\n1. Descriptive Statistics:\\n\\nPurpose: Describe the characteristics of a dataset without making generalizations about a larger population.\\nMethods: Calculation of measures like central tendency (mean, median, mode), dispersion (variance, standard deviation), percentiles, and frequency distributions. Data visualization techniques like histograms, boxplots, and scatter plots are also used.\\nExample: A teacher might use descriptive statistics to analyze the scores of a class test. They could calculate the average score, median score, range of scores, and create a histogram to visualize the distribution of scores. This helps them understand the overall performance of the class and identify areas where students might need more support.\\n2. Inferential Statistics:\\n\\nPurpose: Draw conclusions about a larger population (population inference) based on data collected from a smaller sample.\\nMethods: Techniques like hypothesis testing, confidence intervals, regression analysis, and ANOVA are used to test hypotheses, estimate population parameters, and identify relationships between variables.\\nExample: A marketing company might conduct a survey of a sample of customers to understand their preferences for a new product. They could use inferential statistics to estimate the proportion of the entire customer base who would be interested in the product, test hypotheses about the effectiveness of different marketing campaigns, and identify factors that influence purchase decisions. This information helps them make informed decisions about product development, marketing strategies, and resource allocation.\\n\""
      ]
     },
     "execution_count": 4,
     "metadata": {},
     "output_type": "execute_result"
    }
   ],
   "source": [
    "'''\n",
    " there are two main types of statistics: descriptive and inferential. Here's a more detailed explanation of each, along with examples of their applications:\n",
    "\n",
    "1. Descriptive Statistics:\n",
    "\n",
    "Purpose: Describe the characteristics of a dataset without making generalizations about a larger population.\n",
    "Methods: Calculation of measures like central tendency (mean, median, mode), dispersion (variance, standard deviation), percentiles, and frequency distributions. Data visualization techniques like histograms, boxplots, and scatter plots are also used.\n",
    "Example: A teacher might use descriptive statistics to analyze the scores of a class test. They could calculate the average score, median score, range of scores, and create a histogram to visualize the distribution of scores. This helps them understand the overall performance of the class and identify areas where students might need more support.\n",
    "2. Inferential Statistics:\n",
    "\n",
    "Purpose: Draw conclusions about a larger population (population inference) based on data collected from a smaller sample.\n",
    "Methods: Techniques like hypothesis testing, confidence intervals, regression analysis, and ANOVA are used to test hypotheses, estimate population parameters, and identify relationships between variables.\n",
    "Example: A marketing company might conduct a survey of a sample of customers to understand their preferences for a new product. They could use inferential statistics to estimate the proportion of the entire customer base who would be interested in the product, test hypotheses about the effectiveness of different marketing campaigns, and identify factors that influence purchase decisions. This information helps them make informed decisions about product development, marketing strategies, and resource allocation.\n",
    "'''"
   ]
  },
  {
   "cell_type": "code",
   "execution_count": 5,
   "id": "723fa9b7-8040-4fe5-82ed-fa8a68cae48e",
   "metadata": {},
   "outputs": [
    {
     "data": {
      "text/plain": [
       "'\\nQ3. What are the different types of data and how do they differ from each other? Provide an example of\\neach type of data.\\n'"
      ]
     },
     "execution_count": 5,
     "metadata": {},
     "output_type": "execute_result"
    }
   ],
   "source": [
    "'''\n",
    "Q3. What are the different types of data and how do they differ from each other? Provide an example of\n",
    "each type of data.\n",
    "'''"
   ]
  },
  {
   "cell_type": "code",
   "execution_count": 6,
   "id": "dc37dc84-1836-4042-b217-446f645f165b",
   "metadata": {},
   "outputs": [
    {
     "data": {
      "text/plain": [
       "'\\nData comes in various forms, categorized by its fundamental characteristics. Here are some common types of data and their key differences:\\n\\n1. Quantitative vs. Qualitative data:\\n\\nQuantitative data: Represents numerical values that can be measured and counted. It deals with quantities. Examples include:\\nDiscrete data: Takes only distinct, countable values, like the number of people in a room (1, 2, 3, etc.).\\nContinuous data: Can take any value within a range, like temperature (22.5°C, 22.6°C, etc.).\\nQualitative data: Describes characteristics or attributes that cannot be easily measured numerically. It focuses on qualities. Examples include:\\nNominal data: Categorizes items into non-ordered groups, like eye color (brown, blue, green).\\nOrdinal data: Categorizes items in a specific order, like customer satisfaction (very satisfied, satisfied, neutral).\\nDifferentiating factors:\\n\\nMeasurability: Quantitative data is measurable, while qualitative data describes qualities.\\nAnalysis methods: Quantitative data uses statistical calculations, while qualitative data relies on thematic analysis and interpretation.\\nExamples: Quantitative data includes survey responses on a Likert scale (1-5), stock prices, or website traffic numbers. Qualitative data examples are interview transcripts, customer reviews, or social media posts.\\n2. Structured vs. Unstructured data:\\n\\nStructured data: Organized in a defined format, often stored in databases or spreadsheets. Examples include:\\nCustomer records with fields for name, address, purchase history, etc.\\nSensor data with timestamps and recorded values.\\nUnstructured data: Lacks a predefined structure and comes in various formats like text, images, audio, video. Examples include:\\nSocial media posts, emails, survey open-ended responses.\\nMedical images, security camera footage, audio recordings.\\nDifferentiating factors:\\n\\nOrganization: Structured data has a defined organization, while unstructured data is less organized.\\nAnalysis tools: Structured data benefits from dedicated tools like SQL queries, while unstructured data often requires machine learning techniques.\\nExamples: Financial transaction records are structured, while online product reviews are unstructured.\\n3. Primary vs. Secondary data:\\n\\nPrimary data: Collected firsthand for a specific purpose by the researcher or organization. Examples include:\\nConducting surveys, running experiments, collecting sensor data.\\nInterviewing customers, observing user behavior.\\nSecondary data: Already exists and was collected by someone else, often publicly available. Examples include:\\nGovernment census data, market research reports, social media analytics.\\nScientific publications, publicly available datasets.\\nDifferentiating factors:\\n\\nCollection source: Primary data comes directly from the research question, while secondary data was collected for other purposes.\\nControl: Researchers have more control over collecting and ensuring the quality of primary data.\\nExamples: A market research study using surveys is primary data, while analyzing existing customer demographics is secondary data.\\nUnderstanding these basic types of data and their differences is crucial for choosing the right data for your analysis and applying appropriate methods to extract meaningful insights.\\n'"
      ]
     },
     "execution_count": 6,
     "metadata": {},
     "output_type": "execute_result"
    }
   ],
   "source": [
    "'''\n",
    "Data comes in various forms, categorized by its fundamental characteristics. Here are some common types of data and their key differences:\n",
    "\n",
    "1. Quantitative vs. Qualitative data:\n",
    "\n",
    "Quantitative data: Represents numerical values that can be measured and counted. It deals with quantities. Examples include:\n",
    "Discrete data: Takes only distinct, countable values, like the number of people in a room (1, 2, 3, etc.).\n",
    "Continuous data: Can take any value within a range, like temperature (22.5°C, 22.6°C, etc.).\n",
    "Qualitative data: Describes characteristics or attributes that cannot be easily measured numerically. It focuses on qualities. Examples include:\n",
    "Nominal data: Categorizes items into non-ordered groups, like eye color (brown, blue, green).\n",
    "Ordinal data: Categorizes items in a specific order, like customer satisfaction (very satisfied, satisfied, neutral).\n",
    "Differentiating factors:\n",
    "\n",
    "Measurability: Quantitative data is measurable, while qualitative data describes qualities.\n",
    "Analysis methods: Quantitative data uses statistical calculations, while qualitative data relies on thematic analysis and interpretation.\n",
    "Examples: Quantitative data includes survey responses on a Likert scale (1-5), stock prices, or website traffic numbers. Qualitative data examples are interview transcripts, customer reviews, or social media posts.\n",
    "2. Structured vs. Unstructured data:\n",
    "\n",
    "Structured data: Organized in a defined format, often stored in databases or spreadsheets. Examples include:\n",
    "Customer records with fields for name, address, purchase history, etc.\n",
    "Sensor data with timestamps and recorded values.\n",
    "Unstructured data: Lacks a predefined structure and comes in various formats like text, images, audio, video. Examples include:\n",
    "Social media posts, emails, survey open-ended responses.\n",
    "Medical images, security camera footage, audio recordings.\n",
    "Differentiating factors:\n",
    "\n",
    "Organization: Structured data has a defined organization, while unstructured data is less organized.\n",
    "Analysis tools: Structured data benefits from dedicated tools like SQL queries, while unstructured data often requires machine learning techniques.\n",
    "Examples: Financial transaction records are structured, while online product reviews are unstructured.\n",
    "3. Primary vs. Secondary data:\n",
    "\n",
    "Primary data: Collected firsthand for a specific purpose by the researcher or organization. Examples include:\n",
    "Conducting surveys, running experiments, collecting sensor data.\n",
    "Interviewing customers, observing user behavior.\n",
    "Secondary data: Already exists and was collected by someone else, often publicly available. Examples include:\n",
    "Government census data, market research reports, social media analytics.\n",
    "Scientific publications, publicly available datasets.\n",
    "Differentiating factors:\n",
    "\n",
    "Collection source: Primary data comes directly from the research question, while secondary data was collected for other purposes.\n",
    "Control: Researchers have more control over collecting and ensuring the quality of primary data.\n",
    "Examples: A market research study using surveys is primary data, while analyzing existing customer demographics is secondary data.\n",
    "Understanding these basic types of data and their differences is crucial for choosing the right data for your analysis and applying appropriate methods to extract meaningful insights.\n",
    "'''\n"
   ]
  },
  {
   "cell_type": "code",
   "execution_count": 7,
   "id": "62e1bb08-7295-4ddd-ab42-8a1b1b74a303",
   "metadata": {},
   "outputs": [
    {
     "data": {
      "text/plain": [
       "'\\nQ4. Categorise the following datasets with respect to quantitative and qualitative data types:\\n(i) Grading in exam: A+, A, B+, B, C+, C, D, E\\n(ii) Colour of mangoes: yellow, green, orange, red\\n(iii) Height data of a class: [178.9, 179, 179.5, 176, 177.2, 178.3, 175.8,...]\\n(iv) Number of mangoes exported by a farm: [500, 600, 478, 672, ...]\\n'"
      ]
     },
     "execution_count": 7,
     "metadata": {},
     "output_type": "execute_result"
    }
   ],
   "source": [
    "'''\n",
    "Q4. Categorise the following datasets with respect to quantitative and qualitative data types:\n",
    "(i) Grading in exam: A+, A, B+, B, C+, C, D, E\n",
    "(ii) Colour of mangoes: yellow, green, orange, red\n",
    "(iii) Height data of a class: [178.9, 179, 179.5, 176, 177.2, 178.3, 175.8,...]\n",
    "(iv) Number of mangoes exported by a farm: [500, 600, 478, 672, ...]\n",
    "'''"
   ]
  },
  {
   "cell_type": "code",
   "execution_count": 8,
   "id": "5de52fd5-4ac3-4b5b-9ad8-0afe4e339571",
   "metadata": {},
   "outputs": [
    {
     "data": {
      "text/plain": [
       "\"\\n\\nHere's the categorization of the datasets with respect to quantitative and qualitative data types:\\n\\ni) Grading in exam: Qualitative data\\n\\nThis data represents categories (A+, A, B+, etc.) and doesn't involve numerical values. There's no inherent order or meaningful difference between grades, making them qualitative.\\n\\nii) Colour of mangoes: Qualitative data\\n\\nThis data represents categories (yellow, green, orange, red) and doesn't involve numerical values. Colors cannot be meaningfully ordered or compared numerically, making them qualitative.\\n\\niii) Height data of a class: Quantitative data\\n\\nThis data represents numerical values (heights in cm) that can be measured and ordered. You can calculate statistics like mean, median, and standard deviation, making it quantitative data.\\n\\niv) Number of mangoes exported by a farm: Quantitative data\\n\\nThis data represents numerical values (number of mangoes) that can be counted and ordered. You can calculate statistics like total exports, average exports, and compare values across farms, making it quantitative data.\\n\\nIn summary:\\n\\nQualitative data: Grading in exam, Colour of mangoes.\\nQuantitative data: Height data of a class, Number of mangoes exported by a farm.\\n\""
      ]
     },
     "execution_count": 8,
     "metadata": {},
     "output_type": "execute_result"
    }
   ],
   "source": [
    "'''\n",
    "\n",
    "Here's the categorization of the datasets with respect to quantitative and qualitative data types:\n",
    "\n",
    "i) Grading in exam: Qualitative data\n",
    "\n",
    "This data represents categories (A+, A, B+, etc.) and doesn't involve numerical values. There's no inherent order or meaningful difference between grades, making them qualitative.\n",
    "\n",
    "ii) Colour of mangoes: Qualitative data\n",
    "\n",
    "This data represents categories (yellow, green, orange, red) and doesn't involve numerical values. Colors cannot be meaningfully ordered or compared numerically, making them qualitative.\n",
    "\n",
    "iii) Height data of a class: Quantitative data\n",
    "\n",
    "This data represents numerical values (heights in cm) that can be measured and ordered. You can calculate statistics like mean, median, and standard deviation, making it quantitative data.\n",
    "\n",
    "iv) Number of mangoes exported by a farm: Quantitative data\n",
    "\n",
    "This data represents numerical values (number of mangoes) that can be counted and ordered. You can calculate statistics like total exports, average exports, and compare values across farms, making it quantitative data.\n",
    "\n",
    "In summary:\n",
    "\n",
    "Qualitative data: Grading in exam, Colour of mangoes.\n",
    "Quantitative data: Height data of a class, Number of mangoes exported by a farm.\n",
    "'''"
   ]
  },
  {
   "cell_type": "code",
   "execution_count": 9,
   "id": "40707877-9609-44b1-85ef-ee4a21437ea7",
   "metadata": {},
   "outputs": [
    {
     "data": {
      "text/plain": [
       "'\\nQ5. Explain the concept of levels of measurement and give an example of a variable for each level.\\n'"
      ]
     },
     "execution_count": 9,
     "metadata": {},
     "output_type": "execute_result"
    }
   ],
   "source": [
    "'''\n",
    "Q5. Explain the concept of levels of measurement and give an example of a variable for each level.\n",
    "'''"
   ]
  },
  {
   "cell_type": "code",
   "execution_count": 10,
   "id": "aed9df88-0c6d-4d41-aacd-f8cac3c1341b",
   "metadata": {},
   "outputs": [
    {
     "data": {
      "text/plain": [
       "'\\nLevels of measurement refer to the scale at which data is measured, indicating the type of information encoded in the values. Each level has different properties and allows for specific operations and analyses. Here are the four main levels with examples:\\n\\n1. Nominal:\\n\\nRepresents categories without inherent order or meaningful differences between them. Values act as labels and cannot be ranked or compared numerically.\\nExample: Blood type (A, B, AB, O), Eye color (brown, blue, green), Survey responses with options like \"Yes\", \"No\", \"Unsure\".\\n2. Ordinal:\\n\\nRepresents categories with an inherent order, but the intervals between categories are not necessarily equal. You can rank the data, but not say how much greater one value is than another.\\nExample: Movie ratings (1 star, 2 stars, 3 stars, etc.), Education level (high school, bachelor\\'s degree, master\\'s degree), T-shirt sizes (S, M, L, XL).\\n3. Interval:\\n\\nRepresents numerical values with equal intervals between units. You can order the data and perform calculations like differences and ratios, but the zero point may not be meaningful.\\nExample: Temperature in Celsius or Fahrenheit, Calendar year, IQ scores, Time measurements (seconds, minutes).\\n4. Ratio:\\n\\nRepresents numerical values with equal intervals and a true zero point. You can order the data, perform all calculations as in interval level, and ratios have meaning.\\nExample: Age, Weight, Distance, Income, Number of apples in a basket.\\nKey points:\\n\\nHigher levels incorporate the properties of lower levels. For example, ratio data can also be treated as interval, ordinal, or nominal.\\nChoosing the appropriate level is crucial for applying correct statistical methods and drawing valid conclusions.\\nMisinterpreting the level of measurement can lead to flawed analyses and misleading results.\\nBy understanding these levels and their examples, you can better classify your data and perform appropriate statistical analyses to derive meaningful insights.\\n'"
      ]
     },
     "execution_count": 10,
     "metadata": {},
     "output_type": "execute_result"
    }
   ],
   "source": [
    "'''\n",
    "Levels of measurement refer to the scale at which data is measured, indicating the type of information encoded in the values. Each level has different properties and allows for specific operations and analyses. Here are the four main levels with examples:\n",
    "\n",
    "1. Nominal:\n",
    "\n",
    "Represents categories without inherent order or meaningful differences between them. Values act as labels and cannot be ranked or compared numerically.\n",
    "Example: Blood type (A, B, AB, O), Eye color (brown, blue, green), Survey responses with options like \"Yes\", \"No\", \"Unsure\".\n",
    "2. Ordinal:\n",
    "\n",
    "Represents categories with an inherent order, but the intervals between categories are not necessarily equal. You can rank the data, but not say how much greater one value is than another.\n",
    "Example: Movie ratings (1 star, 2 stars, 3 stars, etc.), Education level (high school, bachelor's degree, master's degree), T-shirt sizes (S, M, L, XL).\n",
    "3. Interval:\n",
    "\n",
    "Represents numerical values with equal intervals between units. You can order the data and perform calculations like differences and ratios, but the zero point may not be meaningful.\n",
    "Example: Temperature in Celsius or Fahrenheit, Calendar year, IQ scores, Time measurements (seconds, minutes).\n",
    "4. Ratio:\n",
    "\n",
    "Represents numerical values with equal intervals and a true zero point. You can order the data, perform all calculations as in interval level, and ratios have meaning.\n",
    "Example: Age, Weight, Distance, Income, Number of apples in a basket.\n",
    "Key points:\n",
    "\n",
    "Higher levels incorporate the properties of lower levels. For example, ratio data can also be treated as interval, ordinal, or nominal.\n",
    "Choosing the appropriate level is crucial for applying correct statistical methods and drawing valid conclusions.\n",
    "Misinterpreting the level of measurement can lead to flawed analyses and misleading results.\n",
    "By understanding these levels and their examples, you can better classify your data and perform appropriate statistical analyses to derive meaningful insights.\n",
    "'''"
   ]
  },
  {
   "cell_type": "code",
   "execution_count": 11,
   "id": "4082b1e2-6827-49f4-864d-ac54e06a0b3c",
   "metadata": {},
   "outputs": [
    {
     "data": {
      "text/plain": [
       "'\\nQ6. Why is it important to understand the level of measurement when analyzing data? Provide an\\nexample to illustrate your answer.\\n'"
      ]
     },
     "execution_count": 11,
     "metadata": {},
     "output_type": "execute_result"
    }
   ],
   "source": [
    "'''\n",
    "Q6. Why is it important to understand the level of measurement when analyzing data? Provide an\n",
    "example to illustrate your answer.\n",
    "'''"
   ]
  },
  {
   "cell_type": "code",
   "execution_count": 12,
   "id": "855e7f6a-f227-4d2c-87ea-6af0676a78dd",
   "metadata": {},
   "outputs": [
    {
     "data": {
      "text/plain": [
       "'\\n\\nUnderstanding the level of measurement (nominal, ordinal, interval, ratio) is crucial for analyzing data because it determines the types of calculations and interpretations you can make. Choosing the wrong analysis based on an incorrect level of measurement can lead to misleading and potentially harmful conclusions. Here\\'s an example to illustrate:\\n\\nExample: Imagine you\\'re analyzing survey data on student satisfaction with different teaching methods (A, B, and C). The survey uses a 5-point Likert scale (1 = very dissatisfied, 5 = very satisfied).\\n\\nIncorrect Analysis:\\n\\nIf you treat the satisfaction scores as ratio data, you might calculate an average score for each method (e.g., 3.2 for A, 4.1 for B) and conclude that method B is \"better\" by 0.9 points.\\nHowever, Likert scales are ordinal data, meaning the order of responses matters but the intervals between points are not necessarily equal. A difference of 1 point might not always represent the same level of satisfaction change.\\nCorrect Analysis:\\n\\nRecognizing the ordinal nature of the data, you could use non-parametric tests like the Kruskal-Wallis test to compare satisfaction across methods without assuming equal intervals. This avoids misinterpreting the magnitude of differences.\\nAdditionally, looking at the distribution of responses for each method (e.g., percentages of very satisfied, somewhat satisfied, etc.) could provide richer insights beyond just average scores.\\nThis example highlights how misinterpreting the level of measurement can lead to erroneous conclusions. Here are some other consequences:\\n\\nUsing inappropriate statistical tests: Applying tests designed for one level of measurement to data of another level can lead to inaccurate results and p-values.\\nMisleading data visualization: Choosing visualizations that imply more information than the data can support (e.g., using bar charts with unequal intervals for ordinal data) can distort understanding.\\nIncorrect inferences and decisions: Based on flawed analyses, you might make wrong decisions about interventions, policies, or product development based on misinterpreted data.\\nIn conclusion, understanding the level of measurement is essential for responsible data analysis. It ensures you choose appropriate methods, draw valid interpretations, and ultimately gain reliable insights from your data. Remember, data can be powerful, but only when used with proper understanding and respect for its inherent characteristics.\\n'"
      ]
     },
     "execution_count": 12,
     "metadata": {},
     "output_type": "execute_result"
    }
   ],
   "source": [
    "'''\n",
    "\n",
    "Understanding the level of measurement (nominal, ordinal, interval, ratio) is crucial for analyzing data because it determines the types of calculations and interpretations you can make. Choosing the wrong analysis based on an incorrect level of measurement can lead to misleading and potentially harmful conclusions. Here's an example to illustrate:\n",
    "\n",
    "Example: Imagine you're analyzing survey data on student satisfaction with different teaching methods (A, B, and C). The survey uses a 5-point Likert scale (1 = very dissatisfied, 5 = very satisfied).\n",
    "\n",
    "Incorrect Analysis:\n",
    "\n",
    "If you treat the satisfaction scores as ratio data, you might calculate an average score for each method (e.g., 3.2 for A, 4.1 for B) and conclude that method B is \"better\" by 0.9 points.\n",
    "However, Likert scales are ordinal data, meaning the order of responses matters but the intervals between points are not necessarily equal. A difference of 1 point might not always represent the same level of satisfaction change.\n",
    "Correct Analysis:\n",
    "\n",
    "Recognizing the ordinal nature of the data, you could use non-parametric tests like the Kruskal-Wallis test to compare satisfaction across methods without assuming equal intervals. This avoids misinterpreting the magnitude of differences.\n",
    "Additionally, looking at the distribution of responses for each method (e.g., percentages of very satisfied, somewhat satisfied, etc.) could provide richer insights beyond just average scores.\n",
    "This example highlights how misinterpreting the level of measurement can lead to erroneous conclusions. Here are some other consequences:\n",
    "\n",
    "Using inappropriate statistical tests: Applying tests designed for one level of measurement to data of another level can lead to inaccurate results and p-values.\n",
    "Misleading data visualization: Choosing visualizations that imply more information than the data can support (e.g., using bar charts with unequal intervals for ordinal data) can distort understanding.\n",
    "Incorrect inferences and decisions: Based on flawed analyses, you might make wrong decisions about interventions, policies, or product development based on misinterpreted data.\n",
    "In conclusion, understanding the level of measurement is essential for responsible data analysis. It ensures you choose appropriate methods, draw valid interpretations, and ultimately gain reliable insights from your data. Remember, data can be powerful, but only when used with proper understanding and respect for its inherent characteristics.\n",
    "'''"
   ]
  },
  {
   "cell_type": "code",
   "execution_count": 13,
   "id": "35a4b748-48db-4e08-a3bc-bbaea00cb9cf",
   "metadata": {},
   "outputs": [
    {
     "data": {
      "text/plain": [
       "'\\nQ7. How nominal data type is different from ordinal data type.\\n'"
      ]
     },
     "execution_count": 13,
     "metadata": {},
     "output_type": "execute_result"
    }
   ],
   "source": [
    "'''\n",
    "Q7. How nominal data type is different from ordinal data type.\n",
    "'''"
   ]
  },
  {
   "cell_type": "code",
   "execution_count": 14,
   "id": "a121b55f-6bfe-4766-a113-eea63d7d6026",
   "metadata": {},
   "outputs": [
    {
     "data": {
      "text/plain": [
       "'\\n\\nThe key difference between nominal and ordinal data types lies in how they categorize and represent information:\\n\\nNominal Data:\\n\\nCategories: Represents distinct categories or groups without any inherent order or meaningful differences between them.\\nValues as labels: Values act as labels to identify group membership, and you cannot rank or compare them numerically.\\nExamples: Blood type (A, B, AB, O), Eye color (brown, blue, green), Survey responses with options like \"Yes\", \"No\", \"Unsure\".\\nOperations: You can only count the frequency of each category and represent them in bar charts or pie charts.\\nOrdinal Data:\\n\\nOrdered categories: Represents categories with an inherent order, but the intervals between categories are not necessarily equal.\\nRanking: You can rank the data based on the order (e.g., first, second, third), but not say how much greater one value is than another.\\nExamples: Movie ratings (1 star, 2 stars, 3 stars, etc.), Education level (high school, bachelor\\'s degree, master\\'s degree), T-shirt sizes (S, M, L, XL).\\nOperations: You can count the frequency of each category, calculate the median (middle value), and use non-parametric tests that don\\'t rely on equal intervals between categories.\\nKey Differences:\\n\\nFeature\\tNominal Data\\tOrdinal Data\\nOrder\\tNo inherent order\\tHas an inherent order\\nComparisons\\tCannot compare categories numerically\\tCan rank categories, but not measure differences\\nZero point\\tZero has no meaning\\tZero point may or may not have meaning\\nExamples\\tBlood type, eye color, survey options\\tMovie ratings, education level, shirt sizes\\nOperations\\tFrequency counts, bar charts/pie charts\\tFrequency counts, median, non-parametric tests\\nMisconceptions:\\n\\nSometimes, ordinal data is mistakenly treated as numerical, leading to calculations like averages or ratios that can be misleading due to the unequal intervals.\\nNominal data should not be forced into an order or misinterpreted as having inherent rankings.\\n'"
      ]
     },
     "execution_count": 14,
     "metadata": {},
     "output_type": "execute_result"
    }
   ],
   "source": [
    "'''\n",
    "\n",
    "The key difference between nominal and ordinal data types lies in how they categorize and represent information:\n",
    "\n",
    "Nominal Data:\n",
    "\n",
    "Categories: Represents distinct categories or groups without any inherent order or meaningful differences between them.\n",
    "Values as labels: Values act as labels to identify group membership, and you cannot rank or compare them numerically.\n",
    "Examples: Blood type (A, B, AB, O), Eye color (brown, blue, green), Survey responses with options like \"Yes\", \"No\", \"Unsure\".\n",
    "Operations: You can only count the frequency of each category and represent them in bar charts or pie charts.\n",
    "Ordinal Data:\n",
    "\n",
    "Ordered categories: Represents categories with an inherent order, but the intervals between categories are not necessarily equal.\n",
    "Ranking: You can rank the data based on the order (e.g., first, second, third), but not say how much greater one value is than another.\n",
    "Examples: Movie ratings (1 star, 2 stars, 3 stars, etc.), Education level (high school, bachelor's degree, master's degree), T-shirt sizes (S, M, L, XL).\n",
    "Operations: You can count the frequency of each category, calculate the median (middle value), and use non-parametric tests that don't rely on equal intervals between categories.\n",
    "Key Differences:\n",
    "\n",
    "Feature\tNominal Data\tOrdinal Data\n",
    "Order\tNo inherent order\tHas an inherent order\n",
    "Comparisons\tCannot compare categories numerically\tCan rank categories, but not measure differences\n",
    "Zero point\tZero has no meaning\tZero point may or may not have meaning\n",
    "Examples\tBlood type, eye color, survey options\tMovie ratings, education level, shirt sizes\n",
    "Operations\tFrequency counts, bar charts/pie charts\tFrequency counts, median, non-parametric tests\n",
    "Misconceptions:\n",
    "\n",
    "Sometimes, ordinal data is mistakenly treated as numerical, leading to calculations like averages or ratios that can be misleading due to the unequal intervals.\n",
    "Nominal data should not be forced into an order or misinterpreted as having inherent rankings.\n",
    "'''"
   ]
  },
  {
   "cell_type": "code",
   "execution_count": 15,
   "id": "15b8ce9b-84be-4ca7-b564-032ff8ce3bcd",
   "metadata": {},
   "outputs": [
    {
     "data": {
      "text/plain": [
       "'\\nQ8. Which type of plot can be used to display data in terms of range?\\n'"
      ]
     },
     "execution_count": 15,
     "metadata": {},
     "output_type": "execute_result"
    }
   ],
   "source": [
    "'''\n",
    "Q8. Which type of plot can be used to display data in terms of range?\n",
    "'''"
   ]
  },
  {
   "cell_type": "code",
   "execution_count": 16,
   "id": "7ee2a5af-fe81-4155-b02d-ef2d65ba365c",
   "metadata": {},
   "outputs": [
    {
     "data": {
      "text/plain": [
       "'\\nThere are several types of plots that can be used to display data in terms of range, depending on the specific characteristics of your data and the information you want to highlight:\\n\\n1. Box Plots:\\n\\nIdeal for ordinal or quantitative data with multiple groups or categories.\\nDisplays the distribution of data within each group using a box representing the interquartile range (IQR) and whiskers extending to minimum and maximum values (excluding outliers).\\nUseful for visually comparing the range and variability of data across groups.\\n2. Range Bars:\\n\\nSuitable for quantitative data with a defined range for each data point.\\nEach data point is represented by a horizontal bar extending from its minimum to maximum value within the range.\\nProvides a clear visualization of the individual and overall range of values.\\n3. Violin Plots:\\n\\nSimilar to box plots but offer more information about the distribution within each group.\\nUses a kernel density estimation to create a violin-shaped silhouette that shows the spread of data points.\\nProvides insights into both the range and distribution of data within groups.\\n4. Error Bars:\\n\\nCan be added to various plots (bar charts, line charts, etc.) to represent the range of uncertainty associated with a data point.\\nError bars typically show the standard deviation, standard error, or confidence interval around the mean or median value.\\nUseful for visualizing the variability of data points and highlighting areas of uncertainty.\\n5. Heatmaps:\\n\\nOften used for categorical data where values are associated with two or more variables.\\nData points are represented by color intensities in a grid, with darker colors indicating higher values or wider ranges.\\nEffective for exploring patterns and trends related to range variations across different categories.\\nChoosing the best plot for your data depends on your specific goals and the type of information you want to convey. Consider the following factors when making your decision:\\n\\nNumber of variables: Are you exploring one variable or comparing ranges across multiple variables?\\nData type: Is your data nominal, ordinal, or quantitative?\\nDistribution of data: Is your data normally distributed or skewed?\\nDesired information: Do you want to show individual values, compare distributions, or visualize uncertainty?\\nBy carefully considering these factors, you can select the most appropriate plot to effectively display your data in terms of range and derive meaningful insights from your analysis.\\n'"
      ]
     },
     "execution_count": 16,
     "metadata": {},
     "output_type": "execute_result"
    }
   ],
   "source": [
    "'''\n",
    "There are several types of plots that can be used to display data in terms of range, depending on the specific characteristics of your data and the information you want to highlight:\n",
    "\n",
    "1. Box Plots:\n",
    "\n",
    "Ideal for ordinal or quantitative data with multiple groups or categories.\n",
    "Displays the distribution of data within each group using a box representing the interquartile range (IQR) and whiskers extending to minimum and maximum values (excluding outliers).\n",
    "Useful for visually comparing the range and variability of data across groups.\n",
    "2. Range Bars:\n",
    "\n",
    "Suitable for quantitative data with a defined range for each data point.\n",
    "Each data point is represented by a horizontal bar extending from its minimum to maximum value within the range.\n",
    "Provides a clear visualization of the individual and overall range of values.\n",
    "3. Violin Plots:\n",
    "\n",
    "Similar to box plots but offer more information about the distribution within each group.\n",
    "Uses a kernel density estimation to create a violin-shaped silhouette that shows the spread of data points.\n",
    "Provides insights into both the range and distribution of data within groups.\n",
    "4. Error Bars:\n",
    "\n",
    "Can be added to various plots (bar charts, line charts, etc.) to represent the range of uncertainty associated with a data point.\n",
    "Error bars typically show the standard deviation, standard error, or confidence interval around the mean or median value.\n",
    "Useful for visualizing the variability of data points and highlighting areas of uncertainty.\n",
    "5. Heatmaps:\n",
    "\n",
    "Often used for categorical data where values are associated with two or more variables.\n",
    "Data points are represented by color intensities in a grid, with darker colors indicating higher values or wider ranges.\n",
    "Effective for exploring patterns and trends related to range variations across different categories.\n",
    "Choosing the best plot for your data depends on your specific goals and the type of information you want to convey. Consider the following factors when making your decision:\n",
    "\n",
    "Number of variables: Are you exploring one variable or comparing ranges across multiple variables?\n",
    "Data type: Is your data nominal, ordinal, or quantitative?\n",
    "Distribution of data: Is your data normally distributed or skewed?\n",
    "Desired information: Do you want to show individual values, compare distributions, or visualize uncertainty?\n",
    "By carefully considering these factors, you can select the most appropriate plot to effectively display your data in terms of range and derive meaningful insights from your analysis.\n",
    "'''"
   ]
  },
  {
   "cell_type": "code",
   "execution_count": 17,
   "id": "abd4b18f-059d-4a09-8f5c-b40d1278f815",
   "metadata": {},
   "outputs": [
    {
     "data": {
      "text/plain": [
       "'\\nQ9. Describe the difference between descriptive and inferential statistics. Give an example of each\\ntype of statistics and explain how they are used.\\n'"
      ]
     },
     "execution_count": 17,
     "metadata": {},
     "output_type": "execute_result"
    }
   ],
   "source": [
    "'''\n",
    "Q9. Describe the difference between descriptive and inferential statistics. Give an example of each\n",
    "type of statistics and explain how they are used.\n",
    "'''"
   ]
  },
  {
   "cell_type": "code",
   "execution_count": 18,
   "id": "e44f1cb6-67bc-4029-94b1-123cae789acc",
   "metadata": {},
   "outputs": [
    {
     "data": {
      "text/plain": [
       "'\\n\\nDescriptive vs. Inferential Statistics: Demystifying the Differences\\nThe realm of statistics often involves two key approaches: descriptive and inferential. While both deal with analyzing data, they differ in their purpose and methods:\\n\\nDescriptive Statistics:\\n\\nPurpose: Describe the characteristics of a dataset without drawing conclusions about a larger population.\\nMethods: Summarizes data using measures like central tendency (mean, median, mode), dispersion (variance, standard deviation), percentiles, and frequency distributions. Data visualization techniques like histograms, boxplots, and scatter plots are also used.\\nExample: A teacher might gather test scores from a class. They calculate the average score, median score, range of scores, and create a histogram. This helps them understand the overall performance of the class and identify areas where students might need more support.\\nApplications: Summarizing survey responses, analyzing website traffic data, understanding customer demographics.\\nInferential Statistics:\\n\\nPurpose: Draw conclusions about a larger population (population inference) based on data collected from a smaller sample.\\nMethods: Techniques like hypothesis testing, confidence intervals, regression analysis, and ANOVA are used to test hypotheses, estimate population parameters, and identify relationships between variables.\\nExample: A marketing company conducts a survey of 500 customers to understand their preferences for a new product. They use inferential statistics to estimate the proportion of the entire customer base who would be interested in the product, test hypotheses about the effectiveness of different marketing campaigns, and identify factors that influence purchase decisions.\\nApplications: Testing the effectiveness of new medications, forecasting sales figures, comparing the performance of different groups.\\n'"
      ]
     },
     "execution_count": 18,
     "metadata": {},
     "output_type": "execute_result"
    }
   ],
   "source": [
    "'''\n",
    "\n",
    "Descriptive vs. Inferential Statistics: Demystifying the Differences\n",
    "The realm of statistics often involves two key approaches: descriptive and inferential. While both deal with analyzing data, they differ in their purpose and methods:\n",
    "\n",
    "Descriptive Statistics:\n",
    "\n",
    "Purpose: Describe the characteristics of a dataset without drawing conclusions about a larger population.\n",
    "Methods: Summarizes data using measures like central tendency (mean, median, mode), dispersion (variance, standard deviation), percentiles, and frequency distributions. Data visualization techniques like histograms, boxplots, and scatter plots are also used.\n",
    "Example: A teacher might gather test scores from a class. They calculate the average score, median score, range of scores, and create a histogram. This helps them understand the overall performance of the class and identify areas where students might need more support.\n",
    "Applications: Summarizing survey responses, analyzing website traffic data, understanding customer demographics.\n",
    "Inferential Statistics:\n",
    "\n",
    "Purpose: Draw conclusions about a larger population (population inference) based on data collected from a smaller sample.\n",
    "Methods: Techniques like hypothesis testing, confidence intervals, regression analysis, and ANOVA are used to test hypotheses, estimate population parameters, and identify relationships between variables.\n",
    "Example: A marketing company conducts a survey of 500 customers to understand their preferences for a new product. They use inferential statistics to estimate the proportion of the entire customer base who would be interested in the product, test hypotheses about the effectiveness of different marketing campaigns, and identify factors that influence purchase decisions.\n",
    "Applications: Testing the effectiveness of new medications, forecasting sales figures, comparing the performance of different groups.\n",
    "'''"
   ]
  },
  {
   "cell_type": "code",
   "execution_count": 19,
   "id": "4923939a-68b3-465b-9033-e6c00a1bad87",
   "metadata": {},
   "outputs": [
    {
     "data": {
      "text/plain": [
       "'\\nQ10. What are some common measures of central tendency and variability used in statistics? Explain\\nhow each measure can be used to describe a dataset.\\n'"
      ]
     },
     "execution_count": 19,
     "metadata": {},
     "output_type": "execute_result"
    }
   ],
   "source": [
    "'''\n",
    "Q10. What are some common measures of central tendency and variability used in statistics? Explain\n",
    "how each measure can be used to describe a dataset.\n",
    "'''"
   ]
  },
  {
   "cell_type": "code",
   "execution_count": 20,
   "id": "3655332b-96ac-460c-840d-0b571484cb0e",
   "metadata": {},
   "outputs": [
    {
     "data": {
      "text/plain": [
       "'\\nWhen describing datasets, statisticians rely on two key sets of measures: central tendency and variability. Each offers valuable insights into the data\\'s characteristics:\\n\\nMeasures of Central Tendency:\\n\\nMean (average): The sum of all values divided by the number of values. Reflects the \"typical\" value in the dataset, but can be skewed by outliers.\\nUse: Suitable for normally distributed data and representing overall value.\\nMedian: The middle value when all values are arranged in order. Less sensitive to outliers than the mean.\\nUse: Applicable to any data type, robust to outliers, good for skewed distributions.\\nMode: The most frequent value in the dataset. Identifies the value occurring most often.\\nUse: Useful for identifying common values, but doesn\\'t necessarily represent \"typical\" value.\\nMeasures of Variability:\\n\\nRange: The difference between the largest and smallest values. Simple measure, but sensitive to outliers.\\nUse: Quick overview of data spread, but limited interpretability.\\nVariance: The average squared deviation of each value from the mean. Reflects how spread out the data is.\\nUse: Provides a numerical measure of data spread, used for further statistical calculations (e.g., standard deviation).\\nStandard Deviation: The square root of the variance. Represents the average distance of each value from the mean.\\nUse: Standard unit of measurement for data spread, widely used in statistical tests and interpretations.\\nInterquartile Range (IQR): The difference between the third quartile (Q3) and the first quartile (Q1). Represents the middle 50% of data points.\\nUse: Robust measure of spread less sensitive to outliers, good for skewed distributions.\\nChoosing the Right Measure:\\n\\nThe most appropriate measure depends on your data type, analysis goals, and presence of outliers. Consider these factors:\\n\\nNormal distribution: If your data is normally distributed, mean and standard deviation are generally effective.\\nSkewed distributions: Median and IQR are more robust for skewed data.\\nPresence of outliers: Median and IQR are less affected by outliers than mean and standard deviation.\\nDesired information: Are you interested in a typical value (mean) or the center of the data (median)? Do you need to quantify spread (standard deviation) or just identify the range (IQR)?\\nBy understanding these measures and their characteristics, you can effectively describe your datasets, gain insights into their central tendencies and variations, and choose the right tools for further analysis.\\n'"
      ]
     },
     "execution_count": 20,
     "metadata": {},
     "output_type": "execute_result"
    }
   ],
   "source": [
    "'''\n",
    "When describing datasets, statisticians rely on two key sets of measures: central tendency and variability. Each offers valuable insights into the data's characteristics:\n",
    "\n",
    "Measures of Central Tendency:\n",
    "\n",
    "Mean (average): The sum of all values divided by the number of values. Reflects the \"typical\" value in the dataset, but can be skewed by outliers.\n",
    "Use: Suitable for normally distributed data and representing overall value.\n",
    "Median: The middle value when all values are arranged in order. Less sensitive to outliers than the mean.\n",
    "Use: Applicable to any data type, robust to outliers, good for skewed distributions.\n",
    "Mode: The most frequent value in the dataset. Identifies the value occurring most often.\n",
    "Use: Useful for identifying common values, but doesn't necessarily represent \"typical\" value.\n",
    "Measures of Variability:\n",
    "\n",
    "Range: The difference between the largest and smallest values. Simple measure, but sensitive to outliers.\n",
    "Use: Quick overview of data spread, but limited interpretability.\n",
    "Variance: The average squared deviation of each value from the mean. Reflects how spread out the data is.\n",
    "Use: Provides a numerical measure of data spread, used for further statistical calculations (e.g., standard deviation).\n",
    "Standard Deviation: The square root of the variance. Represents the average distance of each value from the mean.\n",
    "Use: Standard unit of measurement for data spread, widely used in statistical tests and interpretations.\n",
    "Interquartile Range (IQR): The difference between the third quartile (Q3) and the first quartile (Q1). Represents the middle 50% of data points.\n",
    "Use: Robust measure of spread less sensitive to outliers, good for skewed distributions.\n",
    "Choosing the Right Measure:\n",
    "\n",
    "The most appropriate measure depends on your data type, analysis goals, and presence of outliers. Consider these factors:\n",
    "\n",
    "Normal distribution: If your data is normally distributed, mean and standard deviation are generally effective.\n",
    "Skewed distributions: Median and IQR are more robust for skewed data.\n",
    "Presence of outliers: Median and IQR are less affected by outliers than mean and standard deviation.\n",
    "Desired information: Are you interested in a typical value (mean) or the center of the data (median)? Do you need to quantify spread (standard deviation) or just identify the range (IQR)?\n",
    "By understanding these measures and their characteristics, you can effectively describe your datasets, gain insights into their central tendencies and variations, and choose the right tools for further analysis.\n",
    "'''"
   ]
  },
  {
   "cell_type": "code",
   "execution_count": null,
   "id": "271c0728-96e8-4345-b657-abce832a7738",
   "metadata": {},
   "outputs": [],
   "source": []
  },
  {
   "cell_type": "code",
   "execution_count": null,
   "id": "f65f927b-195c-4d2a-aaef-463fa167a86a",
   "metadata": {},
   "outputs": [],
   "source": []
  }
 ],
 "metadata": {
  "kernelspec": {
   "display_name": "Python 3 (ipykernel)",
   "language": "python",
   "name": "python3"
  },
  "language_info": {
   "codemirror_mode": {
    "name": "ipython",
    "version": 3
   },
   "file_extension": ".py",
   "mimetype": "text/x-python",
   "name": "python",
   "nbconvert_exporter": "python",
   "pygments_lexer": "ipython3",
   "version": "3.10.8"
  }
 },
 "nbformat": 4,
 "nbformat_minor": 5
}
