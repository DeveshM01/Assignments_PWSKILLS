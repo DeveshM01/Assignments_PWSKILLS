{
 "cells": [
  {
   "cell_type": "markdown",
   "id": "e8aeeb1d-0ee6-42cd-b215-f15e382ccfae",
   "metadata": {},
   "source": [
    "08th Feb Assigment"
   ]
  },
  {
   "cell_type": "raw",
   "id": "5b014770-093d-4477-9d79-c8fe2bc34204",
   "metadata": {},
   "source": [
    "Q1. What is Abstraction in OOps? Explain with an example. \n"
   ]
  },
  {
   "cell_type": "raw",
   "id": "0446a24c-ad43-49d5-a1e9-59a8b49def68",
   "metadata": {},
   "source": [
    "Abstraction is a key concept in object-oriented programming (OOP) that focuses on representing essential features and behaviors of an object while hiding unnecessary details. It allows you to create abstract classes and interfaces that define the common structure and behavior of related objects without providing implementation details.\n",
    "\n",
    "In simpler terms, abstraction provides a way to create a simplified representation of complex real-world objects by focusing on what they do rather than how they do it.\n",
    "\n",
    "Example:\n",
    "Let's consider the concept of a vehicle. A vehicle can be a car, a bike, or a truck. These different types of vehicles share common characteristics and behaviors, such as having wheels, an engine, and the ability to move. However, the specific details and implementations can vary greatly for each type of vehicle.\n",
    "\n",
    "In this scenario, abstraction can be used to create an abstract class called \"Vehicle\" that defines the common structure and behavior of all vehicles. The abstract class may have properties like \"number of wheels\" and methods like \"start engine\" and \"move\". However, the abstract class doesn't provide the implementation details for these methods; it only defines their existence.\n",
    "\n",
    "Here's an example in Python:"
   ]
  },
  {
   "cell_type": "code",
   "execution_count": 1,
   "id": "ff3570ee-f070-4d9f-8ed6-68e8b10e3896",
   "metadata": {},
   "outputs": [
    {
     "name": "stdout",
     "output_type": "stream",
     "text": [
      "Car engine started.\n",
      "Car moving.\n",
      "Bike engine started.\n",
      "Bike moving.\n"
     ]
    }
   ],
   "source": [
    "from abc import ABC, abstractmethod\n",
    "\n",
    "class Vehicle(ABC):\n",
    "    @abstractmethod\n",
    "    def start_engine(self):\n",
    "        pass\n",
    "\n",
    "    @abstractmethod\n",
    "    def move(self):\n",
    "        pass\n",
    "\n",
    "class Car(Vehicle):\n",
    "    def start_engine(self):\n",
    "        print(\"Car engine started.\")\n",
    "\n",
    "    def move(self):\n",
    "        print(\"Car moving.\")\n",
    "\n",
    "class Bike(Vehicle):\n",
    "    def start_engine(self):\n",
    "        print(\"Bike engine started.\")\n",
    "\n",
    "    def move(self):\n",
    "        print(\"Bike moving.\")\n",
    "\n",
    "# Create instances of Car and Bike\n",
    "car = Car()\n",
    "bike = Bike()\n",
    "\n",
    "# Call the common methods\n",
    "car.start_engine()\n",
    "car.move()\n",
    "\n",
    "bike.start_engine()\n",
    "bike.move()\n"
   ]
  },
  {
   "cell_type": "raw",
   "id": "b8982260-d11e-45be-9875-df7ed554b8b1",
   "metadata": {},
   "source": [
    "Q2. Differentiate between Abstraction and Encapsulation. Explain with an example."
   ]
  },
  {
   "cell_type": "raw",
   "id": "37b3bcbd-29c2-4879-8beb-62f9545b6bc2",
   "metadata": {},
   "source": [
    "Abstraction and encapsulation are both important concepts in object-oriented programming (OOP), but they serve different purposes. Here's a comparison between abstraction and encapsulation, along with examples to illustrate their differences:\n",
    "\n",
    "Abstraction:\n",
    "\n",
    "Abstraction focuses on representing the essential features and behaviors of an object while hiding unnecessary details.\n",
    "It allows you to create abstract classes and interfaces that define the common structure and behavior of related objects without providing implementation details.\n",
    "Abstraction helps in creating a simplified and generalized view of complex real-world objects.\n",
    "It is more about defining what an object does rather than how it does it.\n",
    "Example of Abstraction:\n",
    "Let's consider the concept of a Shape. A shape can be a rectangle, a circle, or a triangle. These shapes share common properties and behaviors, such as having an area and a perimeter. However, the specific calculations and implementations of these properties may vary for each shape.\n",
    "\n",
    "In this case, abstraction can be used to create an abstract class called \"Shape\" that defines the common structure and behavior of all shapes. The abstract class may have abstract methods like \"calculate_area()\" and \"calculate_perimeter()\" that need to be implemented by each specific shape subclass. By doing this, we can define a common interface for shapes without specifying the implementation details.\n",
    "\n",
    "\n",
    "Encapsulation:\n",
    "\n",
    "Encapsulation is the practice of hiding internal details of an object and exposing only the necessary information and functionality through well-defined interfaces.\n",
    "It allows you to bundle related data and methods into a single unit, known as a class, and control access to that unit.\n",
    "Encapsulation helps in data hiding, reducing complexity, and maintaining the integrity of the object's state.\n",
    "Example of Encapsulation:\n",
    "Let's consider a class called \"BankAccount\" that represents a bank account. The bank account has properties like account number, account holder name, and balance. It also has methods like \"deposit()\" and \"withdraw()\" to interact with the account.\n",
    "\n",
    "In this case, encapsulation can be applied by making the properties of the bank account private (using access modifiers), so they are not directly accessible from outside the class. Instead, we provide public methods like \"get_balance()\" and \"make_withdrawal()\" to access and modify the account balance. This way, the internal details of the bank account are encapsulated, and we can control how the account is accessed and manipulated.\n",
    "\n"
   ]
  },
  {
   "cell_type": "raw",
   "id": "d62ddf76-5ae9-4d68-a66a-0a86142f672f",
   "metadata": {},
   "source": [
    "Q3. What is abc module in python? Why is it used? \n"
   ]
  },
  {
   "cell_type": "raw",
   "id": "58708fb1-604e-4a9f-9202-49eba213bc7c",
   "metadata": {},
   "source": [
    "\n",
    "The abc module in Python stands for \"Abstract Base Classes.\" It is a module that provides infrastructure for defining abstract base classes in Python.\n",
    "\n",
    "Abstract base classes (ABCs) are classes that cannot be instantiated directly but are meant to be subclassed by other classes. They define a common interface and establish a contract that the subclasses must follow. ABCs allow you to define a common structure and behavior that subclasses should adhere to, promoting code reusability and consistency.\n",
    "\n",
    "The abc module provides the ABC class, which is used as a base class for creating abstract base classes. It also provides decorators and functions that help in defining and registering abstract methods, enforcing the implementation of required methods in the subclasses.\n",
    "\n",
    "Here are a few reasons why the abc module is used:\n",
    "\n",
    "Defining interfaces: Abstract base classes define a common interface that subclasses should implement. This helps in creating a standardized API and promotes code interoperability.\n",
    "\n",
    "Enforcing method implementation: Abstract base classes can define abstract methods that must be implemented by the subclasses. This ensures that certain methods are present and implemented consistently across different subclasses.\n",
    "\n",
    "Type checking and documentation: Abstract base classes can be used to check if an object belongs to a specific type or if it conforms to a certain interface. This aids in type checking and improves code documentation by explicitly specifying the expected behavior of objects.\n",
    "\n",
    "Polymorphism: Abstract base classes allow for polymorphism, where objects of different classes that inherit from the same abstract base class can be treated interchangeably. This enables writing more generic code that can handle different implementations through a common interface.\n",
    "\n",
    "Code organization and structure: By using abstract base classes, you can create a clear hierarchy and structure for related classes, making the code more organized and easier to understand.\n",
    "\n",
    "Here's a simple example that demonstrates the usage of the abc module:"
   ]
  },
  {
   "cell_type": "code",
   "execution_count": 2,
   "id": "2ea76f82-1aa0-49d6-90af-ebb5f398b54e",
   "metadata": {},
   "outputs": [
    {
     "name": "stdout",
     "output_type": "stream",
     "text": [
      "15\n",
      "25.12\n"
     ]
    }
   ],
   "source": [
    "from abc import ABC, abstractmethod\n",
    "\n",
    "class Shape(ABC):\n",
    "    @abstractmethod\n",
    "    def area(self):\n",
    "        pass\n",
    "\n",
    "    @abstractmethod\n",
    "    def perimeter(self):\n",
    "        pass\n",
    "\n",
    "class Rectangle(Shape):\n",
    "    def __init__(self, length, width):\n",
    "        self.length = length\n",
    "        self.width = width\n",
    "\n",
    "    def area(self):\n",
    "        return self.length * self.width\n",
    "\n",
    "    def perimeter(self):\n",
    "        return 2 * (self.length + self.width)\n",
    "\n",
    "class Circle(Shape):\n",
    "    def __init__(self, radius):\n",
    "        self.radius = radius\n",
    "\n",
    "    def area(self):\n",
    "        return 3.14 * self.radius * self.radius\n",
    "\n",
    "    def perimeter(self):\n",
    "        return 2 * 3.14 * self.radius\n",
    "\n",
    "# Creating objects of subclasses\n",
    "rectangle = Rectangle(5, 3)\n",
    "circle = Circle(4)\n",
    "\n",
    "# Calling common methods\n",
    "print(rectangle.area())  # Output: 15\n",
    "print(circle.perimeter())  # Output: 25.12\n"
   ]
  },
  {
   "cell_type": "raw",
   "id": "db24676b-8f9d-4bc4-9d42-2d159baa0e17",
   "metadata": {},
   "source": [
    "Q4. How can we achieve data abstraction? "
   ]
  },
  {
   "cell_type": "raw",
   "id": "767d255e-7de0-401b-b1a2-adbf3fad1760",
   "metadata": {},
   "source": [
    "In Python, data abstraction can be achieved through the use of classes and objects. Here are the steps to achieve data abstraction:\n",
    "\n",
    "Define a Class: Start by defining a class that represents the abstract concept or entity you want to work with. The class should contain attributes (data) and methods (functions) that represent the behavior associated with the entity.\n",
    "\n",
    "Hide Implementation Details: Encapsulate the internal details of the class by making the attributes and methods private or protected. This hides the implementation details from the external world and allows access only through well-defined interfaces.\n",
    "\n",
    "Define Public Interfaces: Create public methods or properties that provide access to the underlying data or perform specific operations on the data. These public interfaces should be the only means of interacting with the class.\n",
    "\n",
    "Access Data through Public Interfaces: When using the class, access the data and perform operations only through the public interfaces defined in the class. This ensures that the internal implementation details remain hidden and the external code interacts with the class based on its abstraction.\n",
    "\n",
    "By following these steps, you achieve data abstraction because you're presenting a simplified and well-defined view of the data and behavior, while hiding the complex implementation details.\n",
    "\n",
    "Here's a simple example to illustrate data abstraction"
   ]
  },
  {
   "cell_type": "code",
   "execution_count": 3,
   "id": "fa11f394-10e8-4989-b361-2291e37d9926",
   "metadata": {},
   "outputs": [
    {
     "name": "stdout",
     "output_type": "stream",
     "text": [
      "1000\n",
      "1500\n",
      "1300\n",
      "Insufficient balance.\n"
     ]
    }
   ],
   "source": [
    "class BankAccount:\n",
    "    def __init__(self, account_number, balance):\n",
    "        self.__account_number = account_number\n",
    "        self.__balance = balance\n",
    "\n",
    "    def deposit(self, amount):\n",
    "        self.__balance += amount\n",
    "\n",
    "    def withdraw(self, amount):\n",
    "        if amount <= self.__balance:\n",
    "            self.__balance -= amount\n",
    "        else:\n",
    "            print(\"Insufficient balance.\")\n",
    "\n",
    "    def get_balance(self):\n",
    "        return self.__balance\n",
    "\n",
    "# Creating an instance of BankAccount\n",
    "account = BankAccount(\"1234567890\", 1000)\n",
    "\n",
    "# Accessing data through public interfaces\n",
    "print(account.get_balance())  # Output: 1000\n",
    "\n",
    "account.deposit(500)\n",
    "print(account.get_balance())  # Output: 1500\n",
    "\n",
    "account.withdraw(200)\n",
    "print(account.get_balance())  # Output: 1300\n",
    "\n",
    "account.withdraw(2000)  # Output: Insufficient balance.\n"
   ]
  },
  {
   "cell_type": "raw",
   "id": "281a4764-17a2-476b-aee3-645b68a9cf23",
   "metadata": {},
   "source": [
    "Q5. Can we create an instance of an abstract class? Explain your answer. "
   ]
  },
  {
   "cell_type": "raw",
   "id": "8bd7b103-a36b-4b95-9feb-d963fcf9a95e",
   "metadata": {},
   "source": [
    "No, we cannot create an instance of an abstract class in Python. Abstract classes are designed to be incomplete and serve as blueprints for other classes to inherit from. They are meant to define a common interface and provide a structure for subclasses to follow.\n",
    "\n",
    "Abstract classes in Python are created using the abc module and are typically defined by subclassing the ABC class and using the @abstractmethod decorator to mark certain methods as abstract.\n",
    "\n",
    "Attempting to create an instance of an abstract class directly will result in a TypeError being raised. This is because abstract classes are incomplete by design and may have abstract methods that lack implementation. Therefore, it doesn't make sense to create objects of such classes.\n",
    "\n",
    "Instead, the purpose of an abstract class is to be subclassed by other classes that provide concrete implementations for the abstract methods. Only the subclasses that provide complete implementations can be instantiated.\n",
    "\n",
    "Here's an example to demonstrate the inability to create an instance of an abstract class:"
   ]
  },
  {
   "cell_type": "code",
   "execution_count": 5,
   "id": "0ba184cf-6e18-47d1-a1c8-fbbe667d9a9e",
   "metadata": {},
   "outputs": [
    {
     "ename": "TypeError",
     "evalue": "Can't instantiate abstract class MyAbstractClass with abstract method my_abstract_method",
     "output_type": "error",
     "traceback": [
      "\u001b[0;31m---------------------------------------------------------------------------\u001b[0m",
      "\u001b[0;31mTypeError\u001b[0m                                 Traceback (most recent call last)",
      "Cell \u001b[0;32mIn[5], line 9\u001b[0m\n\u001b[1;32m      6\u001b[0m         \u001b[38;5;28;01mpass\u001b[39;00m\n\u001b[1;32m      8\u001b[0m \u001b[38;5;66;03m# Trying to create an instance of the abstract class\u001b[39;00m\n\u001b[0;32m----> 9\u001b[0m my_object \u001b[38;5;241m=\u001b[39m \u001b[43mMyAbstractClass\u001b[49m\u001b[43m(\u001b[49m\u001b[43m)\u001b[49m  \u001b[38;5;66;03m# Raises TypeError: Can't instantiate abstract class MyAbstractClass with abstract methods my_abstract_method\u001b[39;00m\n",
      "\u001b[0;31mTypeError\u001b[0m: Can't instantiate abstract class MyAbstractClass with abstract method my_abstract_method"
     ]
    }
   ],
   "source": [
    "from abc import ABC, abstractmethod\n",
    "\n",
    "class MyAbstractClass(ABC):\n",
    "    @abstractmethod\n",
    "    def my_abstract_method(self):\n",
    "        pass\n",
    "\n",
    "# Trying to create an instance of the abstract class\n",
    "my_object = MyAbstractClass()  # Raises TypeError: Can't instantiate abstract class MyAbstractClass with abstract methods my_abstract_method\n"
   ]
  },
  {
   "cell_type": "code",
   "execution_count": null,
   "id": "f4d40db7-fab7-436f-be4a-c70f4aaf822b",
   "metadata": {},
   "outputs": [],
   "source": []
  }
 ],
 "metadata": {
  "kernelspec": {
   "display_name": "Python 3 (ipykernel)",
   "language": "python",
   "name": "python3"
  },
  "language_info": {
   "codemirror_mode": {
    "name": "ipython",
    "version": 3
   },
   "file_extension": ".py",
   "mimetype": "text/x-python",
   "name": "python",
   "nbconvert_exporter": "python",
   "pygments_lexer": "ipython3",
   "version": "3.10.8"
  }
 },
 "nbformat": 4,
 "nbformat_minor": 5
}
